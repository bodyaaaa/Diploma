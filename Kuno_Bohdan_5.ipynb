{
 "cells": [
  {
   "cell_type": "markdown",
   "id": "eee3b85d-fe1a-41e2-9751-088e6f12b798",
   "metadata": {},
   "source": [
    "<center>\n",
    "    <img src=\"https://cf-courses-data.s3.us.cloud-object-storage.appdomain.cloud/assets/logos/SN_web_lightmode.png\" width=\"300\" alt=\"cognitiveclass.ai logo\">\n",
    "</center>\n",
    "\n",
    "# Forecasting of deaths from Heart Failure on medical measurement\n",
    "\n",
    "# Lab 5. Model Evaluation and Refinement"
   ]
  },
  {
   "cell_type": "markdown",
   "id": "817c3212-4170-4041-b501-fa47a48f0e1b",
   "metadata": {},
   "source": [
    "Estimated time needed: **30** minutes"
   ]
  },
  {
   "cell_type": "markdown",
   "id": "29dc8ae7-fc47-4aca-9e25-f1d8a3ccb8fc",
   "metadata": {},
   "source": [
    "## Abstract"
   ]
  },
  {
   "cell_type": "markdown",
   "id": "0b197a7c-c3e4-4aa3-aeaa-c72c46050256",
   "metadata": {},
   "source": [
    "This lab is dedicated to the study of machine learning classification methods. The goal is to determine the impact of different measurements on mortality rate of patients with heart failure."
   ]
  },
  {
   "cell_type": "markdown",
   "id": "3d3439ae-896f-47e4-950b-79edc9e71b4f",
   "metadata": {},
   "source": [
    "## Introduction"
   ]
  },
  {
   "cell_type": "markdown",
   "id": "a3246b39-8575-4784-a2c6-663170fbc635",
   "metadata": {},
   "source": [
    "The main problem to be solved in this lab is the classification of patients who died of heart failure.\n",
    "\n",
    "The peculiarities of classification analysis are that you must first correctly prepare a data set. In addition, today there are many different methods of classification. Each of them has its own characteristics and opportunities for analysis. An various classifiers are demonstrated in this lab, as well as join them with into ensemble. It is also demonstrated how all stages of training preparation and analysis can be combined with Pipeline."
   ]
  },
  {
   "cell_type": "markdown",
   "id": "6d508958-e237-4bfd-9ae6-ba991ca0807a",
   "metadata": {},
   "source": [
    "<div class=\"alert alert-block alert-info\" style=\"margin-top: 20px\">\n",
    "    <ol>\n",
    "        <li>Materials and methods\n",
    "            <ul>\n",
    "                <li>Prerequisites</li>\n",
    "            </ul>\n",
    "        </li>\n",
    "        <li>Import Libraries</li>\n",
    "        <li>Load the Dataset</li>\n",
    "        <li>Data pre-preparation</li>\n",
    "        <li>Pipiline Classification\n",
    "             <ul>\n",
    "                <li>RandomForestClassifier</li>\n",
    "                 <li>Cross-validation</li>\n",
    "                 <li>Accuracy</li>\n",
    "            </ul>\n",
    "        </li>\n",
    "         <li>Over-sampling proble</li>\n",
    "        <li>Ensemble of classifiers\n",
    "            <ul>\n",
    "                <li>Question 1</li>\n",
    "            </ul>\n",
    "        </li>\n",
    "        <li>Conclusions</li>\n",
    "        <li>Authors</li>\n",
    "    </ol>\n",
    "</div>"
   ]
  },
  {
   "cell_type": "markdown",
   "id": "c1aeb40c-bb8e-49c5-b1f5-465a356079a0",
   "metadata": {},
   "source": [
    "## Materials and methods"
   ]
  },
  {
   "cell_type": "markdown",
   "id": "8c7812db-763a-428f-bb8e-2ac3b911ec59",
   "metadata": {},
   "source": [
    "In this lab, we will learn how to download and pre-prepare data, classify and combine classifiers into an ensemble.\n",
    "This lab consists of the following steps:\n",
    "* Download data - download and display data from a file\n",
    "* Preliminary data preparation - preliminary analysis of data structure, change of data structure and tables\n",
    "* Pipeline classification - classification and analysis by grouping stages\n",
    "    * Logistic regression - classification and analysis of accuracy and errors using logistic regression\n",
    "    * Over-sampling problem - solve the problem of uneven distribution of data\n",
    "    * Ensemble of classifiers - study various classifiers and methods of combining them into an ensemble"
   ]
  },
  {
   "cell_type": "markdown",
   "id": "6ede8d15-22d6-4a3b-9a29-266f363cb8b4",
   "metadata": {},
   "source": [
    "The statistical data was obtained from the https://www.kaggle.com/datasets/asgharalikhan/mortality-rate-heart-patient-pakistan-hospital. This DataSet released under CC0: Public Domain license that allow of copy, modify, distribute and perform the work, even for commercial purposes, all without asking permission. "
   ]
  },
  {
   "cell_type": "markdown",
   "id": "261979ba-5ef3-4246-85ba-681873bf7c72",
   "metadata": {},
   "source": [
    "## Prerequisites\n",
    "* [Python](https://www.python.org) - middle level\n",
    "* [Pandas](https://pandas.pydata.org) - middle level \n",
    "* [Matplotlib](https://matplotlib.org) - basic level\n",
    "* [SeaBorn](https://seaborn.pydata.org) - basic level\n",
    "* [Scikit-Learn](https://scikit-learn.org/stable/) - middle level "
   ]
  },
  {
   "cell_type": "markdown",
   "id": "2ff971c5-0274-49c5-9d5a-61b61a143587",
   "metadata": {},
   "source": [
    "## Objectives"
   ]
  },
  {
   "cell_type": "markdown",
   "id": "af64cbe8-1440-49cb-b3af-e42ea374a3cc",
   "metadata": {},
   "source": [
    "After completing this lab, you will be able to:"
   ]
  },
  {
   "cell_type": "markdown",
   "id": "cbe88dc7-8f31-4a5b-8c04-8434c01b6b86",
   "metadata": {},
   "source": [
    "* Download DataSet from * .csv files\n",
    "* Conduct basic data analysis\n",
    "* Calculate new and change column types\n",
    "* Divide the DataSet into training and test\n",
    "* Use different machine learning classification methods\n",
    "* Combine classifiers into ensemble\n",
    "* Calculate accuracy and analyze errors\n",
    "* Combine all stages of data analysis with Pipeline"
   ]
  },
  {
   "cell_type": "markdown",
   "id": "7e2aadbb-f380-413b-956f-48dbbb57c6e7",
   "metadata": {},
   "source": [
    "## Import Libraries/Define Auxiliary Functions"
   ]
  },
  {
   "cell_type": "markdown",
   "id": "2303235a-a2c5-4dba-8ff4-a6a9d05f8b85",
   "metadata": {},
   "source": [
    "Libraries such as Pandas, MatplotLib, SeaBorn, Scikit-Learn, imbalanced-learn should be installed."
   ]
  },
  {
   "cell_type": "code",
   "execution_count": 1,
   "id": "870d3d62-d19f-4619-be7a-76fef5e6a4c8",
   "metadata": {},
   "outputs": [],
   "source": [
    "# conda install -c conda-forge pandas"
   ]
  },
  {
   "cell_type": "code",
   "execution_count": 2,
   "id": "740d4bff-baf1-4d0a-ad6c-656dfff6e54e",
   "metadata": {},
   "outputs": [],
   "source": [
    "# conda install -c conda-forge matplotlib"
   ]
  },
  {
   "cell_type": "code",
   "execution_count": 3,
   "id": "e374a8fa-8cef-41fa-a054-6e7fbf562949",
   "metadata": {},
   "outputs": [],
   "source": [
    "# conda install -c conda-forge seaborn "
   ]
  },
  {
   "cell_type": "code",
   "execution_count": 4,
   "id": "8552ffe7-1167-40d0-a180-981ea14de386",
   "metadata": {},
   "outputs": [],
   "source": [
    "# conda install -c intel scikit-learn"
   ]
  },
  {
   "cell_type": "code",
   "execution_count": 5,
   "id": "ee72b5dc-23f0-4fc1-96ed-b827e7704c02",
   "metadata": {},
   "outputs": [],
   "source": [
    "conda install -c conda-forge imbalanced-learn"
   ]
  },
  {
   "cell_type": "markdown",
   "id": "f5dc180f-2c5b-4ebf-b10f-168243465ff4",
   "metadata": {},
   "source": [
    "## Download data from a .csv file"
   ]
  },
  {
   "cell_type": "markdown",
   "id": "24a393ed-5869-479b-b661-f98ae7c2815e",
   "metadata": {},
   "source": [
    "Some libraries should be imported before you can begin."
   ]
  },
  {
   "cell_type": "code",
   "execution_count": 6,
   "id": "612ce530-def4-4403-a108-8570c7bd7785",
   "metadata": {},
   "outputs": [],
   "source": [
    "import pandas as pd\n",
    "import matplotlib.pyplot as plt\n",
    "import numpy as np\n",
    "import seaborn as sns\n",
    "from sklearn.preprocessing import OrdinalEncoder\n",
    "from sklearn.preprocessing import StandardScaler                         \n",
    "from sklearn.compose import make_column_transformer\n",
    "from sklearn import set_config\n",
    "from sklearn.model_selection import train_test_split\n",
    "from imblearn.pipeline import make_pipeline\n",
    "from sklearn.metrics import plot_confusion_matrix\n",
    "from imblearn.over_sampling import RandomOverSampler\n",
    "from sklearn.linear_model import LogisticRegression\n",
    "from sklearn.svm import SVC\n",
    "from sklearn.tree import DecisionTreeClassifier, ExtraTreeClassifier\n",
    "from sklearn.ensemble import RandomForestClassifier, AdaBoostClassifier\n",
    "from sklearn.neural_network import MLPClassifier\n",
    "from sklearn.ensemble import GradientBoostingClassifier\n",
    "from sklearn.ensemble import BaggingClassifier\n",
    "from sklearn.ensemble import VotingClassifier\n",
    "from sklearn.metrics import recall_score\n",
    "from sklearn.model_selection import cross_val_score\n",
    "from sklearn.model_selection import cross_val_predict"
   ]
  },
  {
   "cell_type": "markdown",
   "id": "3b6ecd75-59d6-4093-8fe8-bf54dfdf725e",
   "metadata": {},
   "source": [
    "Let's disable warnings by **[warnings.filterwarnings()](https://docs.python.org/3/library/warnings.html)**"
   ]
  },
  {
   "cell_type": "code",
   "execution_count": 7,
   "id": "265ab7cc-2ca6-4584-a35e-b7009f660bea",
   "metadata": {},
   "outputs": [],
   "source": [
    "import warnings\n",
    "warnings.filterwarnings('ignore')"
   ]
  },
  {
   "cell_type": "markdown",
   "id": "0a17ab66-4da9-4587-b33a-267859eb4c9a",
   "metadata": {},
   "source": [
    "Further specify the value of the precision parameter equal to 2 to display two decimal signs (instead of 6 as default) by and  **[pd.options.display](https://pandas.pydata.org/pandas-docs/stable/user_guide/options.html)**."
   ]
  },
  {
   "cell_type": "code",
   "execution_count": 8,
   "id": "2e0170fa-5630-4903-adb0-5cdffe588281",
   "metadata": {},
   "outputs": [],
   "source": [
    "pd.options.display.float_format = '{:.2f}'.format"
   ]
  },
  {
   "cell_type": "markdown",
   "id": "5e793495-15ad-4486-a559-b93c66185e3e",
   "metadata": {},
   "source": [
    "The next step is to download the data file from the repository by **[read_csv()](https://pandas.pydata.org/docs/reference/api/pandas.read_csv.html)**.\n",
    "\n",
    "We will use the same DataSet like in previous lab. Therefore next some steps will be the same."
   ]
  },
  {
   "cell_type": "code",
   "execution_count": 9,
   "id": "ec2df79b-c449-4e40-bf19-a1ca2778c02d",
   "metadata": {},
   "outputs": [],
   "source": [
    "df = pd.read_csv('https://cf-courses-data.s3.us.cloud-object-storage.appdomain.cloud/IBMSkillsNetwork-GPXX05QLEN/clean_df_new.csv')"
   ]
  },
  {
   "cell_type": "markdown",
   "id": "f1c0dbe4-c080-47c9-a45a-4c5fc59b8096",
   "metadata": {},
   "source": [
    "Now let's look at our DataSet."
   ]
  },
  {
   "cell_type": "code",
   "execution_count": 10,
   "id": "be7ed7be-5f39-46dc-950c-8f9c0f9ff88d",
   "metadata": {},
   "outputs": [
    {
     "data": {
      "text/html": [
       "<div>\n",
       "<style scoped>\n",
       "    .dataframe tbody tr th:only-of-type {\n",
       "        vertical-align: middle;\n",
       "    }\n",
       "\n",
       "    .dataframe tbody tr th {\n",
       "        vertical-align: top;\n",
       "    }\n",
       "\n",
       "    .dataframe thead th {\n",
       "        text-align: right;\n",
       "    }\n",
       "</style>\n",
       "<table border=\"1\" class=\"dataframe\">\n",
       "  <thead>\n",
       "    <tr style=\"text-align: right;\">\n",
       "      <th></th>\n",
       "      <th>Age Group</th>\n",
       "      <th>Marital Status</th>\n",
       "      <th>Lifestyle</th>\n",
       "      <th>Sleep</th>\n",
       "      <th>Category</th>\n",
       "      <th>Depression</th>\n",
       "      <th>Hyperlipidemia</th>\n",
       "      <th>Smoking</th>\n",
       "      <th>Diabetes</th>\n",
       "      <th>HTN</th>\n",
       "      <th>...</th>\n",
       "      <th>Vessels num</th>\n",
       "      <th>Thal</th>\n",
       "      <th>Num</th>\n",
       "      <th>Streptokinase</th>\n",
       "      <th>SK React</th>\n",
       "      <th>Mortality</th>\n",
       "      <th>Follow up</th>\n",
       "      <th>Max heart rate-binned</th>\n",
       "      <th>Gender-male</th>\n",
       "      <th>Locality-urban</th>\n",
       "    </tr>\n",
       "  </thead>\n",
       "  <tbody>\n",
       "    <tr>\n",
       "      <th>0</th>\n",
       "      <td>41-50</td>\n",
       "      <td>MARRIED</td>\n",
       "      <td>False</td>\n",
       "      <td>False</td>\n",
       "      <td>FREE</td>\n",
       "      <td>True</td>\n",
       "      <td>True</td>\n",
       "      <td>False</td>\n",
       "      <td>1</td>\n",
       "      <td>False</td>\n",
       "      <td>...</td>\n",
       "      <td>0</td>\n",
       "      <td>7</td>\n",
       "      <td>2</td>\n",
       "      <td>1</td>\n",
       "      <td>NO</td>\n",
       "      <td>0</td>\n",
       "      <td>60</td>\n",
       "      <td>Medium</td>\n",
       "      <td>0</td>\n",
       "      <td>0</td>\n",
       "    </tr>\n",
       "    <tr>\n",
       "      <th>1</th>\n",
       "      <td>51-60</td>\n",
       "      <td>MARRIED</td>\n",
       "      <td>False</td>\n",
       "      <td>False</td>\n",
       "      <td>FREE</td>\n",
       "      <td>True</td>\n",
       "      <td>True</td>\n",
       "      <td>False</td>\n",
       "      <td>0</td>\n",
       "      <td>False</td>\n",
       "      <td>...</td>\n",
       "      <td>0</td>\n",
       "      <td>7</td>\n",
       "      <td>2</td>\n",
       "      <td>1</td>\n",
       "      <td>NO</td>\n",
       "      <td>0</td>\n",
       "      <td>15</td>\n",
       "      <td>Medium</td>\n",
       "      <td>0</td>\n",
       "      <td>1</td>\n",
       "    </tr>\n",
       "    <tr>\n",
       "      <th>2</th>\n",
       "      <td>51-60</td>\n",
       "      <td>MARRIED</td>\n",
       "      <td>True</td>\n",
       "      <td>True</td>\n",
       "      <td>FREE</td>\n",
       "      <td>True</td>\n",
       "      <td>True</td>\n",
       "      <td>False</td>\n",
       "      <td>1</td>\n",
       "      <td>True</td>\n",
       "      <td>...</td>\n",
       "      <td>0</td>\n",
       "      <td>3</td>\n",
       "      <td>2</td>\n",
       "      <td>1</td>\n",
       "      <td>NO</td>\n",
       "      <td>0</td>\n",
       "      <td>6</td>\n",
       "      <td>Medium</td>\n",
       "      <td>0</td>\n",
       "      <td>0</td>\n",
       "    </tr>\n",
       "    <tr>\n",
       "      <th>3</th>\n",
       "      <td>51-60</td>\n",
       "      <td>MARRIED</td>\n",
       "      <td>True</td>\n",
       "      <td>True</td>\n",
       "      <td>FREE</td>\n",
       "      <td>True</td>\n",
       "      <td>True</td>\n",
       "      <td>False</td>\n",
       "      <td>1</td>\n",
       "      <td>True</td>\n",
       "      <td>...</td>\n",
       "      <td>1</td>\n",
       "      <td>7</td>\n",
       "      <td>3</td>\n",
       "      <td>1</td>\n",
       "      <td>NO</td>\n",
       "      <td>0</td>\n",
       "      <td>52</td>\n",
       "      <td>Medium</td>\n",
       "      <td>0</td>\n",
       "      <td>0</td>\n",
       "    </tr>\n",
       "    <tr>\n",
       "      <th>4</th>\n",
       "      <td>51-60</td>\n",
       "      <td>MARRIED</td>\n",
       "      <td>True</td>\n",
       "      <td>False</td>\n",
       "      <td>FREE</td>\n",
       "      <td>True</td>\n",
       "      <td>True</td>\n",
       "      <td>False</td>\n",
       "      <td>1</td>\n",
       "      <td>True</td>\n",
       "      <td>...</td>\n",
       "      <td>2</td>\n",
       "      <td>7</td>\n",
       "      <td>3</td>\n",
       "      <td>1</td>\n",
       "      <td>NO</td>\n",
       "      <td>0</td>\n",
       "      <td>34</td>\n",
       "      <td>Medium</td>\n",
       "      <td>0</td>\n",
       "      <td>0</td>\n",
       "    </tr>\n",
       "    <tr>\n",
       "      <th>...</th>\n",
       "      <td>...</td>\n",
       "      <td>...</td>\n",
       "      <td>...</td>\n",
       "      <td>...</td>\n",
       "      <td>...</td>\n",
       "      <td>...</td>\n",
       "      <td>...</td>\n",
       "      <td>...</td>\n",
       "      <td>...</td>\n",
       "      <td>...</td>\n",
       "      <td>...</td>\n",
       "      <td>...</td>\n",
       "      <td>...</td>\n",
       "      <td>...</td>\n",
       "      <td>...</td>\n",
       "      <td>...</td>\n",
       "      <td>...</td>\n",
       "      <td>...</td>\n",
       "      <td>...</td>\n",
       "      <td>...</td>\n",
       "      <td>...</td>\n",
       "    </tr>\n",
       "    <tr>\n",
       "      <th>363</th>\n",
       "      <td>51-60</td>\n",
       "      <td>MARRIED</td>\n",
       "      <td>False</td>\n",
       "      <td>False</td>\n",
       "      <td>FREE</td>\n",
       "      <td>True</td>\n",
       "      <td>False</td>\n",
       "      <td>False</td>\n",
       "      <td>0</td>\n",
       "      <td>True</td>\n",
       "      <td>...</td>\n",
       "      <td>0</td>\n",
       "      <td>7</td>\n",
       "      <td>3</td>\n",
       "      <td>0</td>\n",
       "      <td>BODY.PAIN</td>\n",
       "      <td>0</td>\n",
       "      <td>60</td>\n",
       "      <td>High</td>\n",
       "      <td>1</td>\n",
       "      <td>1</td>\n",
       "    </tr>\n",
       "    <tr>\n",
       "      <th>364</th>\n",
       "      <td>51-60</td>\n",
       "      <td>MARRIED</td>\n",
       "      <td>True</td>\n",
       "      <td>False</td>\n",
       "      <td>FREE</td>\n",
       "      <td>True</td>\n",
       "      <td>True</td>\n",
       "      <td>True</td>\n",
       "      <td>0</td>\n",
       "      <td>False</td>\n",
       "      <td>...</td>\n",
       "      <td>3</td>\n",
       "      <td>7</td>\n",
       "      <td>3</td>\n",
       "      <td>1</td>\n",
       "      <td>STOMACH.BLEEDING</td>\n",
       "      <td>0</td>\n",
       "      <td>36</td>\n",
       "      <td>Medium</td>\n",
       "      <td>1</td>\n",
       "      <td>0</td>\n",
       "    </tr>\n",
       "    <tr>\n",
       "      <th>365</th>\n",
       "      <td>51-60</td>\n",
       "      <td>MARRIED</td>\n",
       "      <td>False</td>\n",
       "      <td>False</td>\n",
       "      <td>FREE</td>\n",
       "      <td>True</td>\n",
       "      <td>True</td>\n",
       "      <td>False</td>\n",
       "      <td>1</td>\n",
       "      <td>True</td>\n",
       "      <td>...</td>\n",
       "      <td>3</td>\n",
       "      <td>3</td>\n",
       "      <td>1</td>\n",
       "      <td>1</td>\n",
       "      <td>COUGH.BLEEDING</td>\n",
       "      <td>0</td>\n",
       "      <td>32</td>\n",
       "      <td>Medium</td>\n",
       "      <td>1</td>\n",
       "      <td>1</td>\n",
       "    </tr>\n",
       "    <tr>\n",
       "      <th>366</th>\n",
       "      <td>51-60</td>\n",
       "      <td>MARRIED</td>\n",
       "      <td>False</td>\n",
       "      <td>False</td>\n",
       "      <td>FREE</td>\n",
       "      <td>True</td>\n",
       "      <td>True</td>\n",
       "      <td>True</td>\n",
       "      <td>0</td>\n",
       "      <td>True</td>\n",
       "      <td>...</td>\n",
       "      <td>0</td>\n",
       "      <td>7</td>\n",
       "      <td>4</td>\n",
       "      <td>1</td>\n",
       "      <td>COUGH.BLEEDING</td>\n",
       "      <td>0</td>\n",
       "      <td>32</td>\n",
       "      <td>Medium</td>\n",
       "      <td>1</td>\n",
       "      <td>1</td>\n",
       "    </tr>\n",
       "    <tr>\n",
       "      <th>367</th>\n",
       "      <td>41-50</td>\n",
       "      <td>MARRIED</td>\n",
       "      <td>True</td>\n",
       "      <td>False</td>\n",
       "      <td>FREE</td>\n",
       "      <td>True</td>\n",
       "      <td>True</td>\n",
       "      <td>True</td>\n",
       "      <td>0</td>\n",
       "      <td>True</td>\n",
       "      <td>...</td>\n",
       "      <td>1</td>\n",
       "      <td>7</td>\n",
       "      <td>1</td>\n",
       "      <td>1</td>\n",
       "      <td>BODY.PAIN</td>\n",
       "      <td>0</td>\n",
       "      <td>15</td>\n",
       "      <td>High</td>\n",
       "      <td>1</td>\n",
       "      <td>0</td>\n",
       "    </tr>\n",
       "  </tbody>\n",
       "</table>\n",
       "<p>368 rows × 47 columns</p>\n",
       "</div>"
      ],
      "text/plain": [
       "    Age Group Marital Status  Lifestyle  Sleep Category  Depression  \\\n",
       "0       41-50        MARRIED      False  False     FREE        True   \n",
       "1       51-60        MARRIED      False  False     FREE        True   \n",
       "2       51-60        MARRIED       True   True     FREE        True   \n",
       "3       51-60        MARRIED       True   True     FREE        True   \n",
       "4       51-60        MARRIED       True  False     FREE        True   \n",
       "..        ...            ...        ...    ...      ...         ...   \n",
       "363     51-60        MARRIED      False  False     FREE        True   \n",
       "364     51-60        MARRIED       True  False     FREE        True   \n",
       "365     51-60        MARRIED      False  False     FREE        True   \n",
       "366     51-60        MARRIED      False  False     FREE        True   \n",
       "367     41-50        MARRIED       True  False     FREE        True   \n",
       "\n",
       "     Hyperlipidemia  Smoking  Diabetes    HTN  ...  Vessels num  Thal  Num  \\\n",
       "0              True    False         1  False  ...            0     7    2   \n",
       "1              True    False         0  False  ...            0     7    2   \n",
       "2              True    False         1   True  ...            0     3    2   \n",
       "3              True    False         1   True  ...            1     7    3   \n",
       "4              True    False         1   True  ...            2     7    3   \n",
       "..              ...      ...       ...    ...  ...          ...   ...  ...   \n",
       "363           False    False         0   True  ...            0     7    3   \n",
       "364            True     True         0  False  ...            3     7    3   \n",
       "365            True    False         1   True  ...            3     3    1   \n",
       "366            True     True         0   True  ...            0     7    4   \n",
       "367            True     True         0   True  ...            1     7    1   \n",
       "\n",
       "     Streptokinase          SK React  Mortality  Follow up  \\\n",
       "0                1                NO          0         60   \n",
       "1                1                NO          0         15   \n",
       "2                1                NO          0          6   \n",
       "3                1                NO          0         52   \n",
       "4                1                NO          0         34   \n",
       "..             ...               ...        ...        ...   \n",
       "363              0         BODY.PAIN          0         60   \n",
       "364              1  STOMACH.BLEEDING          0         36   \n",
       "365              1    COUGH.BLEEDING          0         32   \n",
       "366              1    COUGH.BLEEDING          0         32   \n",
       "367              1         BODY.PAIN          0         15   \n",
       "\n",
       "     Max heart rate-binned  Gender-male  Locality-urban  \n",
       "0                   Medium            0               0  \n",
       "1                   Medium            0               1  \n",
       "2                   Medium            0               0  \n",
       "3                   Medium            0               0  \n",
       "4                   Medium            0               0  \n",
       "..                     ...          ...             ...  \n",
       "363                   High            1               1  \n",
       "364                 Medium            1               0  \n",
       "365                 Medium            1               1  \n",
       "366                 Medium            1               1  \n",
       "367                   High            1               0  \n",
       "\n",
       "[368 rows x 47 columns]"
      ]
     },
     "execution_count": 10,
     "metadata": {},
     "output_type": "execute_result"
    }
   ],
   "source": [
    "df"
   ]
  },
  {
   "cell_type": "markdown",
   "id": "e9c67820-c64a-48b8-b051-55cf970865ba",
   "metadata": {},
   "source": [
    "## Data investigation"
   ]
  },
  {
   "cell_type": "markdown",
   "id": "0198e3b3-30a8-48ce-9105-f2833fa54e4f",
   "metadata": {},
   "source": [
    "Let's study DataSet. As you can see DataSet consist 368 rows × 47 columns. As you can see DataSet consist information of different types. We should be sure that python recognized data types in right way. To do this we shoul use **[pandas.info()](https://pandas.pydata.org/docs/reference/api/pandas.DataFrame.info.html?highlight=info#pandas.DataFrame.info)**."
   ]
  },
  {
   "cell_type": "code",
   "execution_count": 11,
   "id": "8dff2090-0016-440b-8ee1-1fc7c13d661b",
   "metadata": {},
   "outputs": [
    {
     "name": "stdout",
     "output_type": "stream",
     "text": [
      "<class 'pandas.core.frame.DataFrame'>\n",
      "RangeIndex: 368 entries, 0 to 367\n",
      "Data columns (total 47 columns):\n",
      " #   Column                        Non-Null Count  Dtype  \n",
      "---  ------                        --------------  -----  \n",
      " 0   Age Group                     368 non-null    object \n",
      " 1   Marital Status                368 non-null    object \n",
      " 2   Lifestyle                     368 non-null    bool   \n",
      " 3   Sleep                         368 non-null    bool   \n",
      " 4   Category                      368 non-null    object \n",
      " 5   Depression                    368 non-null    bool   \n",
      " 6   Hyperlipidemia                368 non-null    bool   \n",
      " 7   Smoking                       368 non-null    bool   \n",
      " 8   Diabetes                      368 non-null    int64  \n",
      " 9   HTN                           368 non-null    bool   \n",
      " 10  Allergies                     368 non-null    bool   \n",
      " 11  BP                            368 non-null    float64\n",
      " 12  Thrombolysis                  368 non-null    int64  \n",
      " 13  BGR                           368 non-null    int64  \n",
      " 14  CPK                           368 non-null    int64  \n",
      " 15  ESR                           368 non-null    int64  \n",
      " 16  WBC                           368 non-null    int64  \n",
      " 17  RBC                           368 non-null    float64\n",
      " 18  Hemoglobin                    368 non-null    float64\n",
      " 19  MCH                           368 non-null    float64\n",
      " 20  MCHC                          368 non-null    float64\n",
      " 21  PlateletCount                 368 non-null    int64  \n",
      " 22  Lymphocyte                    368 non-null    float64\n",
      " 23  Monocyte                      368 non-null    float64\n",
      " 24  Eosinophil                    368 non-null    int64  \n",
      " 25  Others                        368 non-null    object \n",
      " 26  Diagnosis                     368 non-null    object \n",
      " 27  Hypersensitivity              368 non-null    bool   \n",
      " 28  Chest pain type               368 non-null    int64  \n",
      " 29  Resting BP                    368 non-null    float64\n",
      " 30  Serum cholesterol             368 non-null    float64\n",
      " 31  FBS                           368 non-null    int64  \n",
      " 32  Resting electrocardiographic  368 non-null    int64  \n",
      " 33  Max heart rate                368 non-null    int64  \n",
      " 34  Angina                        368 non-null    int64  \n",
      " 35  ST depression                 368 non-null    float64\n",
      " 36  Slope                         368 non-null    int64  \n",
      " 37  Vessels num                   368 non-null    int64  \n",
      " 38  Thal                          368 non-null    int64  \n",
      " 39  Num                           368 non-null    int64  \n",
      " 40  Streptokinase                 368 non-null    int64  \n",
      " 41  SK React                      368 non-null    object \n",
      " 42  Mortality                     368 non-null    int64  \n",
      " 43  Follow up                     368 non-null    int64  \n",
      " 44  Max heart rate-binned         368 non-null    object \n",
      " 45  Gender-male                   368 non-null    int64  \n",
      " 46  Locality-urban                368 non-null    int64  \n",
      "dtypes: bool(8), float64(10), int64(22), object(7)\n",
      "memory usage: 115.1+ KB\n"
     ]
    }
   ],
   "source": [
    "df.info()"
   ]
  },
  {
   "cell_type": "markdown",
   "id": "30499dac-7a60-4555-a30f-789279d858c3",
   "metadata": {},
   "source": [
    "<details>\n",
    "<summary><b>Click to see attribute information</b></summary>\n",
    "    \n",
    "Input features (column names):\n",
    "\n",
    "1. `Age Group` - patient age divided by groups (categorical)\n",
    "2. `Marital Status` - married or single (categorical)\n",
    "3. `Lifestyle` - does the patient have healthy lifestyle (boolean)\n",
    "4. `Sleep` - does the patient sleep enough?(boolean)\n",
    "5. `Category` paid or free treatment (categorical)\n",
    "6. `Depression` - does patient feel depressed? (boolean)\n",
    "7. `Hyperlipidemia` - an excess of lipids or fats in your blood (boolean)\n",
    "8. `Smoking` - does the patient smoke? (boolean)\n",
    "9. `Diabetes` - does the patient have diabetes? (binary)\n",
    "10. `HTN` - hypertension, also known as high blood pressure (boolean)\n",
    "11. `Allergies` - does the patient have allergies? (boolean)\n",
    "12. `BP` - blood pressure (float, normalized)\n",
    "13. `Thrombolysis` - uses medications or a minimally invasive procedure to break up blood clots and prevent new clots from forming (binary)\n",
    "14. `BGR` - blood glucose level (int)\n",
    "15. `CPK` - creatine phosphokinase level (int)\n",
    "16. `ESR` - erythrocyte sedimentation rate (int)\n",
    "17. `WBC` - white blood cells, also known as leukocytes (int)\n",
    "18. `RBC` - red blood cells, also known as erythrocytes (float)\n",
    "19. `Hemoglobin` - hemoglobin level (float)\n",
    "20. `MCH` - mean corpuscular hemoglobin or the average amount in each of red blood cells of a hemoglobin (float)\n",
    "21. `MCHC` - mean corpuscular hemoglobin concentration (float)\n",
    "22. `PlateletCount` - count of platelets or thrombocytes (int)\n",
    "23. `Lymphocyte` - share of lymphocytes in blood (float)\n",
    "24. `Monocyte` -  share of monocytes in blood (float)\n",
    "25. `Eosinophil` - count of eosinophils (int)\n",
    "26. `Others` - other diseases, that weren't mentioned (categorical)\n",
    "27. `Diagnosis` - what is the patient's diagnosis? (float)\n",
    "28. `Hypersensitivity` - does the patient have hypersensitivity? (boolean)\n",
    "29. `Chest pain type` - patient's chest pain stage (int)\n",
    "30. `Resting BP` - resting blood pressure (float)\n",
    "31. `Serum cholesterol` - amount of total cholesterol in their blood (float)\n",
    "32. `FBS` - fasting blood sugar > 120 mg/dl (binary)\n",
    "33. `Resting electrocardiographic` - resting electrocardiographic results (0 = normal; 1 = having ST-T; 2 = hypertrophy) (int)\n",
    "34. `Max heart rate` - patient's maximum heart rate achieved (int)\n",
    "35. `Angina` - does the patient have exercise induced angina (binary)\n",
    "36. `ST depression` - ST depression induced by exercise relative to rest (float)\n",
    "37. `Slope` - the slope of the peak exercise ST segment (1 = upsloping; 2 = flat; 3 = downsloping) (int)\n",
    "38. `Vessels num` - number of major vessels (0-3) colored by flourosopy (int)\n",
    "39. `Thal` - 3 = normal; 6 = fixed defect; 7 = reversable defect (int)\n",
    "40. `Num` -  diagnosis of heart disease (angiographic disease status) (int)\n",
    "41. `Streptokinase` - used to dissolve blood clots that have formed in the blood vessels. Does the patient take it? (binary)\n",
    "42. `SK React` - what is the reaction from streptokinase (categorical)\n",
    "43. `Follow up` - number of patient's visiting time (int)\n",
    "44. `Max heart rate-binned` - patient's maximum heart rate achieved - binned (from Lab2) (categorical)\n",
    "45. `Gender-male` - is the patient male (from Lab2)? (binary)\n",
    "46. `Locality-urban` - is the patient's locality urban (from Lab2)? (binary)\n",
    "\n",
    "Output feature (desired target):\n",
    "\n",
    "47. `Mortality` - did the patient die of heart failure? (binary)\n",
    "    \n",
    "    </details>"
   ]
  },
  {
   "cell_type": "markdown",
   "id": "61c52986-a27a-4fa5-b403-6ae0ed96883d",
   "metadata": {},
   "source": [
    "## Pipeline Classification"
   ]
  },
  {
   "cell_type": "markdown",
   "id": "4d8af89c-ea89-4500-bcfd-2f45401d07b6",
   "metadata": {},
   "source": [
    "### LogisticRegression"
   ]
  },
  {
   "cell_type": "markdown",
   "id": "d1915e22-819f-40c7-899f-3fad474daaa3",
   "metadata": {},
   "source": [
    "Before classification, the dataset must be divided into input and target factors."
   ]
  },
  {
   "cell_type": "code",
   "execution_count": 12,
   "id": "5fe53854-4c53-4497-a820-d71ba6b3b1d7",
   "metadata": {},
   "outputs": [],
   "source": [
    "x = df.drop(columns = ['Mortality'])"
   ]
  },
  {
   "cell_type": "code",
   "execution_count": 13,
   "id": "e99ba50e-1331-41bb-8a8a-d58252f0f9a9",
   "metadata": {},
   "outputs": [],
   "source": [
    "y = df['Mortality']"
   ]
  },
  {
   "cell_type": "code",
   "execution_count": 14,
   "id": "466851f3-eb38-400e-ae3e-7b982616d05b",
   "metadata": {},
   "outputs": [
    {
     "name": "stdout",
     "output_type": "stream",
     "text": [
      "<class 'pandas.core.frame.DataFrame'>\n",
      "RangeIndex: 368 entries, 0 to 367\n",
      "Data columns (total 46 columns):\n",
      " #   Column                        Non-Null Count  Dtype  \n",
      "---  ------                        --------------  -----  \n",
      " 0   Age Group                     368 non-null    object \n",
      " 1   Marital Status                368 non-null    object \n",
      " 2   Lifestyle                     368 non-null    bool   \n",
      " 3   Sleep                         368 non-null    bool   \n",
      " 4   Category                      368 non-null    object \n",
      " 5   Depression                    368 non-null    bool   \n",
      " 6   Hyperlipidemia                368 non-null    bool   \n",
      " 7   Smoking                       368 non-null    bool   \n",
      " 8   Diabetes                      368 non-null    int64  \n",
      " 9   HTN                           368 non-null    bool   \n",
      " 10  Allergies                     368 non-null    bool   \n",
      " 11  BP                            368 non-null    float64\n",
      " 12  Thrombolysis                  368 non-null    int64  \n",
      " 13  BGR                           368 non-null    int64  \n",
      " 14  CPK                           368 non-null    int64  \n",
      " 15  ESR                           368 non-null    int64  \n",
      " 16  WBC                           368 non-null    int64  \n",
      " 17  RBC                           368 non-null    float64\n",
      " 18  Hemoglobin                    368 non-null    float64\n",
      " 19  MCH                           368 non-null    float64\n",
      " 20  MCHC                          368 non-null    float64\n",
      " 21  PlateletCount                 368 non-null    int64  \n",
      " 22  Lymphocyte                    368 non-null    float64\n",
      " 23  Monocyte                      368 non-null    float64\n",
      " 24  Eosinophil                    368 non-null    int64  \n",
      " 25  Others                        368 non-null    object \n",
      " 26  Diagnosis                     368 non-null    object \n",
      " 27  Hypersensitivity              368 non-null    bool   \n",
      " 28  Chest pain type               368 non-null    int64  \n",
      " 29  Resting BP                    368 non-null    float64\n",
      " 30  Serum cholesterol             368 non-null    float64\n",
      " 31  FBS                           368 non-null    int64  \n",
      " 32  Resting electrocardiographic  368 non-null    int64  \n",
      " 33  Max heart rate                368 non-null    int64  \n",
      " 34  Angina                        368 non-null    int64  \n",
      " 35  ST depression                 368 non-null    float64\n",
      " 36  Slope                         368 non-null    int64  \n",
      " 37  Vessels num                   368 non-null    int64  \n",
      " 38  Thal                          368 non-null    int64  \n",
      " 39  Num                           368 non-null    int64  \n",
      " 40  Streptokinase                 368 non-null    int64  \n",
      " 41  SK React                      368 non-null    object \n",
      " 42  Follow up                     368 non-null    int64  \n",
      " 43  Max heart rate-binned         368 non-null    object \n",
      " 44  Gender-male                   368 non-null    int64  \n",
      " 45  Locality-urban                368 non-null    int64  \n",
      "dtypes: bool(8), float64(10), int64(21), object(7)\n",
      "memory usage: 112.2+ KB\n"
     ]
    }
   ],
   "source": [
    "x.info()"
   ]
  },
  {
   "cell_type": "markdown",
   "id": "852bf62d-dd39-4561-b4c6-8301d1fe1370",
   "metadata": {},
   "source": [
    "You can see the input data set consists from 46 columns.\n",
    "\n",
    "As you can see, 7 columns are objects, and all others are numerical and boolean. To make classification, all numerical fields must be normalized and categorical fields must be digitized. This can be automated using the **[sklearn.preprocessing.OrdinalEncoder()](https://scikit-learn.org/stable/modules/generated/sklearn.preprocessing.OrdinalEncoder.html)** and **[sklearn. preprocessing.StandardScaler()](https://scikit-learn.org/stable/modules/generated/sklearn.preprocessing.StandardScaler.html)**.\n",
    "\n",
    "Since the machine learning process consists of several steps, each of which has the function `fit`,` predict` and etc, we can combine all these stages into one block using `Pipeline` (**[sklearn.pipeline.make_pipeline()](https://scikit-learn.org/stable/modules/generated/sklearn.pipeline.make_pipeline.html)**), **[sklearn.compose.make_column_transformer()](https://scikit-learn.org/stable/modules/generated/sklearn.compose.make_column_transformer.html)** and visualize it with: **[sklearn.set_config()](https://scikit-learn.org/stable/modules/generated/sklearn.set_config.html)**."
   ]
  },
  {
   "cell_type": "code",
   "execution_count": 15,
   "id": "ade7629b-1f60-41d7-83cd-fc1cb33e9d31",
   "metadata": {},
   "outputs": [],
   "source": [
    "col_cat = list(x.select_dtypes(include=['object']).columns)\n",
    "col_num = list(x.select_dtypes(include=['float', 'int', 'bool']).columns)"
   ]
  },
  {
   "cell_type": "code",
   "execution_count": 16,
   "id": "9a364b89-01c0-472d-bfa3-adb1a0442d9c",
   "metadata": {},
   "outputs": [
    {
     "data": {
      "text/html": [
       "<style>#sk-container-id-1 {color: black;background-color: white;}#sk-container-id-1 pre{padding: 0;}#sk-container-id-1 div.sk-toggleable {background-color: white;}#sk-container-id-1 label.sk-toggleable__label {cursor: pointer;display: block;width: 100%;margin-bottom: 0;padding: 0.3em;box-sizing: border-box;text-align: center;}#sk-container-id-1 label.sk-toggleable__label-arrow:before {content: \"▸\";float: left;margin-right: 0.25em;color: #696969;}#sk-container-id-1 label.sk-toggleable__label-arrow:hover:before {color: black;}#sk-container-id-1 div.sk-estimator:hover label.sk-toggleable__label-arrow:before {color: black;}#sk-container-id-1 div.sk-toggleable__content {max-height: 0;max-width: 0;overflow: hidden;text-align: left;background-color: #f0f8ff;}#sk-container-id-1 div.sk-toggleable__content pre {margin: 0.2em;color: black;border-radius: 0.25em;background-color: #f0f8ff;}#sk-container-id-1 input.sk-toggleable__control:checked~div.sk-toggleable__content {max-height: 200px;max-width: 100%;overflow: auto;}#sk-container-id-1 input.sk-toggleable__control:checked~label.sk-toggleable__label-arrow:before {content: \"▾\";}#sk-container-id-1 div.sk-estimator input.sk-toggleable__control:checked~label.sk-toggleable__label {background-color: #d4ebff;}#sk-container-id-1 div.sk-label input.sk-toggleable__control:checked~label.sk-toggleable__label {background-color: #d4ebff;}#sk-container-id-1 input.sk-hidden--visually {border: 0;clip: rect(1px 1px 1px 1px);clip: rect(1px, 1px, 1px, 1px);height: 1px;margin: -1px;overflow: hidden;padding: 0;position: absolute;width: 1px;}#sk-container-id-1 div.sk-estimator {font-family: monospace;background-color: #f0f8ff;border: 1px dotted black;border-radius: 0.25em;box-sizing: border-box;margin-bottom: 0.5em;}#sk-container-id-1 div.sk-estimator:hover {background-color: #d4ebff;}#sk-container-id-1 div.sk-parallel-item::after {content: \"\";width: 100%;border-bottom: 1px solid gray;flex-grow: 1;}#sk-container-id-1 div.sk-label:hover label.sk-toggleable__label {background-color: #d4ebff;}#sk-container-id-1 div.sk-serial::before {content: \"\";position: absolute;border-left: 1px solid gray;box-sizing: border-box;top: 0;bottom: 0;left: 50%;z-index: 0;}#sk-container-id-1 div.sk-serial {display: flex;flex-direction: column;align-items: center;background-color: white;padding-right: 0.2em;padding-left: 0.2em;position: relative;}#sk-container-id-1 div.sk-item {position: relative;z-index: 1;}#sk-container-id-1 div.sk-parallel {display: flex;align-items: stretch;justify-content: center;background-color: white;position: relative;}#sk-container-id-1 div.sk-item::before, #sk-container-id-1 div.sk-parallel-item::before {content: \"\";position: absolute;border-left: 1px solid gray;box-sizing: border-box;top: 0;bottom: 0;left: 50%;z-index: -1;}#sk-container-id-1 div.sk-parallel-item {display: flex;flex-direction: column;z-index: 1;position: relative;background-color: white;}#sk-container-id-1 div.sk-parallel-item:first-child::after {align-self: flex-end;width: 50%;}#sk-container-id-1 div.sk-parallel-item:last-child::after {align-self: flex-start;width: 50%;}#sk-container-id-1 div.sk-parallel-item:only-child::after {width: 0;}#sk-container-id-1 div.sk-dashed-wrapped {border: 1px dashed gray;margin: 0 0.4em 0.5em 0.4em;box-sizing: border-box;padding-bottom: 0.4em;background-color: white;}#sk-container-id-1 div.sk-label label {font-family: monospace;font-weight: bold;display: inline-block;line-height: 1.2em;}#sk-container-id-1 div.sk-label-container {text-align: center;}#sk-container-id-1 div.sk-container {/* jupyter's `normalize.less` sets `[hidden] { display: none; }` but bootstrap.min.css set `[hidden] { display: none !important; }` so we also need the `!important` here to be able to override the default hidden behavior on the sphinx rendered scikit-learn.org. See: https://github.com/scikit-learn/scikit-learn/issues/21755 */display: inline-block !important;position: relative;}#sk-container-id-1 div.sk-text-repr-fallback {display: none;}</style><div id=\"sk-container-id-1\" class=\"sk-top-container\"><div class=\"sk-text-repr-fallback\"><pre>ColumnTransformer(remainder=&#x27;passthrough&#x27;,\n",
       "                  transformers=[(&#x27;ordinalencoder&#x27;,\n",
       "                                 OrdinalEncoder(handle_unknown=&#x27;use_encoded_value&#x27;,\n",
       "                                                unknown_value=-1),\n",
       "                                 [&#x27;Age Group&#x27;, &#x27;Marital Status&#x27;, &#x27;Category&#x27;,\n",
       "                                  &#x27;Others&#x27;, &#x27;Diagnosis&#x27;, &#x27;SK React&#x27;,\n",
       "                                  &#x27;Max heart rate-binned&#x27;]),\n",
       "                                (&#x27;standardscaler&#x27;, StandardScaler(),\n",
       "                                 [&#x27;Lifestyle&#x27;, &#x27;Sleep&#x27;, &#x27;Depression&#x27;,\n",
       "                                  &#x27;Hyperlipidemia&#x27;, &#x27;Smoking&#x27;, &#x27;Diabetes&#x27;,\n",
       "                                  &#x27;HTN&#x27;, &#x27;Allergies&#x27;, &#x27;BP&#x27;, &#x27;Thrombolysis&#x27;,\n",
       "                                  &#x27;BGR&#x27;, &#x27;CPK&#x27;, &#x27;ESR&#x27;, &#x27;WBC&#x27;, &#x27;RBC&#x27;,\n",
       "                                  &#x27;Hemoglobin&#x27;, &#x27;MCH&#x27;, &#x27;MCHC&#x27;, &#x27;PlateletCount&#x27;,\n",
       "                                  &#x27;Lymphocyte&#x27;, &#x27;Monocyte&#x27;, &#x27;Eosinophil&#x27;,\n",
       "                                  &#x27;Hypersensitivity&#x27;, &#x27;Chest pain type&#x27;,\n",
       "                                  &#x27;Resting BP&#x27;, &#x27;Serum cholesterol&#x27;, &#x27;FBS&#x27;,\n",
       "                                  &#x27;Resting electrocardiographic&#x27;,\n",
       "                                  &#x27;Max heart rate&#x27;, &#x27;Angina&#x27;, ...])])</pre><b>In a Jupyter environment, please rerun this cell to show the HTML representation or trust the notebook. <br />On GitHub, the HTML representation is unable to render, please try loading this page with nbviewer.org.</b></div><div class=\"sk-container\" hidden><div class=\"sk-item sk-dashed-wrapped\"><div class=\"sk-label-container\"><div class=\"sk-label sk-toggleable\"><input class=\"sk-toggleable__control sk-hidden--visually\" id=\"sk-estimator-id-1\" type=\"checkbox\" ><label for=\"sk-estimator-id-1\" class=\"sk-toggleable__label sk-toggleable__label-arrow\">ColumnTransformer</label><div class=\"sk-toggleable__content\"><pre>ColumnTransformer(remainder=&#x27;passthrough&#x27;,\n",
       "                  transformers=[(&#x27;ordinalencoder&#x27;,\n",
       "                                 OrdinalEncoder(handle_unknown=&#x27;use_encoded_value&#x27;,\n",
       "                                                unknown_value=-1),\n",
       "                                 [&#x27;Age Group&#x27;, &#x27;Marital Status&#x27;, &#x27;Category&#x27;,\n",
       "                                  &#x27;Others&#x27;, &#x27;Diagnosis&#x27;, &#x27;SK React&#x27;,\n",
       "                                  &#x27;Max heart rate-binned&#x27;]),\n",
       "                                (&#x27;standardscaler&#x27;, StandardScaler(),\n",
       "                                 [&#x27;Lifestyle&#x27;, &#x27;Sleep&#x27;, &#x27;Depression&#x27;,\n",
       "                                  &#x27;Hyperlipidemia&#x27;, &#x27;Smoking&#x27;, &#x27;Diabetes&#x27;,\n",
       "                                  &#x27;HTN&#x27;, &#x27;Allergies&#x27;, &#x27;BP&#x27;, &#x27;Thrombolysis&#x27;,\n",
       "                                  &#x27;BGR&#x27;, &#x27;CPK&#x27;, &#x27;ESR&#x27;, &#x27;WBC&#x27;, &#x27;RBC&#x27;,\n",
       "                                  &#x27;Hemoglobin&#x27;, &#x27;MCH&#x27;, &#x27;MCHC&#x27;, &#x27;PlateletCount&#x27;,\n",
       "                                  &#x27;Lymphocyte&#x27;, &#x27;Monocyte&#x27;, &#x27;Eosinophil&#x27;,\n",
       "                                  &#x27;Hypersensitivity&#x27;, &#x27;Chest pain type&#x27;,\n",
       "                                  &#x27;Resting BP&#x27;, &#x27;Serum cholesterol&#x27;, &#x27;FBS&#x27;,\n",
       "                                  &#x27;Resting electrocardiographic&#x27;,\n",
       "                                  &#x27;Max heart rate&#x27;, &#x27;Angina&#x27;, ...])])</pre></div></div></div><div class=\"sk-parallel\"><div class=\"sk-parallel-item\"><div class=\"sk-item\"><div class=\"sk-label-container\"><div class=\"sk-label sk-toggleable\"><input class=\"sk-toggleable__control sk-hidden--visually\" id=\"sk-estimator-id-2\" type=\"checkbox\" ><label for=\"sk-estimator-id-2\" class=\"sk-toggleable__label sk-toggleable__label-arrow\">ordinalencoder</label><div class=\"sk-toggleable__content\"><pre>[&#x27;Age Group&#x27;, &#x27;Marital Status&#x27;, &#x27;Category&#x27;, &#x27;Others&#x27;, &#x27;Diagnosis&#x27;, &#x27;SK React&#x27;, &#x27;Max heart rate-binned&#x27;]</pre></div></div></div><div class=\"sk-serial\"><div class=\"sk-item\"><div class=\"sk-estimator sk-toggleable\"><input class=\"sk-toggleable__control sk-hidden--visually\" id=\"sk-estimator-id-3\" type=\"checkbox\" ><label for=\"sk-estimator-id-3\" class=\"sk-toggleable__label sk-toggleable__label-arrow\">OrdinalEncoder</label><div class=\"sk-toggleable__content\"><pre>OrdinalEncoder(handle_unknown=&#x27;use_encoded_value&#x27;, unknown_value=-1)</pre></div></div></div></div></div></div><div class=\"sk-parallel-item\"><div class=\"sk-item\"><div class=\"sk-label-container\"><div class=\"sk-label sk-toggleable\"><input class=\"sk-toggleable__control sk-hidden--visually\" id=\"sk-estimator-id-4\" type=\"checkbox\" ><label for=\"sk-estimator-id-4\" class=\"sk-toggleable__label sk-toggleable__label-arrow\">standardscaler</label><div class=\"sk-toggleable__content\"><pre>[&#x27;Lifestyle&#x27;, &#x27;Sleep&#x27;, &#x27;Depression&#x27;, &#x27;Hyperlipidemia&#x27;, &#x27;Smoking&#x27;, &#x27;Diabetes&#x27;, &#x27;HTN&#x27;, &#x27;Allergies&#x27;, &#x27;BP&#x27;, &#x27;Thrombolysis&#x27;, &#x27;BGR&#x27;, &#x27;CPK&#x27;, &#x27;ESR&#x27;, &#x27;WBC&#x27;, &#x27;RBC&#x27;, &#x27;Hemoglobin&#x27;, &#x27;MCH&#x27;, &#x27;MCHC&#x27;, &#x27;PlateletCount&#x27;, &#x27;Lymphocyte&#x27;, &#x27;Monocyte&#x27;, &#x27;Eosinophil&#x27;, &#x27;Hypersensitivity&#x27;, &#x27;Chest pain type&#x27;, &#x27;Resting BP&#x27;, &#x27;Serum cholesterol&#x27;, &#x27;FBS&#x27;, &#x27;Resting electrocardiographic&#x27;, &#x27;Max heart rate&#x27;, &#x27;Angina&#x27;, &#x27;ST depression&#x27;, &#x27;Slope&#x27;, &#x27;Vessels num&#x27;, &#x27;Thal&#x27;, &#x27;Num&#x27;, &#x27;Streptokinase&#x27;, &#x27;Follow up&#x27;, &#x27;Gender-male&#x27;, &#x27;Locality-urban&#x27;]</pre></div></div></div><div class=\"sk-serial\"><div class=\"sk-item\"><div class=\"sk-estimator sk-toggleable\"><input class=\"sk-toggleable__control sk-hidden--visually\" id=\"sk-estimator-id-5\" type=\"checkbox\" ><label for=\"sk-estimator-id-5\" class=\"sk-toggleable__label sk-toggleable__label-arrow\">StandardScaler</label><div class=\"sk-toggleable__content\"><pre>StandardScaler()</pre></div></div></div></div></div></div><div class=\"sk-parallel-item\"><div class=\"sk-item\"><div class=\"sk-label-container\"><div class=\"sk-label sk-toggleable\"><input class=\"sk-toggleable__control sk-hidden--visually\" id=\"sk-estimator-id-6\" type=\"checkbox\" ><label for=\"sk-estimator-id-6\" class=\"sk-toggleable__label sk-toggleable__label-arrow\">remainder</label><div class=\"sk-toggleable__content\"><pre></pre></div></div></div><div class=\"sk-serial\"><div class=\"sk-item\"><div class=\"sk-estimator sk-toggleable\"><input class=\"sk-toggleable__control sk-hidden--visually\" id=\"sk-estimator-id-7\" type=\"checkbox\" ><label for=\"sk-estimator-id-7\" class=\"sk-toggleable__label sk-toggleable__label-arrow\">passthrough</label><div class=\"sk-toggleable__content\"><pre>passthrough</pre></div></div></div></div></div></div></div></div></div></div>"
      ],
      "text/plain": [
       "ColumnTransformer(remainder='passthrough',\n",
       "                  transformers=[('ordinalencoder',\n",
       "                                 OrdinalEncoder(handle_unknown='use_encoded_value',\n",
       "                                                unknown_value=-1),\n",
       "                                 ['Age Group', 'Marital Status', 'Category',\n",
       "                                  'Others', 'Diagnosis', 'SK React',\n",
       "                                  'Max heart rate-binned']),\n",
       "                                ('standardscaler', StandardScaler(),\n",
       "                                 ['Lifestyle', 'Sleep', 'Depression',\n",
       "                                  'Hyperlipidemia', 'Smoking', 'Diabetes',\n",
       "                                  'HTN', 'Allergies', 'BP', 'Thrombolysis',\n",
       "                                  'BGR', 'CPK', 'ESR', 'WBC', 'RBC',\n",
       "                                  'Hemoglobin', 'MCH', 'MCHC', 'PlateletCount',\n",
       "                                  'Lymphocyte', 'Monocyte', 'Eosinophil',\n",
       "                                  'Hypersensitivity', 'Chest pain type',\n",
       "                                  'Resting BP', 'Serum cholesterol', 'FBS',\n",
       "                                  'Resting electrocardiographic',\n",
       "                                  'Max heart rate', 'Angina', ...])])"
      ]
     },
     "execution_count": 16,
     "metadata": {},
     "output_type": "execute_result"
    }
   ],
   "source": [
    "trans = make_column_transformer((OrdinalEncoder(handle_unknown='use_encoded_value', unknown_value=-1),col_cat),\n",
    "                                (StandardScaler(),col_num),\n",
    "                                remainder = 'passthrough')\n",
    "set_config(display = 'diagram')\n",
    "trans"
   ]
  },
  {
   "cell_type": "markdown",
   "id": "116e20c1-61fb-4bc0-949e-5108a207b815",
   "metadata": {},
   "source": [
    "Next we must separate DataSets for train and test DataSets for calculate accuracy of models. To do this we can use **[sklearn.model_selection.train_test_split()](https://scikit-learn.org/stable/modules/generated/sklearn.model_selection.train_test_split.html)**. Let's separate DataSets in 0.3 proportion train/test"
   ]
  },
  {
   "cell_type": "code",
   "execution_count": 17,
   "id": "2924814f-6399-485b-9cc8-d4f2db22ce2d",
   "metadata": {},
   "outputs": [],
   "source": [
    "x_train,x_test,y_train,y_test = train_test_split(x,y,test_size = 0.3, shuffle=False)"
   ]
  },
  {
   "cell_type": "code",
   "execution_count": 18,
   "id": "7c360850-179a-4cc3-8a28-9ffa533ffad2",
   "metadata": {},
   "outputs": [
    {
     "data": {
      "text/plain": [
       "(257, 46)"
      ]
     },
     "execution_count": 18,
     "metadata": {},
     "output_type": "execute_result"
    }
   ],
   "source": [
    "x_train.shape"
   ]
  },
  {
   "cell_type": "code",
   "execution_count": 19,
   "id": "47e60023-d9e0-4181-9731-7fd3253faf72",
   "metadata": {},
   "outputs": [
    {
     "data": {
      "text/plain": [
       "(111, 46)"
      ]
     },
     "execution_count": 19,
     "metadata": {},
     "output_type": "execute_result"
    }
   ],
   "source": [
    "x_test.shape"
   ]
  },
  {
   "cell_type": "markdown",
   "id": "0fc181a6-0515-413a-8259-3afa7ee339fc",
   "metadata": {},
   "source": [
    "Nowe let's create a logistic regression model (**[sklearn.linear_model.LogisticRegression()](https://scikit-learn.org/stable/modules/generated/sklearn.linear_model.LogisticRegression.html)**) and add it to our `Pipeline`."
   ]
  },
  {
   "cell_type": "code",
   "execution_count": 20,
   "id": "3e62e47c-a807-4e05-a1de-f84e750ffbeb",
   "metadata": {},
   "outputs": [],
   "source": [
    "lr = LogisticRegression()\n",
    "pipe_lr = make_pipeline(trans ,lr)"
   ]
  },
  {
   "cell_type": "markdown",
   "id": "2cca07be-b29a-43eb-b6b5-d37291925491",
   "metadata": {},
   "source": [
    "Let's fit our model."
   ]
  },
  {
   "cell_type": "code",
   "execution_count": 21,
   "id": "3e75014f-85b9-49eb-8b3a-1bd1834ac298",
   "metadata": {},
   "outputs": [
    {
     "data": {
      "text/html": [
       "<style>#sk-container-id-2 {color: black;background-color: white;}#sk-container-id-2 pre{padding: 0;}#sk-container-id-2 div.sk-toggleable {background-color: white;}#sk-container-id-2 label.sk-toggleable__label {cursor: pointer;display: block;width: 100%;margin-bottom: 0;padding: 0.3em;box-sizing: border-box;text-align: center;}#sk-container-id-2 label.sk-toggleable__label-arrow:before {content: \"▸\";float: left;margin-right: 0.25em;color: #696969;}#sk-container-id-2 label.sk-toggleable__label-arrow:hover:before {color: black;}#sk-container-id-2 div.sk-estimator:hover label.sk-toggleable__label-arrow:before {color: black;}#sk-container-id-2 div.sk-toggleable__content {max-height: 0;max-width: 0;overflow: hidden;text-align: left;background-color: #f0f8ff;}#sk-container-id-2 div.sk-toggleable__content pre {margin: 0.2em;color: black;border-radius: 0.25em;background-color: #f0f8ff;}#sk-container-id-2 input.sk-toggleable__control:checked~div.sk-toggleable__content {max-height: 200px;max-width: 100%;overflow: auto;}#sk-container-id-2 input.sk-toggleable__control:checked~label.sk-toggleable__label-arrow:before {content: \"▾\";}#sk-container-id-2 div.sk-estimator input.sk-toggleable__control:checked~label.sk-toggleable__label {background-color: #d4ebff;}#sk-container-id-2 div.sk-label input.sk-toggleable__control:checked~label.sk-toggleable__label {background-color: #d4ebff;}#sk-container-id-2 input.sk-hidden--visually {border: 0;clip: rect(1px 1px 1px 1px);clip: rect(1px, 1px, 1px, 1px);height: 1px;margin: -1px;overflow: hidden;padding: 0;position: absolute;width: 1px;}#sk-container-id-2 div.sk-estimator {font-family: monospace;background-color: #f0f8ff;border: 1px dotted black;border-radius: 0.25em;box-sizing: border-box;margin-bottom: 0.5em;}#sk-container-id-2 div.sk-estimator:hover {background-color: #d4ebff;}#sk-container-id-2 div.sk-parallel-item::after {content: \"\";width: 100%;border-bottom: 1px solid gray;flex-grow: 1;}#sk-container-id-2 div.sk-label:hover label.sk-toggleable__label {background-color: #d4ebff;}#sk-container-id-2 div.sk-serial::before {content: \"\";position: absolute;border-left: 1px solid gray;box-sizing: border-box;top: 0;bottom: 0;left: 50%;z-index: 0;}#sk-container-id-2 div.sk-serial {display: flex;flex-direction: column;align-items: center;background-color: white;padding-right: 0.2em;padding-left: 0.2em;position: relative;}#sk-container-id-2 div.sk-item {position: relative;z-index: 1;}#sk-container-id-2 div.sk-parallel {display: flex;align-items: stretch;justify-content: center;background-color: white;position: relative;}#sk-container-id-2 div.sk-item::before, #sk-container-id-2 div.sk-parallel-item::before {content: \"\";position: absolute;border-left: 1px solid gray;box-sizing: border-box;top: 0;bottom: 0;left: 50%;z-index: -1;}#sk-container-id-2 div.sk-parallel-item {display: flex;flex-direction: column;z-index: 1;position: relative;background-color: white;}#sk-container-id-2 div.sk-parallel-item:first-child::after {align-self: flex-end;width: 50%;}#sk-container-id-2 div.sk-parallel-item:last-child::after {align-self: flex-start;width: 50%;}#sk-container-id-2 div.sk-parallel-item:only-child::after {width: 0;}#sk-container-id-2 div.sk-dashed-wrapped {border: 1px dashed gray;margin: 0 0.4em 0.5em 0.4em;box-sizing: border-box;padding-bottom: 0.4em;background-color: white;}#sk-container-id-2 div.sk-label label {font-family: monospace;font-weight: bold;display: inline-block;line-height: 1.2em;}#sk-container-id-2 div.sk-label-container {text-align: center;}#sk-container-id-2 div.sk-container {/* jupyter's `normalize.less` sets `[hidden] { display: none; }` but bootstrap.min.css set `[hidden] { display: none !important; }` so we also need the `!important` here to be able to override the default hidden behavior on the sphinx rendered scikit-learn.org. See: https://github.com/scikit-learn/scikit-learn/issues/21755 */display: inline-block !important;position: relative;}#sk-container-id-2 div.sk-text-repr-fallback {display: none;}</style><div id=\"sk-container-id-2\" class=\"sk-top-container\"><div class=\"sk-text-repr-fallback\"><pre>Pipeline(steps=[(&#x27;columntransformer&#x27;,\n",
       "                 ColumnTransformer(remainder=&#x27;passthrough&#x27;,\n",
       "                                   transformers=[(&#x27;ordinalencoder&#x27;,\n",
       "                                                  OrdinalEncoder(handle_unknown=&#x27;use_encoded_value&#x27;,\n",
       "                                                                 unknown_value=-1),\n",
       "                                                  [&#x27;Age Group&#x27;,\n",
       "                                                   &#x27;Marital Status&#x27;, &#x27;Category&#x27;,\n",
       "                                                   &#x27;Others&#x27;, &#x27;Diagnosis&#x27;,\n",
       "                                                   &#x27;SK React&#x27;,\n",
       "                                                   &#x27;Max heart rate-binned&#x27;]),\n",
       "                                                 (&#x27;standardscaler&#x27;,\n",
       "                                                  StandardScaler(),\n",
       "                                                  [&#x27;Lifestyle&#x27;, &#x27;Sleep&#x27;,\n",
       "                                                   &#x27;Depression&#x27;,\n",
       "                                                   &#x27;Hyperli...&#x27;Smoking&#x27;,\n",
       "                                                   &#x27;Diabetes&#x27;, &#x27;HTN&#x27;,\n",
       "                                                   &#x27;Allergies&#x27;, &#x27;BP&#x27;,\n",
       "                                                   &#x27;Thrombolysis&#x27;, &#x27;BGR&#x27;, &#x27;CPK&#x27;,\n",
       "                                                   &#x27;ESR&#x27;, &#x27;WBC&#x27;, &#x27;RBC&#x27;,\n",
       "                                                   &#x27;Hemoglobin&#x27;, &#x27;MCH&#x27;, &#x27;MCHC&#x27;,\n",
       "                                                   &#x27;PlateletCount&#x27;,\n",
       "                                                   &#x27;Lymphocyte&#x27;, &#x27;Monocyte&#x27;,\n",
       "                                                   &#x27;Eosinophil&#x27;,\n",
       "                                                   &#x27;Hypersensitivity&#x27;,\n",
       "                                                   &#x27;Chest pain type&#x27;,\n",
       "                                                   &#x27;Resting BP&#x27;,\n",
       "                                                   &#x27;Serum cholesterol&#x27;, &#x27;FBS&#x27;,\n",
       "                                                   &#x27;Resting &#x27;\n",
       "                                                   &#x27;electrocardiographic&#x27;,\n",
       "                                                   &#x27;Max heart rate&#x27;, &#x27;Angina&#x27;, ...])])),\n",
       "                (&#x27;logisticregression&#x27;, LogisticRegression())])</pre><b>In a Jupyter environment, please rerun this cell to show the HTML representation or trust the notebook. <br />On GitHub, the HTML representation is unable to render, please try loading this page with nbviewer.org.</b></div><div class=\"sk-container\" hidden><div class=\"sk-item sk-dashed-wrapped\"><div class=\"sk-label-container\"><div class=\"sk-label sk-toggleable\"><input class=\"sk-toggleable__control sk-hidden--visually\" id=\"sk-estimator-id-8\" type=\"checkbox\" ><label for=\"sk-estimator-id-8\" class=\"sk-toggleable__label sk-toggleable__label-arrow\">Pipeline</label><div class=\"sk-toggleable__content\"><pre>Pipeline(steps=[(&#x27;columntransformer&#x27;,\n",
       "                 ColumnTransformer(remainder=&#x27;passthrough&#x27;,\n",
       "                                   transformers=[(&#x27;ordinalencoder&#x27;,\n",
       "                                                  OrdinalEncoder(handle_unknown=&#x27;use_encoded_value&#x27;,\n",
       "                                                                 unknown_value=-1),\n",
       "                                                  [&#x27;Age Group&#x27;,\n",
       "                                                   &#x27;Marital Status&#x27;, &#x27;Category&#x27;,\n",
       "                                                   &#x27;Others&#x27;, &#x27;Diagnosis&#x27;,\n",
       "                                                   &#x27;SK React&#x27;,\n",
       "                                                   &#x27;Max heart rate-binned&#x27;]),\n",
       "                                                 (&#x27;standardscaler&#x27;,\n",
       "                                                  StandardScaler(),\n",
       "                                                  [&#x27;Lifestyle&#x27;, &#x27;Sleep&#x27;,\n",
       "                                                   &#x27;Depression&#x27;,\n",
       "                                                   &#x27;Hyperli...&#x27;Smoking&#x27;,\n",
       "                                                   &#x27;Diabetes&#x27;, &#x27;HTN&#x27;,\n",
       "                                                   &#x27;Allergies&#x27;, &#x27;BP&#x27;,\n",
       "                                                   &#x27;Thrombolysis&#x27;, &#x27;BGR&#x27;, &#x27;CPK&#x27;,\n",
       "                                                   &#x27;ESR&#x27;, &#x27;WBC&#x27;, &#x27;RBC&#x27;,\n",
       "                                                   &#x27;Hemoglobin&#x27;, &#x27;MCH&#x27;, &#x27;MCHC&#x27;,\n",
       "                                                   &#x27;PlateletCount&#x27;,\n",
       "                                                   &#x27;Lymphocyte&#x27;, &#x27;Monocyte&#x27;,\n",
       "                                                   &#x27;Eosinophil&#x27;,\n",
       "                                                   &#x27;Hypersensitivity&#x27;,\n",
       "                                                   &#x27;Chest pain type&#x27;,\n",
       "                                                   &#x27;Resting BP&#x27;,\n",
       "                                                   &#x27;Serum cholesterol&#x27;, &#x27;FBS&#x27;,\n",
       "                                                   &#x27;Resting &#x27;\n",
       "                                                   &#x27;electrocardiographic&#x27;,\n",
       "                                                   &#x27;Max heart rate&#x27;, &#x27;Angina&#x27;, ...])])),\n",
       "                (&#x27;logisticregression&#x27;, LogisticRegression())])</pre></div></div></div><div class=\"sk-serial\"><div class=\"sk-item sk-dashed-wrapped\"><div class=\"sk-label-container\"><div class=\"sk-label sk-toggleable\"><input class=\"sk-toggleable__control sk-hidden--visually\" id=\"sk-estimator-id-9\" type=\"checkbox\" ><label for=\"sk-estimator-id-9\" class=\"sk-toggleable__label sk-toggleable__label-arrow\">columntransformer: ColumnTransformer</label><div class=\"sk-toggleable__content\"><pre>ColumnTransformer(remainder=&#x27;passthrough&#x27;,\n",
       "                  transformers=[(&#x27;ordinalencoder&#x27;,\n",
       "                                 OrdinalEncoder(handle_unknown=&#x27;use_encoded_value&#x27;,\n",
       "                                                unknown_value=-1),\n",
       "                                 [&#x27;Age Group&#x27;, &#x27;Marital Status&#x27;, &#x27;Category&#x27;,\n",
       "                                  &#x27;Others&#x27;, &#x27;Diagnosis&#x27;, &#x27;SK React&#x27;,\n",
       "                                  &#x27;Max heart rate-binned&#x27;]),\n",
       "                                (&#x27;standardscaler&#x27;, StandardScaler(),\n",
       "                                 [&#x27;Lifestyle&#x27;, &#x27;Sleep&#x27;, &#x27;Depression&#x27;,\n",
       "                                  &#x27;Hyperlipidemia&#x27;, &#x27;Smoking&#x27;, &#x27;Diabetes&#x27;,\n",
       "                                  &#x27;HTN&#x27;, &#x27;Allergies&#x27;, &#x27;BP&#x27;, &#x27;Thrombolysis&#x27;,\n",
       "                                  &#x27;BGR&#x27;, &#x27;CPK&#x27;, &#x27;ESR&#x27;, &#x27;WBC&#x27;, &#x27;RBC&#x27;,\n",
       "                                  &#x27;Hemoglobin&#x27;, &#x27;MCH&#x27;, &#x27;MCHC&#x27;, &#x27;PlateletCount&#x27;,\n",
       "                                  &#x27;Lymphocyte&#x27;, &#x27;Monocyte&#x27;, &#x27;Eosinophil&#x27;,\n",
       "                                  &#x27;Hypersensitivity&#x27;, &#x27;Chest pain type&#x27;,\n",
       "                                  &#x27;Resting BP&#x27;, &#x27;Serum cholesterol&#x27;, &#x27;FBS&#x27;,\n",
       "                                  &#x27;Resting electrocardiographic&#x27;,\n",
       "                                  &#x27;Max heart rate&#x27;, &#x27;Angina&#x27;, ...])])</pre></div></div></div><div class=\"sk-parallel\"><div class=\"sk-parallel-item\"><div class=\"sk-item\"><div class=\"sk-label-container\"><div class=\"sk-label sk-toggleable\"><input class=\"sk-toggleable__control sk-hidden--visually\" id=\"sk-estimator-id-10\" type=\"checkbox\" ><label for=\"sk-estimator-id-10\" class=\"sk-toggleable__label sk-toggleable__label-arrow\">ordinalencoder</label><div class=\"sk-toggleable__content\"><pre>[&#x27;Age Group&#x27;, &#x27;Marital Status&#x27;, &#x27;Category&#x27;, &#x27;Others&#x27;, &#x27;Diagnosis&#x27;, &#x27;SK React&#x27;, &#x27;Max heart rate-binned&#x27;]</pre></div></div></div><div class=\"sk-serial\"><div class=\"sk-item\"><div class=\"sk-estimator sk-toggleable\"><input class=\"sk-toggleable__control sk-hidden--visually\" id=\"sk-estimator-id-11\" type=\"checkbox\" ><label for=\"sk-estimator-id-11\" class=\"sk-toggleable__label sk-toggleable__label-arrow\">OrdinalEncoder</label><div class=\"sk-toggleable__content\"><pre>OrdinalEncoder(handle_unknown=&#x27;use_encoded_value&#x27;, unknown_value=-1)</pre></div></div></div></div></div></div><div class=\"sk-parallel-item\"><div class=\"sk-item\"><div class=\"sk-label-container\"><div class=\"sk-label sk-toggleable\"><input class=\"sk-toggleable__control sk-hidden--visually\" id=\"sk-estimator-id-12\" type=\"checkbox\" ><label for=\"sk-estimator-id-12\" class=\"sk-toggleable__label sk-toggleable__label-arrow\">standardscaler</label><div class=\"sk-toggleable__content\"><pre>[&#x27;Lifestyle&#x27;, &#x27;Sleep&#x27;, &#x27;Depression&#x27;, &#x27;Hyperlipidemia&#x27;, &#x27;Smoking&#x27;, &#x27;Diabetes&#x27;, &#x27;HTN&#x27;, &#x27;Allergies&#x27;, &#x27;BP&#x27;, &#x27;Thrombolysis&#x27;, &#x27;BGR&#x27;, &#x27;CPK&#x27;, &#x27;ESR&#x27;, &#x27;WBC&#x27;, &#x27;RBC&#x27;, &#x27;Hemoglobin&#x27;, &#x27;MCH&#x27;, &#x27;MCHC&#x27;, &#x27;PlateletCount&#x27;, &#x27;Lymphocyte&#x27;, &#x27;Monocyte&#x27;, &#x27;Eosinophil&#x27;, &#x27;Hypersensitivity&#x27;, &#x27;Chest pain type&#x27;, &#x27;Resting BP&#x27;, &#x27;Serum cholesterol&#x27;, &#x27;FBS&#x27;, &#x27;Resting electrocardiographic&#x27;, &#x27;Max heart rate&#x27;, &#x27;Angina&#x27;, &#x27;ST depression&#x27;, &#x27;Slope&#x27;, &#x27;Vessels num&#x27;, &#x27;Thal&#x27;, &#x27;Num&#x27;, &#x27;Streptokinase&#x27;, &#x27;Follow up&#x27;, &#x27;Gender-male&#x27;, &#x27;Locality-urban&#x27;]</pre></div></div></div><div class=\"sk-serial\"><div class=\"sk-item\"><div class=\"sk-estimator sk-toggleable\"><input class=\"sk-toggleable__control sk-hidden--visually\" id=\"sk-estimator-id-13\" type=\"checkbox\" ><label for=\"sk-estimator-id-13\" class=\"sk-toggleable__label sk-toggleable__label-arrow\">StandardScaler</label><div class=\"sk-toggleable__content\"><pre>StandardScaler()</pre></div></div></div></div></div></div><div class=\"sk-parallel-item\"><div class=\"sk-item\"><div class=\"sk-label-container\"><div class=\"sk-label sk-toggleable\"><input class=\"sk-toggleable__control sk-hidden--visually\" id=\"sk-estimator-id-14\" type=\"checkbox\" ><label for=\"sk-estimator-id-14\" class=\"sk-toggleable__label sk-toggleable__label-arrow\">remainder</label><div class=\"sk-toggleable__content\"><pre>[]</pre></div></div></div><div class=\"sk-serial\"><div class=\"sk-item\"><div class=\"sk-estimator sk-toggleable\"><input class=\"sk-toggleable__control sk-hidden--visually\" id=\"sk-estimator-id-15\" type=\"checkbox\" ><label for=\"sk-estimator-id-15\" class=\"sk-toggleable__label sk-toggleable__label-arrow\">passthrough</label><div class=\"sk-toggleable__content\"><pre>passthrough</pre></div></div></div></div></div></div></div></div><div class=\"sk-item\"><div class=\"sk-estimator sk-toggleable\"><input class=\"sk-toggleable__control sk-hidden--visually\" id=\"sk-estimator-id-16\" type=\"checkbox\" ><label for=\"sk-estimator-id-16\" class=\"sk-toggleable__label sk-toggleable__label-arrow\">LogisticRegression</label><div class=\"sk-toggleable__content\"><pre>LogisticRegression()</pre></div></div></div></div></div></div></div>"
      ],
      "text/plain": [
       "Pipeline(steps=[('columntransformer',\n",
       "                 ColumnTransformer(remainder='passthrough',\n",
       "                                   transformers=[('ordinalencoder',\n",
       "                                                  OrdinalEncoder(handle_unknown='use_encoded_value',\n",
       "                                                                 unknown_value=-1),\n",
       "                                                  ['Age Group',\n",
       "                                                   'Marital Status', 'Category',\n",
       "                                                   'Others', 'Diagnosis',\n",
       "                                                   'SK React',\n",
       "                                                   'Max heart rate-binned']),\n",
       "                                                 ('standardscaler',\n",
       "                                                  StandardScaler(),\n",
       "                                                  ['Lifestyle', 'Sleep',\n",
       "                                                   'Depression',\n",
       "                                                   'Hyperli...'Smoking',\n",
       "                                                   'Diabetes', 'HTN',\n",
       "                                                   'Allergies', 'BP',\n",
       "                                                   'Thrombolysis', 'BGR', 'CPK',\n",
       "                                                   'ESR', 'WBC', 'RBC',\n",
       "                                                   'Hemoglobin', 'MCH', 'MCHC',\n",
       "                                                   'PlateletCount',\n",
       "                                                   'Lymphocyte', 'Monocyte',\n",
       "                                                   'Eosinophil',\n",
       "                                                   'Hypersensitivity',\n",
       "                                                   'Chest pain type',\n",
       "                                                   'Resting BP',\n",
       "                                                   'Serum cholesterol', 'FBS',\n",
       "                                                   'Resting '\n",
       "                                                   'electrocardiographic',\n",
       "                                                   'Max heart rate', 'Angina', ...])])),\n",
       "                ('logisticregression', LogisticRegression())])"
      ]
     },
     "execution_count": 21,
     "metadata": {},
     "output_type": "execute_result"
    }
   ],
   "source": [
    "pipe_lr.fit(x_train,y_train)"
   ]
  },
  {
   "cell_type": "markdown",
   "id": "014366c1-475b-4f39-93f9-3594567f7507",
   "metadata": {},
   "source": [
    "#### Cross-validation\n",
    "Cross-validation is a resampling method that uses different portions of the data to test and train a model on different iterations. It is mainly used in settings where the goal is prediction, and one wants to estimate how accurately a predictive model will perform in practice.\n",
    "The simplest way to use cross-validation is to call the cross_val_score helper function on the estimator and the dataset."
   ]
  },
  {
   "cell_type": "code",
   "execution_count": 22,
   "id": "c340fbc0-1065-48f3-af5c-8425684b7158",
   "metadata": {},
   "outputs": [
    {
     "name": "stdout",
     "output_type": "stream",
     "text": [
      "[0.84782609 0.86956522 0.93478261 0.88043478]\n",
      "The mean of the folds are 0.8831521739130436 and the standard deviation is 0.03203757098519457\n"
     ]
    }
   ],
   "source": [
    "Rcross = cross_val_score(pipe_lr, x, y, cv=4)\n",
    "print(Rcross)\n",
    "print(\"The mean of the folds are\", Rcross.mean(), \"and the standard deviation is\" , Rcross.std())"
   ]
  },
  {
   "cell_type": "markdown",
   "id": "51dc2dcc-35dc-44ed-9d91-c9c94dffb908",
   "metadata": {},
   "source": [
    "Let's use `cros_val_predict` to generate cross-validated estimates for each input data point."
   ]
  },
  {
   "cell_type": "code",
   "execution_count": 23,
   "id": "5b88935b-e19f-40c6-b96f-b3adb4f684ad",
   "metadata": {},
   "outputs": [
    {
     "data": {
      "text/plain": [
       "array([1, 0, 1, 1, 0, 1, 1, 1, 0, 1], dtype=int64)"
      ]
     },
     "execution_count": 23,
     "metadata": {},
     "output_type": "execute_result"
    }
   ],
   "source": [
    "yhat = cross_val_predict(pipe_lr, x, y,cv=4)\n",
    "yhat[0:10]"
   ]
  },
  {
   "cell_type": "markdown",
   "id": "8ea70c5b-9934-443c-bffc-e15e3897b8cd",
   "metadata": {},
   "source": [
    "#### Accuracy\n",
    "Let's calculate accuracy of this pipeline."
   ]
  },
  {
   "cell_type": "code",
   "execution_count": 24,
   "id": "b77ac9dc-50d3-4820-a96a-061beca66ed4",
   "metadata": {},
   "outputs": [
    {
     "name": "stdout",
     "output_type": "stream",
     "text": [
      "Training DataSet accuracy:  91.1% Test DataSet accuracy:  91.0%\n"
     ]
    }
   ],
   "source": [
    "scores_train = pipe_lr.score(x_train, y_train)\n",
    "scores_test = pipe_lr.score(x_test, y_test)\n",
    "print('Training DataSet accuracy: {: .1%}'.format(scores_train), 'Test DataSet accuracy: {: .1%}'.format(scores_test))"
   ]
  },
  {
   "cell_type": "markdown",
   "id": "5e070d19-7c7f-4e09-b015-9b4c97fc422b",
   "metadata": {},
   "source": [
    "Let's evaluate the correctness of the classification with: **[sklearn.metrics.plot_confusion_matrix()](https://scikit-learn.org/stable/modules/generated/sklearn.metrics.plot_confusion_matrix.html)** and convince of these conclusions."
   ]
  },
  {
   "cell_type": "code",
   "execution_count": 25,
   "id": "1927a824-27d5-4dd8-8318-b36264a7c85d",
   "metadata": {},
   "outputs": [
    {
     "data": {
      "image/png": "[encoded data removed]",
      "text/plain": [
       "<Figure size 432x288 with 2 Axes>"
      ]
     },
     "metadata": {
      "needs_background": "light"
     },
     "output_type": "display_data"
    }
   ],
   "source": [
    "plot_confusion_matrix(pipe_lr, x_test, y_test, cmap=plt.cm.Blues_r)\n",
    "\n",
    "plt.show() "
   ]
  },
  {
   "cell_type": "markdown",
   "id": "e8d68d26-3e62-4673-a19c-8947f0480e27",
   "metadata": {},
   "source": [
    "As you can see from the table, our model predicts patient's mortality very well. At the same time, errors in the classification of patients are also not too big. The correct forecast is 101 patients. In 8 cases when the patient actually died of heart failure, the model shows that the patient will survive. Conversely, in the 2 cases, our model predicts that the patient will die of heart failure, but in fact he will survive. That is, the error is great for those patient who really has a risk to die.\n",
    "\n",
    "The `Recall` metric is used to assess the accuracy of only purchased goods: **[sklearn.metrics.recall_score()](https://scikit-learn.org/stable/modules/generated/sklearn.metrics.recall_score.html)**"
   ]
  },
  {
   "cell_type": "code",
   "execution_count": 26,
   "id": "7c8aa48b-da7c-4861-8751-974391d7edea",
   "metadata": {},
   "outputs": [
    {
     "name": "stdout",
     "output_type": "stream",
     "text": [
      "Training DataSet accuracy:  70.6% Test DataSet accuracy:  72.4%\n"
     ]
    }
   ],
   "source": [
    "scores_train = recall_score(y_train, pipe_lr.predict(x_train))\n",
    "scores_test = recall_score(y_test, pipe_lr.predict(x_test))\n",
    "print('Training DataSet accuracy: {: .1%}'.format(scores_train), 'Test DataSet accuracy: {: .1%}'.format(scores_test))"
   ]
  },
  {
   "cell_type": "markdown",
   "id": "bc7c1d2e-c217-45fa-9082-0c75158762cc",
   "metadata": {},
   "source": [
    "As can be seen from this metric, the accuracy is lower. Moreover, the accuracy of the training and test data are approximately the same. This means that in order to increase this metric of accuracy, it is necessary to increase the training sample. Let's analyze it."
   ]
  },
  {
   "cell_type": "markdown",
   "id": "91739165-77c6-41c0-992e-e7809d09e8de",
   "metadata": {},
   "source": [
    "### Over-sampling problem"
   ]
  },
  {
   "cell_type": "markdown",
   "id": "23446c4d-0496-4f18-96ff-212cb20753ae",
   "metadata": {},
   "source": [
    "Let's analyze our target column `Mortality` (**[seaborn.countplot()](https://seaborn.pydata.org/generated/seaborn.countplot.html)**):"
   ]
  },
  {
   "cell_type": "code",
   "execution_count": 27,
   "id": "c5bf5e9e-f0bf-4b0d-b127-f1413cf9a325",
   "metadata": {},
   "outputs": [
    {
     "data": {
      "text/plain": [
       "<AxesSubplot: xlabel='Mortality', ylabel='count'>"
      ]
     },
     "execution_count": 27,
     "metadata": {},
     "output_type": "execute_result"
    },
    {
     "data": {
      "image/png": "[encoded data removed]",
      "text/plain": [
       "<Figure size 432x288 with 1 Axes>"
      ]
     },
     "metadata": {
      "needs_background": "light"
     },
     "output_type": "display_data"
    }
   ],
   "source": [
    "sns.countplot(x = y)"
   ]
  },
  {
   "cell_type": "markdown",
   "id": "72595933-595e-4975-82dc-d52ef4880e31",
   "metadata": {},
   "source": [
    "As you can see, the number of cases, when the patients survive is much greater than the number of deaths. To balance the data set, we can use a special function: **[imblearn.over_sampling.RandomOverSampler()](https://imbalanced-learn.org/stable/references/generated/imblearn.over_sampling.RandomOverSampler.html)**:"
   ]
  },
  {
   "cell_type": "code",
   "execution_count": 28,
   "id": "1aacad00-c1ef-49f4-aa8d-a8a9ac95fad8",
   "metadata": {},
   "outputs": [
    {
     "data": {
      "text/plain": [
       "<AxesSubplot: xlabel='Mortality', ylabel='count'>"
      ]
     },
     "execution_count": 28,
     "metadata": {},
     "output_type": "execute_result"
    },
    {
     "data": {
      "image/png": "[encoded data removed]",
      "text/plain": [
       "<Figure size 432x288 with 1 Axes>"
      ]
     },
     "metadata": {
      "needs_background": "light"
     },
     "output_type": "display_data"
    }
   ],
   "source": [
    "ROS = RandomOverSampler()\n",
    "o_x, o_y = ROS.fit_resample(x,y)\n",
    "sns.countplot(x = o_y)"
   ]
  },
  {
   "cell_type": "markdown",
   "id": "7e924a75-cb30-4142-b68f-4e9dc1a1a8fa",
   "metadata": {},
   "source": [
    "Now, as we can see, these numbers are equal. Let's add this function to our `Pipeline`, fit the model and recalculate the accuracy."
   ]
  },
  {
   "cell_type": "code",
   "execution_count": 29,
   "id": "3019dc94-8413-4be1-90a7-d639398e1c88",
   "metadata": {},
   "outputs": [
    {
     "data": {
      "text/html": [
       "<style>#sk-container-id-3 {color: black;background-color: white;}#sk-container-id-3 pre{padding: 0;}#sk-container-id-3 div.sk-toggleable {background-color: white;}#sk-container-id-3 label.sk-toggleable__label {cursor: pointer;display: block;width: 100%;margin-bottom: 0;padding: 0.3em;box-sizing: border-box;text-align: center;}#sk-container-id-3 label.sk-toggleable__label-arrow:before {content: \"▸\";float: left;margin-right: 0.25em;color: #696969;}#sk-container-id-3 label.sk-toggleable__label-arrow:hover:before {color: black;}#sk-container-id-3 div.sk-estimator:hover label.sk-toggleable__label-arrow:before {color: black;}#sk-container-id-3 div.sk-toggleable__content {max-height: 0;max-width: 0;overflow: hidden;text-align: left;background-color: #f0f8ff;}#sk-container-id-3 div.sk-toggleable__content pre {margin: 0.2em;color: black;border-radius: 0.25em;background-color: #f0f8ff;}#sk-container-id-3 input.sk-toggleable__control:checked~div.sk-toggleable__content {max-height: 200px;max-width: 100%;overflow: auto;}#sk-container-id-3 input.sk-toggleable__control:checked~label.sk-toggleable__label-arrow:before {content: \"▾\";}#sk-container-id-3 div.sk-estimator input.sk-toggleable__control:checked~label.sk-toggleable__label {background-color: #d4ebff;}#sk-container-id-3 div.sk-label input.sk-toggleable__control:checked~label.sk-toggleable__label {background-color: #d4ebff;}#sk-container-id-3 input.sk-hidden--visually {border: 0;clip: rect(1px 1px 1px 1px);clip: rect(1px, 1px, 1px, 1px);height: 1px;margin: -1px;overflow: hidden;padding: 0;position: absolute;width: 1px;}#sk-container-id-3 div.sk-estimator {font-family: monospace;background-color: #f0f8ff;border: 1px dotted black;border-radius: 0.25em;box-sizing: border-box;margin-bottom: 0.5em;}#sk-container-id-3 div.sk-estimator:hover {background-color: #d4ebff;}#sk-container-id-3 div.sk-parallel-item::after {content: \"\";width: 100%;border-bottom: 1px solid gray;flex-grow: 1;}#sk-container-id-3 div.sk-label:hover label.sk-toggleable__label {background-color: #d4ebff;}#sk-container-id-3 div.sk-serial::before {content: \"\";position: absolute;border-left: 1px solid gray;box-sizing: border-box;top: 0;bottom: 0;left: 50%;z-index: 0;}#sk-container-id-3 div.sk-serial {display: flex;flex-direction: column;align-items: center;background-color: white;padding-right: 0.2em;padding-left: 0.2em;position: relative;}#sk-container-id-3 div.sk-item {position: relative;z-index: 1;}#sk-container-id-3 div.sk-parallel {display: flex;align-items: stretch;justify-content: center;background-color: white;position: relative;}#sk-container-id-3 div.sk-item::before, #sk-container-id-3 div.sk-parallel-item::before {content: \"\";position: absolute;border-left: 1px solid gray;box-sizing: border-box;top: 0;bottom: 0;left: 50%;z-index: -1;}#sk-container-id-3 div.sk-parallel-item {display: flex;flex-direction: column;z-index: 1;position: relative;background-color: white;}#sk-container-id-3 div.sk-parallel-item:first-child::after {align-self: flex-end;width: 50%;}#sk-container-id-3 div.sk-parallel-item:last-child::after {align-self: flex-start;width: 50%;}#sk-container-id-3 div.sk-parallel-item:only-child::after {width: 0;}#sk-container-id-3 div.sk-dashed-wrapped {border: 1px dashed gray;margin: 0 0.4em 0.5em 0.4em;box-sizing: border-box;padding-bottom: 0.4em;background-color: white;}#sk-container-id-3 div.sk-label label {font-family: monospace;font-weight: bold;display: inline-block;line-height: 1.2em;}#sk-container-id-3 div.sk-label-container {text-align: center;}#sk-container-id-3 div.sk-container {/* jupyter's `normalize.less` sets `[hidden] { display: none; }` but bootstrap.min.css set `[hidden] { display: none !important; }` so we also need the `!important` here to be able to override the default hidden behavior on the sphinx rendered scikit-learn.org. See: https://github.com/scikit-learn/scikit-learn/issues/21755 */display: inline-block !important;position: relative;}#sk-container-id-3 div.sk-text-repr-fallback {display: none;}</style><div id=\"sk-container-id-3\" class=\"sk-top-container\"><div class=\"sk-text-repr-fallback\"><pre>Pipeline(steps=[(&#x27;columntransformer&#x27;,\n",
       "                 ColumnTransformer(remainder=&#x27;passthrough&#x27;,\n",
       "                                   transformers=[(&#x27;ordinalencoder&#x27;,\n",
       "                                                  OrdinalEncoder(handle_unknown=&#x27;use_encoded_value&#x27;,\n",
       "                                                                 unknown_value=-1),\n",
       "                                                  [&#x27;Age Group&#x27;,\n",
       "                                                   &#x27;Marital Status&#x27;, &#x27;Category&#x27;,\n",
       "                                                   &#x27;Others&#x27;, &#x27;Diagnosis&#x27;,\n",
       "                                                   &#x27;SK React&#x27;,\n",
       "                                                   &#x27;Max heart rate-binned&#x27;]),\n",
       "                                                 (&#x27;standardscaler&#x27;,\n",
       "                                                  StandardScaler(),\n",
       "                                                  [&#x27;Lifestyle&#x27;, &#x27;Sleep&#x27;,\n",
       "                                                   &#x27;Depression&#x27;,\n",
       "                                                   &#x27;Hyperli...\n",
       "                                                   &#x27;Allergies&#x27;, &#x27;BP&#x27;,\n",
       "                                                   &#x27;Thrombolysis&#x27;, &#x27;BGR&#x27;, &#x27;CPK&#x27;,\n",
       "                                                   &#x27;ESR&#x27;, &#x27;WBC&#x27;, &#x27;RBC&#x27;,\n",
       "                                                   &#x27;Hemoglobin&#x27;, &#x27;MCH&#x27;, &#x27;MCHC&#x27;,\n",
       "                                                   &#x27;PlateletCount&#x27;,\n",
       "                                                   &#x27;Lymphocyte&#x27;, &#x27;Monocyte&#x27;,\n",
       "                                                   &#x27;Eosinophil&#x27;,\n",
       "                                                   &#x27;Hypersensitivity&#x27;,\n",
       "                                                   &#x27;Chest pain type&#x27;,\n",
       "                                                   &#x27;Resting BP&#x27;,\n",
       "                                                   &#x27;Serum cholesterol&#x27;, &#x27;FBS&#x27;,\n",
       "                                                   &#x27;Resting &#x27;\n",
       "                                                   &#x27;electrocardiographic&#x27;,\n",
       "                                                   &#x27;Max heart rate&#x27;, &#x27;Angina&#x27;, ...])])),\n",
       "                (&#x27;randomoversampler&#x27;, RandomOverSampler()),\n",
       "                (&#x27;logisticregression&#x27;, LogisticRegression())])</pre><b>In a Jupyter environment, please rerun this cell to show the HTML representation or trust the notebook. <br />On GitHub, the HTML representation is unable to render, please try loading this page with nbviewer.org.</b></div><div class=\"sk-container\" hidden><div class=\"sk-item sk-dashed-wrapped\"><div class=\"sk-label-container\"><div class=\"sk-label sk-toggleable\"><input class=\"sk-toggleable__control sk-hidden--visually\" id=\"sk-estimator-id-17\" type=\"checkbox\" ><label for=\"sk-estimator-id-17\" class=\"sk-toggleable__label sk-toggleable__label-arrow\">Pipeline</label><div class=\"sk-toggleable__content\"><pre>Pipeline(steps=[(&#x27;columntransformer&#x27;,\n",
       "                 ColumnTransformer(remainder=&#x27;passthrough&#x27;,\n",
       "                                   transformers=[(&#x27;ordinalencoder&#x27;,\n",
       "                                                  OrdinalEncoder(handle_unknown=&#x27;use_encoded_value&#x27;,\n",
       "                                                                 unknown_value=-1),\n",
       "                                                  [&#x27;Age Group&#x27;,\n",
       "                                                   &#x27;Marital Status&#x27;, &#x27;Category&#x27;,\n",
       "                                                   &#x27;Others&#x27;, &#x27;Diagnosis&#x27;,\n",
       "                                                   &#x27;SK React&#x27;,\n",
       "                                                   &#x27;Max heart rate-binned&#x27;]),\n",
       "                                                 (&#x27;standardscaler&#x27;,\n",
       "                                                  StandardScaler(),\n",
       "                                                  [&#x27;Lifestyle&#x27;, &#x27;Sleep&#x27;,\n",
       "                                                   &#x27;Depression&#x27;,\n",
       "                                                   &#x27;Hyperli...\n",
       "                                                   &#x27;Allergies&#x27;, &#x27;BP&#x27;,\n",
       "                                                   &#x27;Thrombolysis&#x27;, &#x27;BGR&#x27;, &#x27;CPK&#x27;,\n",
       "                                                   &#x27;ESR&#x27;, &#x27;WBC&#x27;, &#x27;RBC&#x27;,\n",
       "                                                   &#x27;Hemoglobin&#x27;, &#x27;MCH&#x27;, &#x27;MCHC&#x27;,\n",
       "                                                   &#x27;PlateletCount&#x27;,\n",
       "                                                   &#x27;Lymphocyte&#x27;, &#x27;Monocyte&#x27;,\n",
       "                                                   &#x27;Eosinophil&#x27;,\n",
       "                                                   &#x27;Hypersensitivity&#x27;,\n",
       "                                                   &#x27;Chest pain type&#x27;,\n",
       "                                                   &#x27;Resting BP&#x27;,\n",
       "                                                   &#x27;Serum cholesterol&#x27;, &#x27;FBS&#x27;,\n",
       "                                                   &#x27;Resting &#x27;\n",
       "                                                   &#x27;electrocardiographic&#x27;,\n",
       "                                                   &#x27;Max heart rate&#x27;, &#x27;Angina&#x27;, ...])])),\n",
       "                (&#x27;randomoversampler&#x27;, RandomOverSampler()),\n",
       "                (&#x27;logisticregression&#x27;, LogisticRegression())])</pre></div></div></div><div class=\"sk-serial\"><div class=\"sk-item sk-dashed-wrapped\"><div class=\"sk-label-container\"><div class=\"sk-label sk-toggleable\"><input class=\"sk-toggleable__control sk-hidden--visually\" id=\"sk-estimator-id-18\" type=\"checkbox\" ><label for=\"sk-estimator-id-18\" class=\"sk-toggleable__label sk-toggleable__label-arrow\">columntransformer: ColumnTransformer</label><div class=\"sk-toggleable__content\"><pre>ColumnTransformer(remainder=&#x27;passthrough&#x27;,\n",
       "                  transformers=[(&#x27;ordinalencoder&#x27;,\n",
       "                                 OrdinalEncoder(handle_unknown=&#x27;use_encoded_value&#x27;,\n",
       "                                                unknown_value=-1),\n",
       "                                 [&#x27;Age Group&#x27;, &#x27;Marital Status&#x27;, &#x27;Category&#x27;,\n",
       "                                  &#x27;Others&#x27;, &#x27;Diagnosis&#x27;, &#x27;SK React&#x27;,\n",
       "                                  &#x27;Max heart rate-binned&#x27;]),\n",
       "                                (&#x27;standardscaler&#x27;, StandardScaler(),\n",
       "                                 [&#x27;Lifestyle&#x27;, &#x27;Sleep&#x27;, &#x27;Depression&#x27;,\n",
       "                                  &#x27;Hyperlipidemia&#x27;, &#x27;Smoking&#x27;, &#x27;Diabetes&#x27;,\n",
       "                                  &#x27;HTN&#x27;, &#x27;Allergies&#x27;, &#x27;BP&#x27;, &#x27;Thrombolysis&#x27;,\n",
       "                                  &#x27;BGR&#x27;, &#x27;CPK&#x27;, &#x27;ESR&#x27;, &#x27;WBC&#x27;, &#x27;RBC&#x27;,\n",
       "                                  &#x27;Hemoglobin&#x27;, &#x27;MCH&#x27;, &#x27;MCHC&#x27;, &#x27;PlateletCount&#x27;,\n",
       "                                  &#x27;Lymphocyte&#x27;, &#x27;Monocyte&#x27;, &#x27;Eosinophil&#x27;,\n",
       "                                  &#x27;Hypersensitivity&#x27;, &#x27;Chest pain type&#x27;,\n",
       "                                  &#x27;Resting BP&#x27;, &#x27;Serum cholesterol&#x27;, &#x27;FBS&#x27;,\n",
       "                                  &#x27;Resting electrocardiographic&#x27;,\n",
       "                                  &#x27;Max heart rate&#x27;, &#x27;Angina&#x27;, ...])])</pre></div></div></div><div class=\"sk-parallel\"><div class=\"sk-parallel-item\"><div class=\"sk-item\"><div class=\"sk-label-container\"><div class=\"sk-label sk-toggleable\"><input class=\"sk-toggleable__control sk-hidden--visually\" id=\"sk-estimator-id-19\" type=\"checkbox\" ><label for=\"sk-estimator-id-19\" class=\"sk-toggleable__label sk-toggleable__label-arrow\">ordinalencoder</label><div class=\"sk-toggleable__content\"><pre>[&#x27;Age Group&#x27;, &#x27;Marital Status&#x27;, &#x27;Category&#x27;, &#x27;Others&#x27;, &#x27;Diagnosis&#x27;, &#x27;SK React&#x27;, &#x27;Max heart rate-binned&#x27;]</pre></div></div></div><div class=\"sk-serial\"><div class=\"sk-item\"><div class=\"sk-estimator sk-toggleable\"><input class=\"sk-toggleable__control sk-hidden--visually\" id=\"sk-estimator-id-20\" type=\"checkbox\" ><label for=\"sk-estimator-id-20\" class=\"sk-toggleable__label sk-toggleable__label-arrow\">OrdinalEncoder</label><div class=\"sk-toggleable__content\"><pre>OrdinalEncoder(handle_unknown=&#x27;use_encoded_value&#x27;, unknown_value=-1)</pre></div></div></div></div></div></div><div class=\"sk-parallel-item\"><div class=\"sk-item\"><div class=\"sk-label-container\"><div class=\"sk-label sk-toggleable\"><input class=\"sk-toggleable__control sk-hidden--visually\" id=\"sk-estimator-id-21\" type=\"checkbox\" ><label for=\"sk-estimator-id-21\" class=\"sk-toggleable__label sk-toggleable__label-arrow\">standardscaler</label><div class=\"sk-toggleable__content\"><pre>[&#x27;Lifestyle&#x27;, &#x27;Sleep&#x27;, &#x27;Depression&#x27;, &#x27;Hyperlipidemia&#x27;, &#x27;Smoking&#x27;, &#x27;Diabetes&#x27;, &#x27;HTN&#x27;, &#x27;Allergies&#x27;, &#x27;BP&#x27;, &#x27;Thrombolysis&#x27;, &#x27;BGR&#x27;, &#x27;CPK&#x27;, &#x27;ESR&#x27;, &#x27;WBC&#x27;, &#x27;RBC&#x27;, &#x27;Hemoglobin&#x27;, &#x27;MCH&#x27;, &#x27;MCHC&#x27;, &#x27;PlateletCount&#x27;, &#x27;Lymphocyte&#x27;, &#x27;Monocyte&#x27;, &#x27;Eosinophil&#x27;, &#x27;Hypersensitivity&#x27;, &#x27;Chest pain type&#x27;, &#x27;Resting BP&#x27;, &#x27;Serum cholesterol&#x27;, &#x27;FBS&#x27;, &#x27;Resting electrocardiographic&#x27;, &#x27;Max heart rate&#x27;, &#x27;Angina&#x27;, &#x27;ST depression&#x27;, &#x27;Slope&#x27;, &#x27;Vessels num&#x27;, &#x27;Thal&#x27;, &#x27;Num&#x27;, &#x27;Streptokinase&#x27;, &#x27;Follow up&#x27;, &#x27;Gender-male&#x27;, &#x27;Locality-urban&#x27;]</pre></div></div></div><div class=\"sk-serial\"><div class=\"sk-item\"><div class=\"sk-estimator sk-toggleable\"><input class=\"sk-toggleable__control sk-hidden--visually\" id=\"sk-estimator-id-22\" type=\"checkbox\" ><label for=\"sk-estimator-id-22\" class=\"sk-toggleable__label sk-toggleable__label-arrow\">StandardScaler</label><div class=\"sk-toggleable__content\"><pre>StandardScaler()</pre></div></div></div></div></div></div><div class=\"sk-parallel-item\"><div class=\"sk-item\"><div class=\"sk-label-container\"><div class=\"sk-label sk-toggleable\"><input class=\"sk-toggleable__control sk-hidden--visually\" id=\"sk-estimator-id-23\" type=\"checkbox\" ><label for=\"sk-estimator-id-23\" class=\"sk-toggleable__label sk-toggleable__label-arrow\">remainder</label><div class=\"sk-toggleable__content\"><pre>[]</pre></div></div></div><div class=\"sk-serial\"><div class=\"sk-item\"><div class=\"sk-estimator sk-toggleable\"><input class=\"sk-toggleable__control sk-hidden--visually\" id=\"sk-estimator-id-24\" type=\"checkbox\" ><label for=\"sk-estimator-id-24\" class=\"sk-toggleable__label sk-toggleable__label-arrow\">passthrough</label><div class=\"sk-toggleable__content\"><pre>passthrough</pre></div></div></div></div></div></div></div></div><div class=\"sk-item\"><div class=\"sk-estimator sk-toggleable\"><input class=\"sk-toggleable__control sk-hidden--visually\" id=\"sk-estimator-id-25\" type=\"checkbox\" ><label for=\"sk-estimator-id-25\" class=\"sk-toggleable__label sk-toggleable__label-arrow\">RandomOverSampler</label><div class=\"sk-toggleable__content\"><pre>RandomOverSampler()</pre></div></div></div><div class=\"sk-item\"><div class=\"sk-estimator sk-toggleable\"><input class=\"sk-toggleable__control sk-hidden--visually\" id=\"sk-estimator-id-26\" type=\"checkbox\" ><label for=\"sk-estimator-id-26\" class=\"sk-toggleable__label sk-toggleable__label-arrow\">LogisticRegression</label><div class=\"sk-toggleable__content\"><pre>LogisticRegression()</pre></div></div></div></div></div></div></div>"
      ],
      "text/plain": [
       "Pipeline(steps=[('columntransformer',\n",
       "                 ColumnTransformer(remainder='passthrough',\n",
       "                                   transformers=[('ordinalencoder',\n",
       "                                                  OrdinalEncoder(handle_unknown='use_encoded_value',\n",
       "                                                                 unknown_value=-1),\n",
       "                                                  ['Age Group',\n",
       "                                                   'Marital Status', 'Category',\n",
       "                                                   'Others', 'Diagnosis',\n",
       "                                                   'SK React',\n",
       "                                                   'Max heart rate-binned']),\n",
       "                                                 ('standardscaler',\n",
       "                                                  StandardScaler(),\n",
       "                                                  ['Lifestyle', 'Sleep',\n",
       "                                                   'Depression',\n",
       "                                                   'Hyperli...\n",
       "                                                   'Allergies', 'BP',\n",
       "                                                   'Thrombolysis', 'BGR', 'CPK',\n",
       "                                                   'ESR', 'WBC', 'RBC',\n",
       "                                                   'Hemoglobin', 'MCH', 'MCHC',\n",
       "                                                   'PlateletCount',\n",
       "                                                   'Lymphocyte', 'Monocyte',\n",
       "                                                   'Eosinophil',\n",
       "                                                   'Hypersensitivity',\n",
       "                                                   'Chest pain type',\n",
       "                                                   'Resting BP',\n",
       "                                                   'Serum cholesterol', 'FBS',\n",
       "                                                   'Resting '\n",
       "                                                   'electrocardiographic',\n",
       "                                                   'Max heart rate', 'Angina', ...])])),\n",
       "                ('randomoversampler', RandomOverSampler()),\n",
       "                ('logisticregression', LogisticRegression())])"
      ]
     },
     "execution_count": 29,
     "metadata": {},
     "output_type": "execute_result"
    }
   ],
   "source": [
    "pipe_s_lr = make_pipeline(trans, ROS, lr)\n",
    "pipe_s_lr"
   ]
  },
  {
   "cell_type": "code",
   "execution_count": 30,
   "id": "247065d6-56bf-4cdb-9e3d-d25baa16dc83",
   "metadata": {},
   "outputs": [
    {
     "name": "stdout",
     "output_type": "stream",
     "text": [
      "Training DataSet accuracy:  100.0% Test DataSet accuracy:  100.0%\n"
     ]
    }
   ],
   "source": [
    "pipe_s_lr.fit(x_train,y_train)\n",
    "scores_train = recall_score(y_train, pipe_s_lr.predict(x_train))\n",
    "scores_test = recall_score(y_test, pipe_s_lr.predict(x_test))\n",
    "print('Training DataSet accuracy: {: .1%}'.format(scores_train), 'Test DataSet accuracy: {: .1%}'.format(scores_test))"
   ]
  },
  {
   "cell_type": "markdown",
   "id": "d3c76936-940a-4207-b794-44dd1ea88d62",
   "metadata": {},
   "source": [
    "As you can see, balancing the dataset has led to a sharp increase in the accuracy of the `Recall` metric.\n",
    "\n",
    "Let's analyze the errors of the model."
   ]
  },
  {
   "cell_type": "code",
   "execution_count": 31,
   "id": "5dcd6295-357e-488c-8910-e959bfe22756",
   "metadata": {},
   "outputs": [
    {
     "data": {
      "image/png": "[encoded data removed]",
      "text/plain": [
       "<Figure size 432x288 with 2 Axes>"
      ]
     },
     "metadata": {
      "needs_background": "light"
     },
     "output_type": "display_data"
    }
   ],
   "source": [
    "plot_confusion_matrix(pipe_s_lr, x_test, y_test, cmap=plt.cm.Blues_r)\n",
    "plt.show() "
   ]
  },
  {
   "cell_type": "markdown",
   "id": "f87edaf2-38c8-4a64-a369-2d663fa52484",
   "metadata": {},
   "source": [
    "As can be seen, the number of erroneous predictions about the patient, who will die, has decreased significantly. However, the error is high when the model predicts mortality rate of patients, who survived. The metric `Precision` is used to assess this accuracy.\n",
    "\n",
    "To further increase the `Recall` metric, it is necessary to change the model, because the accuracy of logistic regression on unknown data is about the same as on known data, and therefore it can no longer fit better."
   ]
  },
  {
   "cell_type": "markdown",
   "id": "fe381557-3742-46cc-a9be-43eda8835c93",
   "metadata": {},
   "source": [
    "<div class=\"alert alert-danger alertdanger\" style=\"margin-top: 20px\">\n",
    "<h1> Question  #1: </h1>\n",
    "\n",
    "<b>Calculate cross validation score of new pipeline</b>\n",
    "\n",
    "</div>"
   ]
  },
  {
   "cell_type": "code",
   "execution_count": 32,
   "id": "fadafb2a-75c6-412f-baa3-e618f9cdea6a",
   "metadata": {},
   "outputs": [],
   "source": [
    "# Write your code below and press Shift+Enter to execute\n"
   ]
  },
  {
   "cell_type": "markdown",
   "id": "366074de-08e3-4e56-b187-3506aec2d5c4",
   "metadata": {},
   "source": [
    "<details><summary>Click here for the solution</summary>\n",
    "\n",
    "```python\n",
    "Rcross = cross_val_score(pipe_s_lr, x, y, cv=4)\n",
    "print(Rcross)\n",
    "print(\"The mean of the folds are\", Rcross.mean(), \"and the standard deviation is\" , Rcross.std())\n",
    "```\n",
    "\n",
    "</details>"
   ]
  },
  {
   "cell_type": "markdown",
   "id": "dfa18b42-5da6-48b5-939a-080ff4d5968d",
   "metadata": {},
   "source": [
    "<div class=\"alert alert-danger alertdanger\" style=\"margin-top: 20px\">\n",
    "<h1> Question  #2: </h1>\n",
    "\n",
    "<b>Predict the output using cross validation and new pipeline</b>\n",
    "\n",
    "</div>"
   ]
  },
  {
   "cell_type": "code",
   "execution_count": 33,
   "id": "f850da17-ff1e-43d9-9689-c7e857ec9cb5",
   "metadata": {},
   "outputs": [],
   "source": [
    "# Write your code below and press Shift+Enter to execute\n"
   ]
  },
  {
   "cell_type": "markdown",
   "id": "c59f0f1f-b1e0-42d1-a914-61dfb7919dcb",
   "metadata": {},
   "source": [
    "<details><summary>Click here for the solution</summary>\n",
    "\n",
    "```python\n",
    "yhat = cross_val_predict(pipe_s_lr, x, y,cv=4)\n",
    "yhat[0:10]\n",
    "```\n",
    "\n",
    "</details>"
   ]
  },
  {
   "cell_type": "markdown",
   "id": "4ee0ecb2-41b1-4d76-81b0-b610b704254d",
   "metadata": {},
   "source": [
    "### Ensemble of classifiers"
   ]
  },
  {
   "cell_type": "markdown",
   "id": "4c7fd1f6-d95b-4b75-8b93-4bdae616224c",
   "metadata": {},
   "source": [
    "Let's test other classifiers and compare the results.\n",
    "We will test:\n",
    "* [Logistic Regression](https://scikit-learn.org/stable/modules/generated/sklearn.linear_model.LogisticRegression.html?highlight=logistic%20regression#sklearn.linear_model.LogisticRegression)\n",
    "* [Linear SVM](https://scikit-learn.org/stable/modules/generated/sklearn.svm.LinearSVR.html?highlight=linear%20svm#sklearn.svm.LinearSVR)\n",
    "* [Decision Tree](https://scikit-learn.org/stable/modules/generated/sklearn.tree.DecisionTreeClassifier.html?highlight=decisiontreeclassifier#sklearn.tree.DecisionTreeClassifier)\n",
    "* [Extra Tree](https://scikit-learn.org/stable/modules/generated/sklearn.tree.ExtraTreeClassifier.html)\n",
    "* [Random Forest](https://scikit-learn.org/stable/modules/generated/sklearn.ensemble.RandomForestClassifier.html?highlight=randomforestclassifier#sklearn.ensemble.RandomForestClassifier)\n",
    "* [Multi-layer Perceptron classifier](https://scikit-learn.org/stable/modules/generated/sklearn.neural_network.MLPClassifier.html?highlight=mlpclassifier#sklearn.neural_network.MLPClassifier)\n",
    "* [Ada Boost](https://scikit-learn.org/stable/modules/generated/sklearn.ensemble.AdaBoostClassifier.html?highlight=adaboostclassifier#sklearn.ensemble.AdaBoostClassifier)\n",
    "* [Gradient Boosting for classification](https://scikit-learn.org/stable/modules/generated/sklearn.ensemble.GradientBoostingClassifier.html)\n",
    "* [Bagging classifier](https://scikit-learn.org/stable/modules/generated/sklearn.ensemble.BaggingClassifier.html)"
   ]
  },
  {
   "cell_type": "markdown",
   "id": "7c5c54b2-8629-438e-8b43-73fec10e7589",
   "metadata": {},
   "source": [
    "In addition, different classifiers may err in different situations. Therefore, to compensate for each other's mistakes, it is necessary to use model ensembles by Voting Classifier.\n",
    "\n",
    "A **[Voting Classifier](https://scikit-learn.org/stable/modules/generated/sklearn.ensemble.VotingClassifier.html)** is a machine learning model that trains on an ensemble of numerous models and predicts an output (class) based on their highest probability of chosen class as the output.\n",
    "It simply aggregates the findings of each classifier passed into Voting Classifier and predicts the output class based on the highest majority of voting. The idea is instead of creating separate dedicated models and finding the accuracy for each them, we create a single model which trains by these models and predicts output based on their combined majority of voting for each output class.\n",
    "\n",
    "Voting Classifier supports two types of votings.\n",
    "\n",
    "**Hard Voting**: In hard voting, the predicted output class is a class with the highest majority of votes i.e the class which had the highest probability of being predicted by each of the classifiers. Suppose three classifiers predicted the output class(A, A, B), so here the majority predicted A as output. Hence A will be the final prediction.\n",
    "\n",
    "\n",
    "**Soft Voting**: In soft voting, the output class is the prediction based on the average of probability given to that class. Suppose given some input to three models, the prediction probability for class A = (0.30, 0.47, 0.53) and B = (0.20, 0.32, 0.40). So the average for class A is 0.4333 and B is 0.3067, the winner is clearly class A because it had the highest probability averaged by each classifier.\n"
   ]
  },
  {
   "cell_type": "code",
   "execution_count": 34,
   "id": "ce56ba11-27d9-47b1-9a93-272b47b80ddd",
   "metadata": {},
   "outputs": [
    {
     "name": "stdout",
     "output_type": "stream",
     "text": [
      "Logistic Regression fitting.....\n",
      "Linear SVM fitting.....\n",
      "Decision Tree fitting.....\n",
      "Extra Tree fitting.....\n",
      "Random Forest fitting.....\n",
      "Neural Net fitting.....\n",
      "AdaBoost fitting.....\n",
      "GradientBoostingClassifier fitting.....\n",
      "BaggingClassifier fitting.....\n",
      "VotingClassifier fitting.....\n"
     ]
    }
   ],
   "source": [
    "names = [\"Logistic Regression\", \"Linear SVM\",\n",
    "         \"Decision Tree\", \"Extra Tree\", \"Random Forest\", \"Neural Net\",\n",
    "         \"AdaBoost\", \"GradientBoostingClassifier\", \"BaggingClassifier\", \"VotingClassifier\"]\n",
    "\n",
    "classifiers = [\n",
    "    LogisticRegression(),\n",
    "    SVC(kernel=\"linear\", C=0.025),\n",
    "    DecisionTreeClassifier(max_depth=5),\n",
    "    ExtraTreeClassifier(max_depth=5),\n",
    "    RandomForestClassifier(max_depth=5, n_estimators=10, max_features=1),\n",
    "    MLPClassifier(alpha=1, max_iter=1000),\n",
    "    AdaBoostClassifier(n_estimators=100, random_state=0),\n",
    "    GradientBoostingClassifier(n_estimators=100, learning_rate=1.0, max_depth=1, random_state=0),\n",
    "    BaggingClassifier(base_estimator=SVC(), n_estimators=10, random_state=0)]\n",
    "\n",
    "est = [(str(est), est) for est in classifiers]\n",
    "\n",
    "eclf = [VotingClassifier(\n",
    "     estimators=est,\n",
    "     voting='hard')]\n",
    "classifiers += eclf\n",
    "scores_train = []\n",
    "scores_test = []\n",
    "scores_train_s = []\n",
    "scores_test_s = []\n",
    "\n",
    "for name, classif in zip(names, classifiers):\n",
    "    print(name,'fitting.....')\n",
    "    clf = make_pipeline(trans, classif)\n",
    "    clf.fit(x_train,y_train)\n",
    "    score_train = recall_score(y_train, clf.predict(x_train))\n",
    "    score_test = recall_score(y_test, clf.predict(x_test))    \n",
    "    scores_train.append(score_train)\n",
    "    scores_test.append(score_test)\n",
    "    \n",
    "    clf_s = make_pipeline(trans, ROS, classif)\n",
    "    clf_s.fit(x_train,y_train)\n",
    "    score_train_s = recall_score(y_train, clf_s.predict(x_train))\n",
    "    score_test_s = recall_score(y_test, clf_s.predict(x_test))    \n",
    "    scores_train_s.append(score_train_s)\n",
    "    scores_test_s.append(score_test_s)"
   ]
  },
  {
   "cell_type": "markdown",
   "id": "8bc7c533-0d34-45e2-9910-5cefc4b49c7a",
   "metadata": {},
   "source": [
    "Let's compare the accuracy of classifiers for balanced and unbalanced data sets."
   ]
  },
  {
   "cell_type": "code",
   "execution_count": 35,
   "id": "3fd097af-c0b2-42f3-8520-f41f50b3a6c2",
   "metadata": {},
   "outputs": [
    {
     "data": {
      "text/html": [
       "<div>\n",
       "<style scoped>\n",
       "    .dataframe tbody tr th:only-of-type {\n",
       "        vertical-align: middle;\n",
       "    }\n",
       "\n",
       "    .dataframe tbody tr th {\n",
       "        vertical-align: top;\n",
       "    }\n",
       "\n",
       "    .dataframe thead th {\n",
       "        text-align: right;\n",
       "    }\n",
       "</style>\n",
       "<table border=\"1\" class=\"dataframe\">\n",
       "  <thead>\n",
       "    <tr style=\"text-align: right;\">\n",
       "      <th></th>\n",
       "      <th>Train</th>\n",
       "      <th>Test</th>\n",
       "      <th>Train Over Sampler</th>\n",
       "      <th>Test Over Sampler</th>\n",
       "    </tr>\n",
       "    <tr>\n",
       "      <th>Classifier accuracy</th>\n",
       "      <th></th>\n",
       "      <th></th>\n",
       "      <th></th>\n",
       "      <th></th>\n",
       "    </tr>\n",
       "  </thead>\n",
       "  <tbody>\n",
       "    <tr>\n",
       "      <th>Logistic Regression</th>\n",
       "      <td>0.71</td>\n",
       "      <td>0.72</td>\n",
       "      <td>0.92</td>\n",
       "      <td>0.93</td>\n",
       "    </tr>\n",
       "    <tr>\n",
       "      <th>Linear SVM</th>\n",
       "      <td>0.39</td>\n",
       "      <td>0.41</td>\n",
       "      <td>0.82</td>\n",
       "      <td>0.83</td>\n",
       "    </tr>\n",
       "    <tr>\n",
       "      <th>Decision Tree</th>\n",
       "      <td>0.92</td>\n",
       "      <td>0.93</td>\n",
       "      <td>1.00</td>\n",
       "      <td>1.00</td>\n",
       "    </tr>\n",
       "    <tr>\n",
       "      <th>Extra Tree</th>\n",
       "      <td>0.47</td>\n",
       "      <td>0.45</td>\n",
       "      <td>0.90</td>\n",
       "      <td>0.93</td>\n",
       "    </tr>\n",
       "    <tr>\n",
       "      <th>Random Forest</th>\n",
       "      <td>0.25</td>\n",
       "      <td>0.34</td>\n",
       "      <td>0.94</td>\n",
       "      <td>0.97</td>\n",
       "    </tr>\n",
       "    <tr>\n",
       "      <th>Neural Net</th>\n",
       "      <td>1.00</td>\n",
       "      <td>1.00</td>\n",
       "      <td>1.00</td>\n",
       "      <td>1.00</td>\n",
       "    </tr>\n",
       "    <tr>\n",
       "      <th>AdaBoost</th>\n",
       "      <td>1.00</td>\n",
       "      <td>1.00</td>\n",
       "      <td>1.00</td>\n",
       "      <td>1.00</td>\n",
       "    </tr>\n",
       "    <tr>\n",
       "      <th>GradientBoostingClassifier</th>\n",
       "      <td>1.00</td>\n",
       "      <td>1.00</td>\n",
       "      <td>1.00</td>\n",
       "      <td>1.00</td>\n",
       "    </tr>\n",
       "    <tr>\n",
       "      <th>BaggingClassifier</th>\n",
       "      <td>0.00</td>\n",
       "      <td>0.00</td>\n",
       "      <td>0.82</td>\n",
       "      <td>0.72</td>\n",
       "    </tr>\n",
       "    <tr>\n",
       "      <th>VotingClassifier</th>\n",
       "      <td>0.92</td>\n",
       "      <td>0.93</td>\n",
       "      <td>1.00</td>\n",
       "      <td>1.00</td>\n",
       "    </tr>\n",
       "  </tbody>\n",
       "</table>\n",
       "</div>"
      ],
      "text/plain": [
       "                            Train  Test  Train Over Sampler  Test Over Sampler\n",
       "Classifier accuracy                                                           \n",
       "Logistic Regression          0.71  0.72                0.92               0.93\n",
       "Linear SVM                   0.39  0.41                0.82               0.83\n",
       "Decision Tree                0.92  0.93                1.00               1.00\n",
       "Extra Tree                   0.47  0.45                0.90               0.93\n",
       "Random Forest                0.25  0.34                0.94               0.97\n",
       "Neural Net                   1.00  1.00                1.00               1.00\n",
       "AdaBoost                     1.00  1.00                1.00               1.00\n",
       "GradientBoostingClassifier   1.00  1.00                1.00               1.00\n",
       "BaggingClassifier            0.00  0.00                0.82               0.72\n",
       "VotingClassifier             0.92  0.93                1.00               1.00"
      ]
     },
     "execution_count": 35,
     "metadata": {},
     "output_type": "execute_result"
    }
   ],
   "source": [
    "res = pd.DataFrame(index = names)\n",
    "res['Train'] = np.array(scores_train)\n",
    "res['Test'] = np.array(scores_test)\n",
    "res['Train Over Sampler'] = np.array(scores_train_s)\n",
    "res['Test Over Sampler'] = np.array(scores_test_s)\n",
    "\n",
    "res.index.name = \"Classifier accuracy\"\n",
    "res\n"
   ]
  },
  {
   "cell_type": "code",
   "execution_count": 36,
   "id": "38d040a5-d627-4b6f-baf2-a1fdff823d2e",
   "metadata": {},
   "outputs": [
    {
     "data": {
      "image/png": "[encoded data removed]",
      "text/plain": [
       "<Figure size 720x720 with 1 Axes>"
      ]
     },
     "metadata": {
      "needs_background": "light"
     },
     "output_type": "display_data"
    }
   ],
   "source": [
    "res[['Test', 'Test Over Sampler']].plot(kind=\"barh\", figsize=(10,10))\n",
    "plt.show()"
   ]
  },
  {
   "cell_type": "markdown",
   "id": "70fae0b2-a53e-4200-8249-fcdcb6bf5746",
   "metadata": {},
   "source": [
    "As you can see, the balanced data set leads to a sharp increase in accuracy in all classifiers. It can also be seen that the most accurate models were GradientBoostingClassifier, AdaBoost and Neural Net. The ensemble of models showed perfect accuracy.\n",
    "\n",
    "Let's display the last classifier:"
   ]
  },
  {
   "cell_type": "code",
   "execution_count": 37,
   "id": "b8f85b54-2992-4c83-8ef0-1b4689fd8ced",
   "metadata": {},
   "outputs": [
    {
     "data": {
      "text/html": [
       "<style>#sk-container-id-4 {color: black;background-color: white;}#sk-container-id-4 pre{padding: 0;}#sk-container-id-4 div.sk-toggleable {background-color: white;}#sk-container-id-4 label.sk-toggleable__label {cursor: pointer;display: block;width: 100%;margin-bottom: 0;padding: 0.3em;box-sizing: border-box;text-align: center;}#sk-container-id-4 label.sk-toggleable__label-arrow:before {content: \"▸\";float: left;margin-right: 0.25em;color: #696969;}#sk-container-id-4 label.sk-toggleable__label-arrow:hover:before {color: black;}#sk-container-id-4 div.sk-estimator:hover label.sk-toggleable__label-arrow:before {color: black;}#sk-container-id-4 div.sk-toggleable__content {max-height: 0;max-width: 0;overflow: hidden;text-align: left;background-color: #f0f8ff;}#sk-container-id-4 div.sk-toggleable__content pre {margin: 0.2em;color: black;border-radius: 0.25em;background-color: #f0f8ff;}#sk-container-id-4 input.sk-toggleable__control:checked~div.sk-toggleable__content {max-height: 200px;max-width: 100%;overflow: auto;}#sk-container-id-4 input.sk-toggleable__control:checked~label.sk-toggleable__label-arrow:before {content: \"▾\";}#sk-container-id-4 div.sk-estimator input.sk-toggleable__control:checked~label.sk-toggleable__label {background-color: #d4ebff;}#sk-container-id-4 div.sk-label input.sk-toggleable__control:checked~label.sk-toggleable__label {background-color: #d4ebff;}#sk-container-id-4 input.sk-hidden--visually {border: 0;clip: rect(1px 1px 1px 1px);clip: rect(1px, 1px, 1px, 1px);height: 1px;margin: -1px;overflow: hidden;padding: 0;position: absolute;width: 1px;}#sk-container-id-4 div.sk-estimator {font-family: monospace;background-color: #f0f8ff;border: 1px dotted black;border-radius: 0.25em;box-sizing: border-box;margin-bottom: 0.5em;}#sk-container-id-4 div.sk-estimator:hover {background-color: #d4ebff;}#sk-container-id-4 div.sk-parallel-item::after {content: \"\";width: 100%;border-bottom: 1px solid gray;flex-grow: 1;}#sk-container-id-4 div.sk-label:hover label.sk-toggleable__label {background-color: #d4ebff;}#sk-container-id-4 div.sk-serial::before {content: \"\";position: absolute;border-left: 1px solid gray;box-sizing: border-box;top: 0;bottom: 0;left: 50%;z-index: 0;}#sk-container-id-4 div.sk-serial {display: flex;flex-direction: column;align-items: center;background-color: white;padding-right: 0.2em;padding-left: 0.2em;position: relative;}#sk-container-id-4 div.sk-item {position: relative;z-index: 1;}#sk-container-id-4 div.sk-parallel {display: flex;align-items: stretch;justify-content: center;background-color: white;position: relative;}#sk-container-id-4 div.sk-item::before, #sk-container-id-4 div.sk-parallel-item::before {content: \"\";position: absolute;border-left: 1px solid gray;box-sizing: border-box;top: 0;bottom: 0;left: 50%;z-index: -1;}#sk-container-id-4 div.sk-parallel-item {display: flex;flex-direction: column;z-index: 1;position: relative;background-color: white;}#sk-container-id-4 div.sk-parallel-item:first-child::after {align-self: flex-end;width: 50%;}#sk-container-id-4 div.sk-parallel-item:last-child::after {align-self: flex-start;width: 50%;}#sk-container-id-4 div.sk-parallel-item:only-child::after {width: 0;}#sk-container-id-4 div.sk-dashed-wrapped {border: 1px dashed gray;margin: 0 0.4em 0.5em 0.4em;box-sizing: border-box;padding-bottom: 0.4em;background-color: white;}#sk-container-id-4 div.sk-label label {font-family: monospace;font-weight: bold;display: inline-block;line-height: 1.2em;}#sk-container-id-4 div.sk-label-container {text-align: center;}#sk-container-id-4 div.sk-container {/* jupyter's `normalize.less` sets `[hidden] { display: none; }` but bootstrap.min.css set `[hidden] { display: none !important; }` so we also need the `!important` here to be able to override the default hidden behavior on the sphinx rendered scikit-learn.org. See: https://github.com/scikit-learn/scikit-learn/issues/21755 */display: inline-block !important;position: relative;}#sk-container-id-4 div.sk-text-repr-fallback {display: none;}</style><div id=\"sk-container-id-4\" class=\"sk-top-container\"><div class=\"sk-text-repr-fallback\"><pre>Pipeline(steps=[(&#x27;columntransformer&#x27;,\n",
       "                 ColumnTransformer(remainder=&#x27;passthrough&#x27;,\n",
       "                                   transformers=[(&#x27;ordinalencoder&#x27;,\n",
       "                                                  OrdinalEncoder(handle_unknown=&#x27;use_encoded_value&#x27;,\n",
       "                                                                 unknown_value=-1),\n",
       "                                                  [&#x27;Age Group&#x27;,\n",
       "                                                   &#x27;Marital Status&#x27;, &#x27;Category&#x27;,\n",
       "                                                   &#x27;Others&#x27;, &#x27;Diagnosis&#x27;,\n",
       "                                                   &#x27;SK React&#x27;,\n",
       "                                                   &#x27;Max heart rate-binned&#x27;]),\n",
       "                                                 (&#x27;standardscaler&#x27;,\n",
       "                                                  StandardScaler(),\n",
       "                                                  [&#x27;Lifestyle&#x27;, &#x27;Sleep&#x27;,\n",
       "                                                   &#x27;Depression&#x27;,\n",
       "                                                   &#x27;Hyperli...\n",
       "                                              (&#x27;AdaBoostClassifier(n_estimators=100, &#x27;\n",
       "                                               &#x27;random_state=0)&#x27;,\n",
       "                                               AdaBoostClassifier(n_estimators=100,\n",
       "                                                                  random_state=0)),\n",
       "                                              (&#x27;GradientBoostingClassifier(learning_rate=1.0, &#x27;\n",
       "                                               &#x27;max_depth=1, random_state=0)&#x27;,\n",
       "                                               GradientBoostingClassifier(learning_rate=1.0,\n",
       "                                                                          max_depth=1,\n",
       "                                                                          random_state=0)),\n",
       "                                              (&#x27;BaggingClassifier(base_estimator=SVC(), &#x27;\n",
       "                                               &#x27;random_state=0)&#x27;,\n",
       "                                               BaggingClassifier(base_estimator=SVC(),\n",
       "                                                                 random_state=0))]))])</pre><b>In a Jupyter environment, please rerun this cell to show the HTML representation or trust the notebook. <br />On GitHub, the HTML representation is unable to render, please try loading this page with nbviewer.org.</b></div><div class=\"sk-container\" hidden><div class=\"sk-item sk-dashed-wrapped\"><div class=\"sk-label-container\"><div class=\"sk-label sk-toggleable\"><input class=\"sk-toggleable__control sk-hidden--visually\" id=\"sk-estimator-id-27\" type=\"checkbox\" ><label for=\"sk-estimator-id-27\" class=\"sk-toggleable__label sk-toggleable__label-arrow\">Pipeline</label><div class=\"sk-toggleable__content\"><pre>Pipeline(steps=[(&#x27;columntransformer&#x27;,\n",
       "                 ColumnTransformer(remainder=&#x27;passthrough&#x27;,\n",
       "                                   transformers=[(&#x27;ordinalencoder&#x27;,\n",
       "                                                  OrdinalEncoder(handle_unknown=&#x27;use_encoded_value&#x27;,\n",
       "                                                                 unknown_value=-1),\n",
       "                                                  [&#x27;Age Group&#x27;,\n",
       "                                                   &#x27;Marital Status&#x27;, &#x27;Category&#x27;,\n",
       "                                                   &#x27;Others&#x27;, &#x27;Diagnosis&#x27;,\n",
       "                                                   &#x27;SK React&#x27;,\n",
       "                                                   &#x27;Max heart rate-binned&#x27;]),\n",
       "                                                 (&#x27;standardscaler&#x27;,\n",
       "                                                  StandardScaler(),\n",
       "                                                  [&#x27;Lifestyle&#x27;, &#x27;Sleep&#x27;,\n",
       "                                                   &#x27;Depression&#x27;,\n",
       "                                                   &#x27;Hyperli...\n",
       "                                              (&#x27;AdaBoostClassifier(n_estimators=100, &#x27;\n",
       "                                               &#x27;random_state=0)&#x27;,\n",
       "                                               AdaBoostClassifier(n_estimators=100,\n",
       "                                                                  random_state=0)),\n",
       "                                              (&#x27;GradientBoostingClassifier(learning_rate=1.0, &#x27;\n",
       "                                               &#x27;max_depth=1, random_state=0)&#x27;,\n",
       "                                               GradientBoostingClassifier(learning_rate=1.0,\n",
       "                                                                          max_depth=1,\n",
       "                                                                          random_state=0)),\n",
       "                                              (&#x27;BaggingClassifier(base_estimator=SVC(), &#x27;\n",
       "                                               &#x27;random_state=0)&#x27;,\n",
       "                                               BaggingClassifier(base_estimator=SVC(),\n",
       "                                                                 random_state=0))]))])</pre></div></div></div><div class=\"sk-serial\"><div class=\"sk-item sk-dashed-wrapped\"><div class=\"sk-label-container\"><div class=\"sk-label sk-toggleable\"><input class=\"sk-toggleable__control sk-hidden--visually\" id=\"sk-estimator-id-28\" type=\"checkbox\" ><label for=\"sk-estimator-id-28\" class=\"sk-toggleable__label sk-toggleable__label-arrow\">columntransformer: ColumnTransformer</label><div class=\"sk-toggleable__content\"><pre>ColumnTransformer(remainder=&#x27;passthrough&#x27;,\n",
       "                  transformers=[(&#x27;ordinalencoder&#x27;,\n",
       "                                 OrdinalEncoder(handle_unknown=&#x27;use_encoded_value&#x27;,\n",
       "                                                unknown_value=-1),\n",
       "                                 [&#x27;Age Group&#x27;, &#x27;Marital Status&#x27;, &#x27;Category&#x27;,\n",
       "                                  &#x27;Others&#x27;, &#x27;Diagnosis&#x27;, &#x27;SK React&#x27;,\n",
       "                                  &#x27;Max heart rate-binned&#x27;]),\n",
       "                                (&#x27;standardscaler&#x27;, StandardScaler(),\n",
       "                                 [&#x27;Lifestyle&#x27;, &#x27;Sleep&#x27;, &#x27;Depression&#x27;,\n",
       "                                  &#x27;Hyperlipidemia&#x27;, &#x27;Smoking&#x27;, &#x27;Diabetes&#x27;,\n",
       "                                  &#x27;HTN&#x27;, &#x27;Allergies&#x27;, &#x27;BP&#x27;, &#x27;Thrombolysis&#x27;,\n",
       "                                  &#x27;BGR&#x27;, &#x27;CPK&#x27;, &#x27;ESR&#x27;, &#x27;WBC&#x27;, &#x27;RBC&#x27;,\n",
       "                                  &#x27;Hemoglobin&#x27;, &#x27;MCH&#x27;, &#x27;MCHC&#x27;, &#x27;PlateletCount&#x27;,\n",
       "                                  &#x27;Lymphocyte&#x27;, &#x27;Monocyte&#x27;, &#x27;Eosinophil&#x27;,\n",
       "                                  &#x27;Hypersensitivity&#x27;, &#x27;Chest pain type&#x27;,\n",
       "                                  &#x27;Resting BP&#x27;, &#x27;Serum cholesterol&#x27;, &#x27;FBS&#x27;,\n",
       "                                  &#x27;Resting electrocardiographic&#x27;,\n",
       "                                  &#x27;Max heart rate&#x27;, &#x27;Angina&#x27;, ...])])</pre></div></div></div><div class=\"sk-parallel\"><div class=\"sk-parallel-item\"><div class=\"sk-item\"><div class=\"sk-label-container\"><div class=\"sk-label sk-toggleable\"><input class=\"sk-toggleable__control sk-hidden--visually\" id=\"sk-estimator-id-29\" type=\"checkbox\" ><label for=\"sk-estimator-id-29\" class=\"sk-toggleable__label sk-toggleable__label-arrow\">ordinalencoder</label><div class=\"sk-toggleable__content\"><pre>[&#x27;Age Group&#x27;, &#x27;Marital Status&#x27;, &#x27;Category&#x27;, &#x27;Others&#x27;, &#x27;Diagnosis&#x27;, &#x27;SK React&#x27;, &#x27;Max heart rate-binned&#x27;]</pre></div></div></div><div class=\"sk-serial\"><div class=\"sk-item\"><div class=\"sk-estimator sk-toggleable\"><input class=\"sk-toggleable__control sk-hidden--visually\" id=\"sk-estimator-id-30\" type=\"checkbox\" ><label for=\"sk-estimator-id-30\" class=\"sk-toggleable__label sk-toggleable__label-arrow\">OrdinalEncoder</label><div class=\"sk-toggleable__content\"><pre>OrdinalEncoder(handle_unknown=&#x27;use_encoded_value&#x27;, unknown_value=-1)</pre></div></div></div></div></div></div><div class=\"sk-parallel-item\"><div class=\"sk-item\"><div class=\"sk-label-container\"><div class=\"sk-label sk-toggleable\"><input class=\"sk-toggleable__control sk-hidden--visually\" id=\"sk-estimator-id-31\" type=\"checkbox\" ><label for=\"sk-estimator-id-31\" class=\"sk-toggleable__label sk-toggleable__label-arrow\">standardscaler</label><div class=\"sk-toggleable__content\"><pre>[&#x27;Lifestyle&#x27;, &#x27;Sleep&#x27;, &#x27;Depression&#x27;, &#x27;Hyperlipidemia&#x27;, &#x27;Smoking&#x27;, &#x27;Diabetes&#x27;, &#x27;HTN&#x27;, &#x27;Allergies&#x27;, &#x27;BP&#x27;, &#x27;Thrombolysis&#x27;, &#x27;BGR&#x27;, &#x27;CPK&#x27;, &#x27;ESR&#x27;, &#x27;WBC&#x27;, &#x27;RBC&#x27;, &#x27;Hemoglobin&#x27;, &#x27;MCH&#x27;, &#x27;MCHC&#x27;, &#x27;PlateletCount&#x27;, &#x27;Lymphocyte&#x27;, &#x27;Monocyte&#x27;, &#x27;Eosinophil&#x27;, &#x27;Hypersensitivity&#x27;, &#x27;Chest pain type&#x27;, &#x27;Resting BP&#x27;, &#x27;Serum cholesterol&#x27;, &#x27;FBS&#x27;, &#x27;Resting electrocardiographic&#x27;, &#x27;Max heart rate&#x27;, &#x27;Angina&#x27;, &#x27;ST depression&#x27;, &#x27;Slope&#x27;, &#x27;Vessels num&#x27;, &#x27;Thal&#x27;, &#x27;Num&#x27;, &#x27;Streptokinase&#x27;, &#x27;Follow up&#x27;, &#x27;Gender-male&#x27;, &#x27;Locality-urban&#x27;]</pre></div></div></div><div class=\"sk-serial\"><div class=\"sk-item\"><div class=\"sk-estimator sk-toggleable\"><input class=\"sk-toggleable__control sk-hidden--visually\" id=\"sk-estimator-id-32\" type=\"checkbox\" ><label for=\"sk-estimator-id-32\" class=\"sk-toggleable__label sk-toggleable__label-arrow\">StandardScaler</label><div class=\"sk-toggleable__content\"><pre>StandardScaler()</pre></div></div></div></div></div></div><div class=\"sk-parallel-item\"><div class=\"sk-item\"><div class=\"sk-label-container\"><div class=\"sk-label sk-toggleable\"><input class=\"sk-toggleable__control sk-hidden--visually\" id=\"sk-estimator-id-33\" type=\"checkbox\" ><label for=\"sk-estimator-id-33\" class=\"sk-toggleable__label sk-toggleable__label-arrow\">remainder</label><div class=\"sk-toggleable__content\"><pre>[]</pre></div></div></div><div class=\"sk-serial\"><div class=\"sk-item\"><div class=\"sk-estimator sk-toggleable\"><input class=\"sk-toggleable__control sk-hidden--visually\" id=\"sk-estimator-id-34\" type=\"checkbox\" ><label for=\"sk-estimator-id-34\" class=\"sk-toggleable__label sk-toggleable__label-arrow\">passthrough</label><div class=\"sk-toggleable__content\"><pre>passthrough</pre></div></div></div></div></div></div></div></div><div class=\"sk-item\"><div class=\"sk-estimator sk-toggleable\"><input class=\"sk-toggleable__control sk-hidden--visually\" id=\"sk-estimator-id-35\" type=\"checkbox\" ><label for=\"sk-estimator-id-35\" class=\"sk-toggleable__label sk-toggleable__label-arrow\">RandomOverSampler</label><div class=\"sk-toggleable__content\"><pre>RandomOverSampler()</pre></div></div></div><div class=\"sk-item sk-dashed-wrapped\"><div class=\"sk-label-container\"><div class=\"sk-label sk-toggleable\"><input class=\"sk-toggleable__control sk-hidden--visually\" id=\"sk-estimator-id-36\" type=\"checkbox\" ><label for=\"sk-estimator-id-36\" class=\"sk-toggleable__label sk-toggleable__label-arrow\">votingclassifier: VotingClassifier</label><div class=\"sk-toggleable__content\"><pre>VotingClassifier(estimators=[(&#x27;LogisticRegression()&#x27;, LogisticRegression()),\n",
       "                             (&quot;SVC(C=0.025, kernel=&#x27;linear&#x27;)&quot;,\n",
       "                              SVC(C=0.025, kernel=&#x27;linear&#x27;)),\n",
       "                             (&#x27;DecisionTreeClassifier(max_depth=5)&#x27;,\n",
       "                              DecisionTreeClassifier(max_depth=5)),\n",
       "                             (&#x27;ExtraTreeClassifier(max_depth=5)&#x27;,\n",
       "                              ExtraTreeClassifier(max_depth=5)),\n",
       "                             (&#x27;RandomForestClassifier(max_depth=5, &#x27;\n",
       "                              &#x27;max_features=1, n_estimators=...\n",
       "                             (&#x27;AdaBoostClassifier(n_estimators=100, &#x27;\n",
       "                              &#x27;random_state=0)&#x27;,\n",
       "                              AdaBoostClassifier(n_estimators=100,\n",
       "                                                 random_state=0)),\n",
       "                             (&#x27;GradientBoostingClassifier(learning_rate=1.0, &#x27;\n",
       "                              &#x27;max_depth=1, random_state=0)&#x27;,\n",
       "                              GradientBoostingClassifier(learning_rate=1.0,\n",
       "                                                         max_depth=1,\n",
       "                                                         random_state=0)),\n",
       "                             (&#x27;BaggingClassifier(base_estimator=SVC(), &#x27;\n",
       "                              &#x27;random_state=0)&#x27;,\n",
       "                              BaggingClassifier(base_estimator=SVC(),\n",
       "                                                random_state=0))])</pre></div></div></div><div class=\"sk-parallel\"><div class=\"sk-parallel-item\"><div class=\"sk-item\"><div class=\"sk-label-container\"><div class=\"sk-label sk-toggleable\"><label>LogisticRegression()</label></div></div><div class=\"sk-serial\"><div class=\"sk-item\"><div class=\"sk-estimator sk-toggleable\"><input class=\"sk-toggleable__control sk-hidden--visually\" id=\"sk-estimator-id-37\" type=\"checkbox\" ><label for=\"sk-estimator-id-37\" class=\"sk-toggleable__label sk-toggleable__label-arrow\">LogisticRegression</label><div class=\"sk-toggleable__content\"><pre>LogisticRegression()</pre></div></div></div></div></div></div><div class=\"sk-parallel-item\"><div class=\"sk-item\"><div class=\"sk-label-container\"><div class=\"sk-label sk-toggleable\"><label>SVC(C=0.025, kernel=&#x27;linear&#x27;)</label></div></div><div class=\"sk-serial\"><div class=\"sk-item\"><div class=\"sk-estimator sk-toggleable\"><input class=\"sk-toggleable__control sk-hidden--visually\" id=\"sk-estimator-id-38\" type=\"checkbox\" ><label for=\"sk-estimator-id-38\" class=\"sk-toggleable__label sk-toggleable__label-arrow\">SVC</label><div class=\"sk-toggleable__content\"><pre>SVC(C=0.025, kernel=&#x27;linear&#x27;)</pre></div></div></div></div></div></div><div class=\"sk-parallel-item\"><div class=\"sk-item\"><div class=\"sk-label-container\"><div class=\"sk-label sk-toggleable\"><label>DecisionTreeClassifier(max_depth=5)</label></div></div><div class=\"sk-serial\"><div class=\"sk-item\"><div class=\"sk-estimator sk-toggleable\"><input class=\"sk-toggleable__control sk-hidden--visually\" id=\"sk-estimator-id-39\" type=\"checkbox\" ><label for=\"sk-estimator-id-39\" class=\"sk-toggleable__label sk-toggleable__label-arrow\">DecisionTreeClassifier</label><div class=\"sk-toggleable__content\"><pre>DecisionTreeClassifier(max_depth=5)</pre></div></div></div></div></div></div><div class=\"sk-parallel-item\"><div class=\"sk-item\"><div class=\"sk-label-container\"><div class=\"sk-label sk-toggleable\"><label>ExtraTreeClassifier(max_depth=5)</label></div></div><div class=\"sk-serial\"><div class=\"sk-item\"><div class=\"sk-estimator sk-toggleable\"><input class=\"sk-toggleable__control sk-hidden--visually\" id=\"sk-estimator-id-40\" type=\"checkbox\" ><label for=\"sk-estimator-id-40\" class=\"sk-toggleable__label sk-toggleable__label-arrow\">ExtraTreeClassifier</label><div class=\"sk-toggleable__content\"><pre>ExtraTreeClassifier(max_depth=5)</pre></div></div></div></div></div></div><div class=\"sk-parallel-item\"><div class=\"sk-item\"><div class=\"sk-label-container\"><div class=\"sk-label sk-toggleable\"><label>RandomForestClassifier(max_depth=5, max_features=1, n_estimators=10)</label></div></div><div class=\"sk-serial\"><div class=\"sk-item\"><div class=\"sk-estimator sk-toggleable\"><input class=\"sk-toggleable__control sk-hidden--visually\" id=\"sk-estimator-id-41\" type=\"checkbox\" ><label for=\"sk-estimator-id-41\" class=\"sk-toggleable__label sk-toggleable__label-arrow\">RandomForestClassifier</label><div class=\"sk-toggleable__content\"><pre>RandomForestClassifier(max_depth=5, max_features=1, n_estimators=10)</pre></div></div></div></div></div></div><div class=\"sk-parallel-item\"><div class=\"sk-item\"><div class=\"sk-label-container\"><div class=\"sk-label sk-toggleable\"><label>MLPClassifier(alpha=1, max_iter=1000)</label></div></div><div class=\"sk-serial\"><div class=\"sk-item\"><div class=\"sk-estimator sk-toggleable\"><input class=\"sk-toggleable__control sk-hidden--visually\" id=\"sk-estimator-id-42\" type=\"checkbox\" ><label for=\"sk-estimator-id-42\" class=\"sk-toggleable__label sk-toggleable__label-arrow\">MLPClassifier</label><div class=\"sk-toggleable__content\"><pre>MLPClassifier(alpha=1, max_iter=1000)</pre></div></div></div></div></div></div><div class=\"sk-parallel-item\"><div class=\"sk-item\"><div class=\"sk-label-container\"><div class=\"sk-label sk-toggleable\"><label>AdaBoostClassifier(n_estimators=100, random_state=0)</label></div></div><div class=\"sk-serial\"><div class=\"sk-item\"><div class=\"sk-estimator sk-toggleable\"><input class=\"sk-toggleable__control sk-hidden--visually\" id=\"sk-estimator-id-43\" type=\"checkbox\" ><label for=\"sk-estimator-id-43\" class=\"sk-toggleable__label sk-toggleable__label-arrow\">AdaBoostClassifier</label><div class=\"sk-toggleable__content\"><pre>AdaBoostClassifier(n_estimators=100, random_state=0)</pre></div></div></div></div></div></div><div class=\"sk-parallel-item\"><div class=\"sk-item\"><div class=\"sk-label-container\"><div class=\"sk-label sk-toggleable\"><label>GradientBoostingClassifier(learning_rate=1.0, max_depth=1, random_state=0)</label></div></div><div class=\"sk-serial\"><div class=\"sk-item\"><div class=\"sk-estimator sk-toggleable\"><input class=\"sk-toggleable__control sk-hidden--visually\" id=\"sk-estimator-id-44\" type=\"checkbox\" ><label for=\"sk-estimator-id-44\" class=\"sk-toggleable__label sk-toggleable__label-arrow\">GradientBoostingClassifier</label><div class=\"sk-toggleable__content\"><pre>GradientBoostingClassifier(learning_rate=1.0, max_depth=1, random_state=0)</pre></div></div></div></div></div></div><div class=\"sk-parallel-item\"><div class=\"sk-item\"><div class=\"sk-label-container\"><div class=\"sk-label sk-toggleable\"><label>BaggingClassifier(base_estimator=SVC(), random_state=0)</label></div></div><div class=\"sk-serial\"><div class=\"sk-item sk-dashed-wrapped\"><div class=\"sk-parallel\"><div class=\"sk-parallel-item\"><div class=\"sk-item\"><div class=\"sk-label-container\"><div class=\"sk-label sk-toggleable\"><input class=\"sk-toggleable__control sk-hidden--visually\" id=\"sk-estimator-id-45\" type=\"checkbox\" ><label for=\"sk-estimator-id-45\" class=\"sk-toggleable__label sk-toggleable__label-arrow\">base_estimator: SVC</label><div class=\"sk-toggleable__content\"><pre>SVC()</pre></div></div></div><div class=\"sk-serial\"><div class=\"sk-item\"><div class=\"sk-estimator sk-toggleable\"><input class=\"sk-toggleable__control sk-hidden--visually\" id=\"sk-estimator-id-46\" type=\"checkbox\" ><label for=\"sk-estimator-id-46\" class=\"sk-toggleable__label sk-toggleable__label-arrow\">SVC</label><div class=\"sk-toggleable__content\"><pre>SVC()</pre></div></div></div></div></div></div></div></div></div></div></div></div></div></div></div></div></div>"
      ],
      "text/plain": [
       "Pipeline(steps=[('columntransformer',\n",
       "                 ColumnTransformer(remainder='passthrough',\n",
       "                                   transformers=[('ordinalencoder',\n",
       "                                                  OrdinalEncoder(handle_unknown='use_encoded_value',\n",
       "                                                                 unknown_value=-1),\n",
       "                                                  ['Age Group',\n",
       "                                                   'Marital Status', 'Category',\n",
       "                                                   'Others', 'Diagnosis',\n",
       "                                                   'SK React',\n",
       "                                                   'Max heart rate-binned']),\n",
       "                                                 ('standardscaler',\n",
       "                                                  StandardScaler(),\n",
       "                                                  ['Lifestyle', 'Sleep',\n",
       "                                                   'Depression',\n",
       "                                                   'Hyperli...\n",
       "                                              ('AdaBoostClassifier(n_estimators=100, '\n",
       "                                               'random_state=0)',\n",
       "                                               AdaBoostClassifier(n_estimators=100,\n",
       "                                                                  random_state=0)),\n",
       "                                              ('GradientBoostingClassifier(learning_rate=1.0, '\n",
       "                                               'max_depth=1, random_state=0)',\n",
       "                                               GradientBoostingClassifier(learning_rate=1.0,\n",
       "                                                                          max_depth=1,\n",
       "                                                                          random_state=0)),\n",
       "                                              ('BaggingClassifier(base_estimator=SVC(), '\n",
       "                                               'random_state=0)',\n",
       "                                               BaggingClassifier(base_estimator=SVC(),\n",
       "                                                                 random_state=0))]))])"
      ]
     },
     "execution_count": 37,
     "metadata": {},
     "output_type": "execute_result"
    }
   ],
   "source": [
    "clf_s"
   ]
  },
  {
   "cell_type": "markdown",
   "id": "86bfe333-44ba-4cef-b770-3befd4bb6615",
   "metadata": {},
   "source": [
    "<div class=\"alert alert-danger alertdanger\" style=\"margin-top: 20px\">\n",
    "<h1> Question  #3: </h1>\n",
    "\n",
    "<b>Choose 3 best classifiers and make an ensemble based on them</b>\n",
    "\n",
    "</div>"
   ]
  },
  {
   "cell_type": "code",
   "execution_count": 38,
   "id": "fbe8575c-641d-49c5-9324-f0db1dd517b2",
   "metadata": {},
   "outputs": [],
   "source": [
    "# Write your code below and press Shift+Enter to execute\n"
   ]
  },
  {
   "cell_type": "markdown",
   "id": "d26a690b-9c70-429f-992b-6ff4a657ee51",
   "metadata": {},
   "source": [
    "<details><summary>Click here for the solution</summary>\n",
    "\n",
    "```python\n",
    "classifiers = [\n",
    "    MLPClassifier(alpha=1, max_iter=1000),\n",
    "    AdaBoostClassifier(n_estimators=100, random_state=0),\n",
    "    GradientBoostingClassifier(n_estimators=100, learning_rate=1.0, max_depth=1, random_state=0)]\n",
    "\n",
    "est = [(str(est), est) for est in classifiers]\n",
    "\n",
    "eclf = VotingClassifier(\n",
    "     estimators=est,\n",
    "     voting='hard')\n",
    "```\n",
    "\n",
    "</details>"
   ]
  },
  {
   "cell_type": "markdown",
   "id": "7091dd5f-2911-48ee-9077-480d7d1384ea",
   "metadata": {},
   "source": [
    "<div class=\"alert alert-danger alertdanger\" style=\"margin-top: 20px\">\n",
    "<h1> Question  #4: </h1>\n",
    "\n",
    "<b>Add it to `Pipeline` (use Over Sampler) and fit it</b>\n",
    "\n",
    "</div>"
   ]
  },
  {
   "cell_type": "code",
   "execution_count": 39,
   "id": "106ac4a2-9b37-4680-b189-485a21201c97",
   "metadata": {},
   "outputs": [],
   "source": [
    "# Write your code below and press Shift+Enter to execute\n"
   ]
  },
  {
   "cell_type": "markdown",
   "id": "5eba6439-e05b-4a2a-a784-1dfd8866cc38",
   "metadata": {},
   "source": [
    "<details><summary>Click here for the solution</summary>\n",
    "\n",
    "```python\n",
    "pipe_eclf = make_pipeline(trans, eclf)\n",
    "pipe_eclf.fit(x_train,y_train)\n",
    "```\n",
    "\n",
    "</details>"
   ]
  },
  {
   "cell_type": "markdown",
   "id": "287c4d2a-7774-461c-a321-992764aed59e",
   "metadata": {},
   "source": [
    "<div class=\"alert alert-danger alertdanger\" style=\"margin-top: 20px\">\n",
    "<h1> Question  #5: </h1>\n",
    "\n",
    "<b>Calculate the accuracy of this ensemble</b>\n",
    "\n",
    "</div>"
   ]
  },
  {
   "cell_type": "code",
   "execution_count": 40,
   "id": "4a9b4ff1-7ff0-4aac-a5a4-9c737f90f368",
   "metadata": {},
   "outputs": [],
   "source": [
    "# Write your code below and press Shift+Enter to execute\n"
   ]
  },
  {
   "cell_type": "markdown",
   "id": "ce299293-056d-4766-ab81-32024f09ca3d",
   "metadata": {},
   "source": [
    "<details><summary>Click here for the solution</summary>\n",
    "\n",
    "```python\n",
    "score_train = recall_score(y_train, pipe_eclf.predict(x_train))\n",
    "score_test = recall_score(y_test, pipe_eclf.predict(x_test)) \n",
    "print('Training DataSet accuracy: {: .1%}'.format(score_train), 'Test DataSet accuracy: {: .1%}'.format(score_test))\n",
    "```\n",
    "\n",
    "</details>"
   ]
  },
  {
   "cell_type": "markdown",
   "id": "c4280178-c52e-4e2c-af6a-caefce962960",
   "metadata": {},
   "source": [
    "## Conclusions"
   ]
  },
  {
   "cell_type": "markdown",
   "id": "e493e14a-3080-4297-be86-28ad5f6b5bfc",
   "metadata": {},
   "source": [
    "In this lab we studied how to build training and test data sets and how to fit different classifiers, evaluate their accuracy and analyze errors.\n",
    "We also studied how to join them together in an ensemble and create a model based on Pipeline.\n",
    "We compared the accuracy of different classifiers and their ensemble and showed how they can be used in marketing on the example of customer classification.\n",
    "\n",
    "The accuracy of the VotingClassifier was about 100%."
   ]
  },
  {
   "cell_type": "markdown",
   "id": "c3b74c3f-82a2-456d-82d7-5d1905006e20",
   "metadata": {},
   "source": [
    "### Thank you for completing this lab!\n",
    "\n",
    "## Author\n",
    "\n",
    "<a href=\"https://author.skills.network/instructors/bohdan_kuno\">Bohdan Kuno</a>\n",
    "\n",
    "### Other Contributors\n",
    "\n",
    "<a href=\"https://author.skills.network/instructors/yaroslav_vyklyuk_2\">Prof. Yaroslav Vyklyuk, DrSc, PhD</a>\n",
    "\n",
    "<a href=\"https://author.skills.network/instructors/nataliya_boyko\">Ass. Prof. Nataliya Boyko, PhD</a>\n",
    "\n",
    "## Change Log\n",
    "\n",
    "| Date (YYYY-MM-DD) | Version | Changed By | Change Description                                         |\n",
    "| ----------------- | ------- | ---------- | ---------------------------------------------------------- |\n",
    "|2023-03-25|01|Bohdan Kuno|Lab created|\n",
    "\n",
    "\n",
    "<hr>\n",
    "\n",
    "## <h3 align=\"center\"> © IBM Corporation 2020. All rights reserved. <h3/>\n"
   ]
  }
 ],
 "metadata": {
  "kernelspec": {
   "display_name": "Python 3",
   "language": "python",
   "name": "python3"
  },
  "language_info": {
   "codemirror_mode": {
    "name": "ipython",
    "version": 3
   },
   "file_extension": ".py",
   "mimetype": "text/x-python",
   "name": "python",
   "nbconvert_exporter": "python",
   "pygments_lexer": "ipython3",
   "version": "3.8.8"
  }
 },
 "nbformat": 4,
 "nbformat_minor": 5
}