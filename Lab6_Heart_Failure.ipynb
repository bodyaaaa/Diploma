{
 "cells": [
  {
   "cell_type": "markdown",
   "id": "e84fcc88-c6b2-49b7-b419-f66c61a69b94",
   "metadata": {},
   "outputs": [],
   "source": [
    "<center>\n",
    "    <img src=\"https://cf-courses-data.s3.us.cloud-object-storage.appdomain.cloud/assets/logos/SN_web_lightmode.png\" width=\"300\" alt=\"cognitiveclass.ai logo\">\n",
    "</center>\n",
    "\n",
    "# **Heart Failure Prediction**\n",
    "\n",
    "# Lab 6. Forecasting of deaths from Heart Failure on medical measurement\n",
    "\n",
    "# Abstract\n",
    "This lab will give you experience using Python, Pandas, Sklearn, and medical data analysis to teach you how to predict heart failure symptoms based on patient conditions. Learn how to use these powerful tools to capture and use healthcare data to refine predictions. Unlock the potential of medical data models to improve overall accuracy and predictability. This lab will sum up all you've learned in this course.\n",
    "\n",
    "Estimated time needed: **30** minutes\n",
    "\n",
    "## Objectives\n",
    "\n",
    "After completing this lab you will be able to:\n",
    "\n",
    "*   Be confident about your data analysis skills\n"
   ]
  },
  {
   "cell_type": "markdown",
   "id": "0b6b82e1-e345-4566-a838-04cfb55a8ca3",
   "metadata": {},
   "outputs": [],
   "source": [
    "<h2>Table of Contents</h2>\n",
    "\n",
    "<div class=\"alert alert-block alert-info\" style=\"margin-top: 20px\">\n",
    "<ol>\n",
    "    <li><a href=\"#import\">Importing the Data</a></li>\n",
    "    <li><a href=\"#prep\">Data Pre-preparation and analyzing </a></li>\n",
    "    <li><a href=\"#logistic\">Logistic Regression evaluation and over-sampling</a></li>\n",
    "    <li><a href=\"#ensemble\">Ensemble of Classifiers</a></li>\n",
    "    <li><a href=\"#dec_tree\">Decision Tree</a></li>\n",
    "    <li><a href=\"#pred\">Prediction using your own functions</a></li>\n",
    "</ol>\n",
    "\n",
    "</div>\n",
    "\n",
    "<hr>"
   ]
  },
  {
   "cell_type": "markdown",
   "id": "c40ea0f5-96f0-4fd1-9693-5da8e2ab4dda",
   "metadata": {},
   "outputs": [],
   "source": [
    "<p>\n",
    "You can find the \"Heart Disease Dataset UCI\" from the following link: <br><a href=\"https://www.kaggle.com/datasets/ketangangal/heart-disease-dataset-uci\" target=\"_blank\">https://www.kaggle.com/datasets/ketangangal/heart-disease-dataset-uci</a>. <br><br>\n",
    "The statistical data obtained from <a href=\\\"https://www.kaggle.com/datasets/ketangangal/heart-disease-dataset-uci\" target=\\\"_blank\\\">https://www.kaggle.com/datasets/ketangangal/heart-disease-dataset-uci</a> under <a href=\\\"https://creativecommons.org/publicdomain/zero/1.0/\\\" target=\\\"_black\\\">CC0: Public Domain</a> license. <br><br>\n",
    "We will use this dataset in this lab. It contains medical information about patients, who may suffer from heart disease. Comparing it to our previous dataset, this one has similar columns, except target column, which refers to the presence of heart disease in the patient. It is integer valued 0 = no disease and 1 = disease.\n",
    "</p>"
   ]
  },
  {
   "cell_type": "markdown",
   "id": "778f27bd-e0a8-4599-86de-8641cd4084c5",
   "metadata": {},
   "outputs": [],
   "source": [
    "You will need the following libraries:\n"
   ]
  },
  {
   "cell_type": "code",
   "id": "1786c400-4842-4ffa-be25-908c1565d54b",
   "metadata": {},
   "outputs": [],
   "source": [
    "!pip install dython\n",
    "!conda install --yes -c conda-forge imbalanced-learn"
   ]
  },
  {
   "cell_type": "code",
   "id": "d11c5235-98bc-46d6-b568-3c8ad77d34b3",
   "metadata": {},
   "outputs": [],
   "source": [
    "import pandas as pd\n",
    "import numpy as np\n",
    "import matplotlib.pyplot as plt\n",
    "import seaborn as sns\n",
    "from dython.nominal import associations\n",
    "from sklearn.preprocessing import OrdinalEncoder\n",
    "from sklearn.preprocessing import StandardScaler\n",
    "from sklearn.compose import make_column_transformer\n",
    "from sklearn.model_selection import train_test_split\n",
    "from imblearn.pipeline import make_pipeline\n",
    "from sklearn.metrics import plot_confusion_matrix\n",
    "from sklearn.linear_model import LogisticRegression\n",
    "from sklearn.svm import SVC\n",
    "from sklearn.tree import DecisionTreeClassifier, ExtraTreeClassifier\n",
    "from sklearn.ensemble import RandomForestClassifier, AdaBoostClassifier\n",
    "from sklearn.neural_network import MLPClassifier\n",
    "from sklearn.ensemble import GradientBoostingClassifier\n",
    "from sklearn.ensemble import BaggingClassifier\n",
    "from sklearn.ensemble import VotingClassifier\n",
    "from sklearn.metrics import recall_score\n",
    "from sklearn.model_selection import cross_val_score\n",
    "from sklearn.model_selection import cross_val_predict\n",
    "from sklearn import *"
   ]
  },
  {
   "cell_type": "markdown",
   "id": "d5cb4c91-6465-426c-b6c2-661c6ffd14d4",
   "metadata": {},
   "outputs": [],
   "source": [
    "<div class=\"alert alert-danger alertdanger\" style=\"margin-top: 20px\">\n",
    "If error appeared please restart the kernel or run this block again\n",
    "</div>"
   ]
  },
  {
   "cell_type": "markdown",
   "id": "0338ea90-de39-48ee-ad7c-cbec732c9636",
   "metadata": {},
   "outputs": [],
   "source": [
    "## 1. Importing the Data <a id=\"import\"></a>\n"
   ]
  },
  {
   "cell_type": "markdown",
   "id": "fd6ee95f-3b85-4713-ae5e-f89e78549943",
   "metadata": {},
   "outputs": [],
   "source": [
    "you will need to download the dataset; if you are running locally, please comment out the following \n"
   ]
  },
  {
   "cell_type": "code",
   "id": "90b74a2b-dd1c-4645-bd7d-a7d1b3406db1",
   "metadata": {},
   "outputs": [],
   "source": [
    "path = 'https://cf-courses-data.s3.us.cloud-object-storage.appdomain.cloud/IBMSkillsNetwork-GPXX0N40EN/heart_disease.csv'"
   ]
  },
  {
   "cell_type": "markdown",
   "id": "b4c082dc-e649-45e8-aa83-3f12e0249474",
   "metadata": {},
   "outputs": [],
   "source": [
    "Load the csv:\n"
   ]
  },
  {
   "cell_type": "code",
   "id": "e2e5a40b-161f-474e-a039-69c01977287c",
   "metadata": {},
   "outputs": [],
   "source": [
    "df= pd.read_csv(path)"
   ]
  },
  {
   "cell_type": "markdown",
   "id": "f0c282c0-d202-43b3-8fd0-4741e3ae4502",
   "metadata": {},
   "outputs": [],
   "source": [
    "Set number of digits in float type:"
   ]
  },
  {
   "cell_type": "code",
   "id": "30aa78b2-85af-40e4-9914-51a4ed09102a",
   "metadata": {},
   "outputs": [],
   "source": [
    "pd.options.display.float_format = '{:.2f}'.format"
   ]
  },
  {
   "cell_type": "markdown",
   "id": "b8ac650b-fcce-46c3-93cc-28b447d8f006",
   "metadata": {},
   "outputs": [],
   "source": [
    "We use the method  <code>head()</code>  to display the first 5 columns of the dataframe:\n"
   ]
  },
  {
   "cell_type": "code",
   "id": "e60b8aad-fd73-4335-a588-a205933b29c5",
   "metadata": {},
   "outputs": [],
   "source": [
    "df.head()"
   ]
  },
  {
   "cell_type": "markdown",
   "id": "7ed5a706-d0fb-4187-afb8-3848544fb003",
   "metadata": {},
   "outputs": [],
   "source": [
    "<details>\n",
    "<summary><b>Click to see attribute information</b></summary>\n",
    "\n",
    "Input features (column names):\n",
    "\n",
    "1. `age` - patient's age in years\n",
    "2. `sex` - patient's sex ('Male', 'Female')\n",
    "3. `chest_pain_type` - chest pain type ('typical angina', 'atypical angina', 'non-anginal pain', 'asymptomatic')\n",
    "4. `resting_blood_pressure` - resting blood pressure\n",
    "5. `cholestoral` - serum cholestoral in mg/dl\n",
    "6. `fasting_blood_sugar` - fasting blood sugar > 120 mg/dl\n",
    "7. `rest_ecg` - resting electrocardiographic results ('normal', 'ST-T wave abnormality', 'Left ventricular hypertrophy')\n",
    "8. `Max_heart_rate` - maximum heart rate achieved\n",
    "9. `exercise_induced_angina` - exercise induced angina ('Yes', 'No')\n",
    "10. `oldpeak` - ST depression induced by exercise relative to rest\n",
    "11. `slope` - the slope of the peak exercise ST segment ('Upsloping', 'Downsloping', 'Flat')\n",
    "12. `vessels_colored_by_flourosopy` - number of major vessels colored by fluoroscopy\n",
    "13. `thalassemia` - normal; fixed defect; reversible defect\n",
    "\n",
    "Output feature (desired target):\n",
    "\n",
    "14. `target` - does the patient have heart disease? (binary)\n",
    "</details>"
   ]
  },
  {
   "cell_type": "markdown",
   "id": "8b656e1f-202d-4a31-8d03-51d6eeda35f1",
   "metadata": {},
   "outputs": [],
   "source": [
    "## 2. Data Pre-preparation and analyzing <a id=\"prep\"></a>"
   ]
  },
  {
   "cell_type": "markdown",
   "id": "964667da-02c4-443a-8b9a-90106416c084",
   "metadata": {},
   "outputs": [],
   "source": [
    "<div class=\"alert alert-danger alertdanger\" style=\"margin-top: 20px\">\n",
    "<h1> Question 1 </h1>\n",
    "<b> Display the data types of each column using the attribute `dtypes`.</b>\n",
    "</div>"
   ]
  },
  {
   "cell_type": "code",
   "id": "3cb5f9ac-c6a0-4e7a-ba08-0c44f8ccaf41",
   "metadata": {},
   "outputs": [],
   "source": [
    "# Write your code below and press Shift+Enter to execute\n"
   ]
  },
  {
   "cell_type": "markdown",
   "id": "8ac1110a-c77b-436f-89af-8ea497616846",
   "metadata": {},
   "outputs": [],
   "source": [
    "<div class=\"alert alert-danger alertdanger\" style=\"margin-top: 20px\">\n<h1> Question 2 </h1>\n<b> Check if this DataSet contains NaN values.</b>\n</div>"
   ]
  },
  {
   "cell_type": "code",
   "id": "32989651-6118-4562-b987-e1b36699a599",
   "metadata": {},
   "outputs": [],
   "source": [
    "# Write your code below and press Shift+Enter to execute\n"
   ]
  },
  {
   "cell_type": "markdown",
   "id": "87c0a15e-9c0f-4db8-9882-bdddaee25b86",
   "metadata": {},
   "outputs": [],
   "source": [
    "<div class=\"alert alert-danger alertdanger\" style=\"margin-top: 20px\">\n<h1> Question 3 </h1>\n<b>Check the correlation (numerical values) and association (objects) of each pair of columns.</b>\n</div>"
   ]
  },
  {
   "cell_type": "code",
   "id": "3a82ed73-494e-45c7-85a3-9538ef228ed2",
   "metadata": {},
   "outputs": [],
   "source": [
    "# Write your code below and press Shift+Enter to execute\n"
   ]
  },
  {
   "cell_type": "markdown",
   "id": "6529fb19-c624-4b4e-9799-9655f0f517e7",
   "metadata": {},
   "outputs": [],
   "source": [
    "<div class=\"alert alert-danger alertdanger\" style=\"margin-top: 20px\">\n<h1> Question 4 </h1>\n<b>Divide the dataset into input and target factors.</b>\n</div>"
   ]
  },
  {
   "cell_type": "code",
   "id": "54a7ba28-b294-499d-a137-acec8af6add6",
   "metadata": {},
   "outputs": [],
   "source": [
    "# Write your code below and press Shift+Enter to execute\n"
   ]
  },
  {
   "cell_type": "markdown",
   "id": "c683010e-1bdf-4fbd-a2c9-ae4f9c1ae5fd",
   "metadata": {},
   "outputs": [],
   "source": [
    "<div class=\"alert alert-danger alertdanger\" style=\"margin-top: 20px\">\n<h1> Question 5 </h1>\n<b>Create column transformer using `OrdinalEncoder()` and `StandardScaler()` and visualize it.</b>\n</div>"
   ]
  },
  {
   "cell_type": "code",
   "id": "109c6bad-c064-4966-90ae-2c323a303025",
   "metadata": {},
   "outputs": [],
   "source": [
    "# Write your code below and press Shift+Enter to execute\n"
   ]
  },
  {
   "cell_type": "markdown",
   "id": "4b2af443-1293-468d-bb59-d31af3bf641b",
   "metadata": {},
   "outputs": [],
   "source": [
    "## 3. Logistic Regression evaluation and over-sampling <a id=\"logistic\"></a>"
   ]
  },
  {
   "cell_type": "markdown",
   "id": "ede38520-fe5c-4b40-9d50-c9c5f94e1ffa",
   "metadata": {},
   "outputs": [],
   "source": [
    "<div class=\"alert alert-danger alertdanger\" style=\"margin-top: 20px\">\n<h1> Question 6 </h1>\n<b>Separate DataSets for train and test DataSets in 0.3 proportion train/test.</b>\n</div>"
   ]
  },
  {
   "cell_type": "code",
   "id": "0ec3bc91-1915-46e0-a384-d8aaa3756b2b",
   "metadata": {},
   "outputs": [],
   "source": [
    "# Write your code below and press Shift+Enter to execute\n"
   ]
  },
  {
   "cell_type": "markdown",
   "id": "3c7e5793-4ac5-49cf-8aaa-9e54c8462e0f",
   "metadata": {},
   "outputs": [],
   "source": [
    "<div class=\"alert alert-danger alertdanger\" style=\"margin-top: 20px\">\n<h1> Question 7 </h1>\n<b>Create Pipeline using `LogisticRegression()` model and show its accuracy and recall score.</b>\n</div>"
   ]
  },
  {
   "cell_type": "code",
   "id": "3c06d3ce-8736-442f-8505-cffe428a3afa",
   "metadata": {},
   "outputs": [],
   "source": [
    "# Write your code below and press Shift+Enter to execute\n"
   ]
  },
  {
   "cell_type": "markdown",
   "id": "6cac9822-5cfb-4847-9a1e-859a290f29d6",
   "metadata": {},
   "outputs": [],
   "source": [
    "<div class=\"alert alert-danger alertdanger\" style=\"margin-top: 20px\">\n<h1> Question 8 </h1>\n<b>Calculate Cross-Validation Score using 4 folds, calculate the average and standard deviation of estimate and predict the output.</b>\n</div>"
   ]
  },
  {
   "cell_type": "code",
   "id": "9ba3df71-a677-45ed-9ec4-6e17ff7e2c31",
   "metadata": {},
   "outputs": [],
   "source": [
    "# Write your code below and press Shift+Enter to execute\n"
   ]
  },
  {
   "cell_type": "markdown",
   "id": "c3301bf4-533e-467a-9cc1-2851622b235e",
   "metadata": {},
   "outputs": [],
   "source": [
    "<div class=\"alert alert-danger alertdanger\" style=\"margin-top: 20px\">\n<h1> Question 9 </h1>\n<b>Plot the confusion matrix to evaluate the correctness of the classification.</b>\n</div>"
   ]
  },
  {
   "cell_type": "code",
   "id": "d92beee6-4bcf-43de-bbf0-6662f92006bb",
   "metadata": {},
   "outputs": [],
   "source": [
    "# Write your code below and press Shift+Enter to execute\n"
   ]
  },
  {
   "cell_type": "markdown",
   "id": "fc0bd344-ffd3-4b28-91f5-e5acfd289b53",
   "metadata": {},
   "outputs": [],
   "source": [
    "<div class=\"alert alert-danger alertdanger\" style=\"margin-top: 20px\">\n<h1> Question 10 </h1>\n<b>Check whether the number of values of target column is similar, use `RandomOverSampler()` if it's not.</b>\n</div>"
   ]
  },
  {
   "cell_type": "code",
   "id": "30681bf4-9c68-4114-bf0d-1e33b79bcd97",
   "metadata": {},
   "outputs": [],
   "source": [
    "# Write your code below and press Shift+Enter to execute\n"
   ]
  },
  {
   "cell_type": "markdown",
   "id": "98950103-329c-46ed-9e1d-32a6ffe67b26",
   "metadata": {},
   "outputs": [],
   "source": [
    "## 4. Ensemble of Classifiers <a id=\"ensemble\"></a>"
   ]
  },
  {
   "cell_type": "markdown",
   "id": "d54f4b77-90f8-4bf5-b428-684ba3c54fc2",
   "metadata": {},
   "outputs": [],
   "source": [
    "<div class=\"alert alert-danger alertdanger\" style=\"margin-top: 20px\">\n<h1> Question 11 </h1>\n<b>Test different classifiers including `VotingClassifier()` and calculate their accuracy.</b>\n</div>"
   ]
  },
  {
   "cell_type": "code",
   "id": "dc3621b4-403c-4e3e-97ea-d0559357e81f",
   "metadata": {},
   "outputs": [],
   "source": [
    "# Write your code below and press Shift+Enter to execute\n"
   ]
  },
  {
   "cell_type": "markdown",
   "id": "12390c3e-cf31-4c79-a469-31c433269b6e",
   "metadata": {},
   "outputs": [],
   "source": [
    "<div class=\"alert alert-danger alertdanger\" style=\"margin-top: 20px\">\n<h1> Question 12 </h1>\n<b>Compare the accuracy of classifiers and build a plot to visualize it.</b>\n</div>"
   ]
  },
  {
   "cell_type": "code",
   "id": "80f88fe8-abe6-4315-82e4-420da0fb3815",
   "metadata": {},
   "outputs": [],
   "source": [
    "# Write your code below and press Shift+Enter to execute\n"
   ]
  },
  {
   "cell_type": "markdown",
   "id": "6a88482f-962e-4fa7-901a-aad4cfce0d76",
   "metadata": {},
   "outputs": [],
   "source": [
    "## 5. Decision Tree <a id=\"dec_tree\"></a>"
   ]
  },
  {
   "cell_type": "markdown",
   "id": "328fb003-bc27-4f5f-8e92-56dbe6f1f3be",
   "metadata": {},
   "outputs": [],
   "source": [
    "<div class=\"alert alert-danger alertdanger\" style=\"margin-top: 20px\">\n<h1> Question 13 </h1>\n<b>Create a Pipeline based on Decision Tree, calculate and visualize its accuracy. Use `max_depth = 3` in order to see the vertices clearly.</b>\n</div>"
   ]
  },
  {
   "cell_type": "code",
   "id": "8c860c9f-e2c1-48b2-ae25-80ef222a2939",
   "metadata": {},
   "outputs": [],
   "source": [
    "# Write your code below and press Shift+Enter to execute\n"
   ]
  },
  {
   "cell_type": "markdown",
   "id": "0cb13aa9-4b26-465c-88b8-50f9d55a5bcb",
   "metadata": {},
   "outputs": [],
   "source": [
    "<div class=\"alert alert-danger alertdanger\" style=\"margin-top: 20px\">\n<h1> Question 14 </h1>\n<b>Visualize the Decision Tree using `plot_tree` function.</b>\n</div>"
   ]
  },
  {
   "cell_type": "code",
   "id": "a09df4c0-478a-4078-b41a-c96173d994c6",
   "metadata": {},
   "outputs": [],
   "source": [
    "# Write your code below and press Shift+Enter to execute\n"
   ]
  },
  {
   "cell_type": "markdown",
   "id": "e6980e69-8dce-4f54-8753-bc299dc6e0f0",
   "metadata": {},
   "outputs": [],
   "source": [
    "## 6. Prediction using your own functions <a id=\"pred\"></a>"
   ]
  },
  {
   "cell_type": "markdown",
   "id": "401ac3d1-817f-4743-a636-28761a0dec71",
   "metadata": {},
   "outputs": [],
   "source": [
    "<div class=\"alert alert-danger alertdanger\" style=\"margin-top: 20px\">\n<h1> Question 15 </h1>\n<b>Create a function called `create_ensemble()`, that can create ensemble using a predetermined number of classifiers. Make a pipeline with it, fit it and calculate its accuracy.</b>\n</div>"
   ]
  },
  {
   "cell_type": "code",
   "id": "a8fc83f2-d9dd-4f5f-807b-2d888f2ded97",
   "metadata": {},
   "outputs": [],
   "source": [
    "# Write your code below and press Shift+Enter to execute\n"
   ]
  },
  {
   "cell_type": "markdown",
   "id": "ad10778e-e757-427b-89b9-cdffda055e2f",
   "metadata": {},
   "outputs": [],
   "source": [
    "<div class=\"alert alert-danger alertdanger\" style=\"margin-top: 20px\">\n<h1> Question 16 </h1>\n<b>Create `make_prediction()` function, that returns an answer to whether the patient has heart disease. Input should contain a DataFrame and a classifier.</b>\n</div>"
   ]
  },
  {
   "cell_type": "code",
   "id": "0219bda7-204b-453b-999d-11b7549f5bb1",
   "metadata": {},
   "outputs": [],
   "source": [
    "# Write your code below and press Shift+Enter to execute\n"
   ]
  },
  {
   "cell_type": "markdown",
   "id": "c888c1ae-859d-4d74-ba71-797077694d45",
   "metadata": {},
   "outputs": [],
   "source": [
    "<div class=\"alert alert-danger alertdanger\" style=\"margin-top: 20px\">\n<h1> Question 17 </h1>\n<b>Create a new ensemble of your own list of classifiers using the first function.</b>\n</div>"
   ]
  },
  {
   "cell_type": "code",
   "id": "9505f03b-40f5-4b71-af95-de46f32325d9",
   "metadata": {},
   "outputs": [],
   "source": [
    "# Write your code below and press Shift+Enter to execute\n"
   ]
  },
  {
   "cell_type": "markdown",
   "id": "af9b185d-1ca6-43c9-91a4-05b3fdf48118",
   "metadata": {},
   "outputs": [],
   "source": [
    "<div class=\"alert alert-danger alertdanger\" style=\"margin-top: 20px\">\n<h1> Question 18 </h1>\n<b>Predict the output with your own data, using the second function and the ensemble you just obtained.</b>\n</div>"
   ]
  },
  {
   "cell_type": "code",
   "id": "176dedc3-7f6c-43f5-82ae-8564ff938790",
   "metadata": {},
   "outputs": [],
   "source": [
    "# Write your code below and press Shift+Enter to execute\n"
   ]
  },
  {
   "cell_type": "markdown",
   "id": "d504ab88-fc5c-489f-9f19-a6c47a818904",
   "metadata": {},
   "outputs": [],
   "source": [
    "<b>Sources</b>\n"
   ]
  },
  {
   "cell_type": "markdown",
   "id": "f4426bd3-9794-4f3d-af71-b1606b3d74e3",
   "metadata": {},
   "outputs": [],
   "source": [
    "<a href=\"https://www.kaggle.com/datasets/ketangangal/heart-disease-dataset-uci\" target=\"_blank\">https://www.kaggle.com/datasets/ketangangal/heart-disease-dataset-uci</a>."
   ]
  },
  {
   "cell_type": "markdown",
   "id": "ffce8ab6-338c-4795-9038-fb899d0f8de4",
   "metadata": {},
   "outputs": [],
   "source": [
    "### Thank you for completing this lab!\n\n## Author\n\n<a href=\"https://author.skills.network/instructors/bohdan_kuno\">Bohdan Kuno</a>\n\n### Other Contributors\n\n<a href=\"https://author.skills.network/instructors/yaroslav_vyklyuk_2\">Prof. Yaroslav Vyklyuk, DrSc, PhD</a>\n\n<a href=\"https://author.skills.network/instructors/nataliya_boyko\">Ass. Prof. Nataliya Boyko, PhD</a>\n\n## Change Log\n\n| Date (YYYY-MM-DD) | Version | Changed By | Change Description                                         |\n| ----------------- | ------- | ---------- | ---------------------------------------------------------- |\n|2023-04-01|01|Bohdan Kuno|Lab created|\n\n\n<hr>\n\n## <h3 align=\"center\"> © IBM Corporation 2023. All rights reserved. <h3/>\n"
   ]
  }
 ],
 "metadata": {
  "language_info": {
   "name": ""
  },
  "kernelspec": {
   "name": "",
   "display_name": ""
  }
 },
 "nbformat": 4,
 "nbformat_minor": 4
}