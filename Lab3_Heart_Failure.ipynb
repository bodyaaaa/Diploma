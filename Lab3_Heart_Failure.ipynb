{
  "cells": [
    {
      "cell_type": "markdown",
      "id": "c7315ff5-70e9-4a3f-831f-a6cc3a1437be",
      "metadata": {},
      "outputs": [],
      "source": [
        "<center>\n    <img src=\"https://cf-courses-data.s3.us.cloud-object-storage.appdomain.cloud/assets/logos/SN_web_lightmode.png\" width=\"300\" alt=\"cognitiveclass.ai logo\">\n</center>\n\n# **Heart Failure Prediction**\n\n# Lab 3. Data Analysis with Python\n\n# Abstract\nIn this lab, you will learn what is meant by exploratory analysis of medical data, and you will learn how to perform data calculations to calculate basic descriptive statistical information about patients with heart failure, such as mean, median, mode, and quartile values, and how to use this information to understand the data distribution better. You will learn how to group medical data for better visualization, use the Pearson correlation method to compare two continuous numerical variables and use the chi-square test to find relationships between two categorical variables.\n\nEstimated time needed: **30** minutes\n\n## Objectives\n\nAfter completing this lab you will be able to:\n\n*   Explore features or charecteristics to predict mortality of patients\n"
      ]
    },
    {
      "cell_type": "markdown",
      "id": "3660eb94-0886-4f38-beda-c46b7403cf8f",
      "metadata": {},
      "outputs": [],
      "source": [
        "<h2>Table of Contents</h2>\n\n<div class=\"alert alert-block alert-info\" style=\"margin-top: 20px\">\n<ol>\n    <li><a href=\"#import_data\">Import Data from Module</a></li>\n    <li><a href=\"#pattern_visualization\">Analyzing Individual Feature Patterns using Visualization</a></li>\n    <li><a href=\"#discriptive_statistics\">Descriptive Statistical Analysis</a></li>\n    <li><a href=\"#basic_grouping\">Basics of Grouping</a></li>\n    <li><a href=\"#correlation_causation\">Correlation and Causation</a></li>\n    <li><a href=\"#anova\">ANOVA</a></li>\n</ol>\n\n</div>\n\n<hr>\n"
      ]
    },
    {
      "cell_type": "markdown",
      "id": "a911c204-5e8c-42ed-9820-ed55fc8d60b8",
      "metadata": {},
      "outputs": [],
      "source": [
        "<h3>What are the main characteristics that have the most impact on the mortality rate?</h3>\n"
      ]
    },
    {
      "cell_type": "markdown",
      "id": "7deb4459-ff99-437d-acba-6fdbe944f798",
      "metadata": {},
      "outputs": [],
      "source": [
        "<a id=\"import_data\"></a><h2>1. Import Data from Module 2</h2>\n"
      ]
    },
    {
      "cell_type": "markdown",
      "id": "b2299224-5c45-433c-9ef7-f33123e3469f",
      "metadata": {},
      "outputs": [],
      "source": [
        "Import libraries:\n"
      ]
    },
    {
      "cell_type": "code",
      "id": "27dee2f3-e697-4c3c-a5ad-04fe9d37e953",
      "metadata": {},
      "outputs": [],
      "source": [
        "#install specific version of libraries used in lab\n#! mamba install pandas==1.3.3\n#! mamba install numpy=1.21.2\n#! mamba install scipy=1.7.1-y\n# ! mamba install seaborn=0.9.0-y\n!  pip install dython"
      ]
    },
    {
      "cell_type": "code",
      "id": "0d62db25-06c1-42e7-851e-3657aebee30b",
      "metadata": {},
      "outputs": [],
      "source": [
        "import pandas as pd\nimport numpy as np\nfrom dython.nominal import associations\nfrom scipy import stats\nimport itertools\nimport matplotlib.pyplot as plt\nimport seaborn as sns\n%matplotlib inline "
      ]
    },
    {
      "cell_type": "markdown",
      "id": "1f43f691-483c-415b-8721-54f8d48924a6",
      "metadata": {},
      "outputs": [],
      "source": [
        "\n<div class=\"alert alert-danger alertdanger\" style=\"margin-top: 20px\">\nIf error appeared please restart the kernel or run this block again\n\n</div>"
      ]
    },
    {
      "cell_type": "markdown",
      "id": "c353d15d-5ec9-4046-a27f-1e369b268a43",
      "metadata": {},
      "outputs": [],
      "source": [
        "We will use DataSet from previous lab. Load the data and store it in dataframe `df`:\n"
      ]
    },
    {
      "cell_type": "code",
      "id": "19dcd1a3-79fd-45d3-8749-bcd6399fceac",
      "metadata": {},
      "outputs": [],
      "source": [
        "path='https://cf-courses-data.s3.us.cloud-object-storage.appdomain.cloud/IBMSkillsNetwork-GPXX08ZWEN/clean_df.csv'"
      ]
    },
    {
      "cell_type": "code",
      "id": "26cd67c0-80b6-4d76-9f47-c8e7006fcd3c",
      "metadata": {},
      "outputs": [],
      "source": [
        "df = pd.read_csv(path)\ndf.head()"
      ]
    },
    {
      "cell_type": "markdown",
      "id": "cc862a15-56cf-4f61-8967-3b5da51da91c",
      "metadata": {},
      "outputs": [],
      "source": [
        "Let’s set number of digits in float type."
      ]
    },
    {
      "cell_type": "code",
      "id": "6e13c45c-5a9c-4b99-b7e2-07c964df734e",
      "metadata": {},
      "outputs": [],
      "source": [
        "pd.options.display.float_format = '{:.2f}'.format"
      ]
    },
    {
      "cell_type": "markdown",
      "id": "a9691a0c-8d90-4931-9158-d91faf65594c",
      "metadata": {},
      "outputs": [],
      "source": [
        "<a id=\"pattern_visualization\"></a><h2>2. Analyzing Individual Feature Patterns Using Visualization</h2>\n"
      ]
    },
    {
      "cell_type": "markdown",
      "id": "75fe1dde-7187-47c8-b93d-033604b2d957",
      "metadata": {},
      "outputs": [],
      "source": [
        "To install Seaborn we use pip, the Python package manager.\n"
      ]
    },
    {
      "cell_type": "markdown",
      "id": "60a013d9-2eb0-4692-bf30-38047e0242d5",
      "metadata": {},
      "outputs": [],
      "source": [
        "<h4>How to choose the right visualization method?</h4>\n<p>When visualizing individual variables, it is important to first understand what type of variable you are dealing with. This will help us find the right visualization method for that variable.</p>\n"
      ]
    },
    {
      "cell_type": "code",
      "id": "98721ae2-87ce-4ad7-ac6d-96902eeceef9",
      "metadata": {},
      "outputs": [],
      "source": [
        "# list the data types for each column\nprint(df.dtypes)"
      ]
    },
    {
      "cell_type": "markdown",
      "id": "35b11678-364a-42ed-af50-2a128fa1149a",
      "metadata": {},
      "outputs": [],
      "source": [
        "<div class=\"alert alert-danger alertdanger\" style=\"margin-top: 20px\">\n<h3>Question  #1:</h3>\n\n<b>What is the data type of the column \"BP\"? </b>\n\n</div>\n"
      ]
    },
    {
      "cell_type": "code",
      "id": "0043fece-2633-4103-83c1-e6195f649f19",
      "metadata": {},
      "outputs": [],
      "source": [
        "# Write your code below and press Shift+Enter to execute \n"
      ]
    },
    {
      "cell_type": "markdown",
      "id": "b73e2997-d76e-4925-b275-4195d8f0005a",
      "metadata": {},
      "outputs": [],
      "source": [
        "<details><summary>Click here for the solution</summary>\n\n```python\ndf['BP'].dtypes\n```\n\n</details>\n"
      ]
    },
    {
      "cell_type": "markdown",
      "id": "0548c355-d361-4202-b101-e971e3875531",
      "metadata": {},
      "outputs": [],
      "source": [
        "For example, we can calculate the correlation between variables  of type \"int64\" or \"float64\" using the method \"corr\":\n"
      ]
    },
    {
      "cell_type": "code",
      "id": "582b299e-f791-429a-9bfd-f8b8906fa498",
      "metadata": {},
      "outputs": [],
      "source": [
        "corr = df.corr()\ncorr"
      ]
    },
    {
      "cell_type": "markdown",
      "id": "307bff35-8bb9-45cf-bd9a-82e333d566c7",
      "metadata": {},
      "outputs": [],
      "source": [
        " Let's take a look on correlation heatmap of our data:"
      ]
    },
    {
      "cell_type": "code",
      "id": "c6f33b77-50a5-45cd-bb40-75d055490333",
      "metadata": {},
      "outputs": [],
      "source": [
        "plt.figure(figsize = (12,10))\nsns.heatmap(corr, linewidths=.5)"
      ]
    },
    {
      "cell_type": "markdown",
      "id": "6d3dc9ea-8e64-4352-abb6-3ede464effea",
      "metadata": {},
      "outputs": [],
      "source": [
        "Now we need to delete one of two columns which aren't target where correlation is strong (corr > 0.8). Because, in general, it is recommended to avoid having correlated features in your DataSet. Indeed, a group of highly correlated features will not bring additional information (or just very few), but will increase the complexity of the algorithm, thus increasing the risk of errors."
      ]
    },
    {
      "cell_type": "code",
      "id": "8bf78efe-6f9c-483c-8353-93fc214f805d",
      "metadata": {},
      "outputs": [],
      "source": [
        "df = df.drop(columns=['Age', 'CK-MB', 'PCV', 'MCV', 'Neutrophil', 'Gender-female', 'Reaction', 'Locality-rural'])"
      ]
    },
    {
      "cell_type": "markdown",
      "id": "7e8fe25a-d0e8-4d1e-9900-7e347c4661c5",
      "metadata": {},
      "outputs": [],
      "source": [
        "To see the relationship between mortality and variables of string or category type we can use <code>dython.nominal.associations</code>. This method computes the correlation or strength of association between features in a dataset, taking into account both categorical and continuous features. It utilizes different metrics depending on the types of features being compared:\n\n- For continuous-continuous cases, it calculates Pearson's R, which measures the linear correlation.\n- For categorical-continuous cases, it uses the Correlation Ratio metric.\n- For categorical-categorical cases, it employs either Cramer's V or Theil's U as the correlation metric."
      ]
    },
    {
      "cell_type": "code",
      "id": "d29fc26a-178b-4adc-b0e0-17263b06fb7b",
      "metadata": {},
      "outputs": [],
      "source": [
        "associations(df[['Mortality', 'Age Group', 'Marital Status', 'Category', 'Others', 'CO', 'Diagnosis', 'SK React', 'Max heart rate-binned']])"
      ]
    },
    {
      "cell_type": "markdown",
      "id": "bf437a0d-1e4e-4310-ac7d-13b9ea5a8398",
      "metadata": {},
      "outputs": [],
      "source": [
        "Here we also need to delete columns with high association and save our DataSet for future labs."
      ]
    },
    {
      "cell_type": "code",
      "id": "fa3ffe0c-6adc-4c69-a5e2-97b7859aa50a",
      "metadata": {},
      "outputs": [],
      "source": [
        "df = df.drop(columns=['CO'])\ndf.to_csv('clean_df_new.csv', index=False)"
      ]
    },
    {
      "cell_type": "markdown",
      "id": "9be950c8-1040-48b6-81d5-668cfcba9f01",
      "metadata": {},
      "outputs": [],
      "source": [
        "The diagonal elements are always one; we will study correlation more precisely Pearson correlation in-depth at the end of the notebook.\n"
      ]
    },
    {
      "cell_type": "markdown",
      "id": "fc89c898-aa76-4c53-b4e3-1fb81686707b",
      "metadata": {},
      "outputs": [],
      "source": [
        "<div class=\"alert alert-danger alertdanger\" style=\"margin-top: 20px\">\n<h3> Question  #2: </h3>\n\n<p>Find the correlation between the following columns: BP, Resting BP, Eosinophil, and Monocyte.</p>\n<p>Hint: if you would like to select those columns, use the following syntax: df[['BP', 'Resting BP', 'Eosinophil', 'Monocyte']]</p>\n</div>\n"
      ]
    },
    {
      "cell_type": "code",
      "id": "9c3c0ce7-8f30-4171-a4be-85096dcbe424",
      "metadata": {},
      "outputs": [],
      "source": [
        "# Write your code below and press Shift+Enter to execute \n"
      ]
    },
    {
      "cell_type": "markdown",
      "id": "e27b2c9d-66d3-437d-823e-51e6132cbf9c",
      "metadata": {},
      "outputs": [],
      "source": [
        "<details><summary>Click here for the solution</summary>\n\n```python\ndf[['BP', 'Resting BP', 'Eosinophil', 'Monocyte']].corr()\n```\n\n</details>\n"
      ]
    },
    {
      "cell_type": "markdown",
      "id": "39713212-7819-4afe-a999-ef502812ac3b",
      "metadata": {},
      "outputs": [],
      "source": [
        "<h2>Continuous Numerical Variables:</h2> \n\n<p>Continuous numerical variables are variables that may contain any value within some range. They can be of type \"int64\" or \"float64\". A great way to visualize these variables is by using scatterplots with fitted lines.</p>\n\n<p>In order to start understanding the (linear) relationship variables, we can use \"regplot\" which plots the scatterplot plus the fitted regression line for the data.</p>\n"
      ]
    },
    {
      "cell_type": "markdown",
      "id": "af652a78-5d03-4147-b9b1-45dade48f3dc",
      "metadata": {},
      "outputs": [],
      "source": [
        "We have chosen \"Mortality\" column to predict, but it only has two values: 1 and 0. Because of that, we need to choose continuous numerical variables to show examples of plots. Let's see several examples of different linear relationships:\n"
      ]
    },
    {
      "cell_type": "markdown",
      "id": "11f65b1a-3dd8-43b5-bfbe-ec4b85b0ed54",
      "metadata": {},
      "outputs": [],
      "source": [
        "<h3>Positive Linear Relationship</h4>\n"
      ]
    },
    {
      "cell_type": "markdown",
      "id": "28c0af5b-c66b-4408-96de-b325ec28b50a",
      "metadata": {},
      "outputs": [],
      "source": [
        "Let's find the scatterplot of \"RBC\" and \"Hemoglobin\".\n"
      ]
    },
    {
      "cell_type": "code",
      "id": "ba609e6d-1f1c-4618-aaba-ef9a3b5a54f5",
      "metadata": {},
      "outputs": [],
      "source": [
        "sns.regplot(x=\"RBC\", y=\"Hemoglobin\", data=df)\nplt.ylim(0,)"
      ]
    },
    {
      "cell_type": "markdown",
      "id": "11dc4c85-ced8-4ddc-9068-d1b7fb87a8d2",
      "metadata": {},
      "outputs": [],
      "source": [
        "<p>As the Hemoglobin goes up, the RBC (Number of erythrocytes) goes up: this indicates a positive direct correlation between these two variables</p>\n"
      ]
    },
    {
      "cell_type": "markdown",
      "id": "05d0017f-b069-4d89-8f33-7f21cecb6d59",
      "metadata": {},
      "outputs": [],
      "source": [
        "We can examine the correlation between \"RBC\" and \"Hemoglobin\" and see that it's approximately 0.75.\n"
      ]
    },
    {
      "cell_type": "code",
      "id": "703020cf-e91c-4b4f-9893-d23916bbc4fa",
      "metadata": {},
      "outputs": [],
      "source": [
        "df[['RBC', 'Hemoglobin']].corr()"
      ]
    },
    {
      "cell_type": "markdown",
      "id": "ec8bc98f-459f-41cc-b6f7-7f7cba1a5765",
      "metadata": {},
      "outputs": [],
      "source": [
        "Let's find the scatterplot of \"Thrombolysis\" and \"Streptokinase\".\n"
      ]
    },
    {
      "cell_type": "code",
      "id": "d69b41f1-0bdc-4f60-9b24-da117bebbdb8",
      "metadata": {},
      "outputs": [],
      "source": [
        "sns.regplot(x=\"Thrombolysis\", y=\"Streptokinase\", data=df)"
      ]
    },
    {
      "cell_type": "markdown",
      "id": "3b423453-b96d-4360-8aac-1745b786ffe0",
      "metadata": {},
      "outputs": [],
      "source": [
        "<p>As Thrombolysis goes up, the S goes down: this indicates an inverse/negative relationship between these two variables.</p>\n"
      ]
    },
    {
      "cell_type": "markdown",
      "id": "6dd56912-e661-44cc-b9ce-90147c0df03d",
      "metadata": {},
      "outputs": [],
      "source": [
        "We can examine the correlation between \"Thrombolysis\" and \"Streptokinase\" and see it's approximately -0.7.\n"
      ]
    },
    {
      "cell_type": "code",
      "id": "dd24960b-cb1d-4702-b351-764dab97a7fa",
      "metadata": {},
      "outputs": [],
      "source": [
        "df[['Thrombolysis', 'Streptokinase']].corr()"
      ]
    },
    {
      "cell_type": "markdown",
      "id": "d341e365-7c59-4ff2-8981-f26a67b79e9c",
      "metadata": {},
      "outputs": [],
      "source": [
        "<h3>Weak Linear Relationship</h3>\n"
      ]
    },
    {
      "cell_type": "markdown",
      "id": "ef5a44bf-f220-4dbc-9572-b7b458f61c11",
      "metadata": {},
      "outputs": [],
      "source": [
        "Let's see if \"Serum cholesterol\" is a predictor variable of \"Lymphocyte\".\n"
      ]
    },
    {
      "cell_type": "code",
      "id": "14dba2cf-330f-4f19-8b7e-46f1234b9ca8",
      "metadata": {},
      "outputs": [],
      "source": [
        "sns.regplot(x=\"Serum cholesterol\", y=\"Lymphocyte\", data=df)"
      ]
    },
    {
      "cell_type": "markdown",
      "id": "ea625183-337c-4de5-9d1c-9777e23e27b1",
      "metadata": {},
      "outputs": [],
      "source": [
        "<p>Cholesterol does not seem like a good predictor of the lymphocytes at all since the regression line is close to horizontal. Also, the data points are very scattered and far from the fitted line, showing lots of variability. Therefore, it's not a reliable variable.</p>\n"
      ]
    },
    {
      "cell_type": "markdown",
      "id": "e49dad6e-1623-44f9-a635-f72c4fe8a5b0",
      "metadata": {},
      "outputs": [],
      "source": [
        "We can examine the correlation between 'Serum cholesterol' and 'Lymphocyte' and see it's approximately -0.1.\n"
      ]
    },
    {
      "cell_type": "code",
      "id": "3eeb8c66-3202-4f23-8b9a-f9bbf223945c",
      "metadata": {},
      "outputs": [],
      "source": [
        "df[['Serum cholesterol', 'Lymphocyte']].corr()"
      ]
    },
    {
      "cell_type": "markdown",
      "id": "f34ba632-e806-4587-a9b2-3d73d349c4cd",
      "metadata": {},
      "outputs": [],
      "source": [
        " <div class=\"alert alert-danger alertdanger\" style=\"margin-top: 20px\">\n<h1> Question  3 a): </h1>\n\n<p>Find the correlation  between x=\"BP\" and y=\"Resting BP\".</p>\n<p>Hint: if you would like to select those columns, use the following syntax: df[[\"BP\",\"Resting BP\"]].  </p>\n</div>\n"
      ]
    },
    {
      "cell_type": "code",
      "id": "8248c43c-ee71-44ab-aaca-5611d0fe6684",
      "metadata": {},
      "outputs": [],
      "source": [
        "# Write your code below and press Shift+Enter to execute\n"
      ]
    },
    {
      "cell_type": "markdown",
      "id": "f9369366-9e64-405e-8cfa-d48601d6fd3a",
      "metadata": {},
      "outputs": [],
      "source": [
        "<details><summary>Click here for the solution</summary>\n\n```python\n\n#The correlation is -0.13, the non-diagonal elements of the table.\n\ndf[[\"BP\", \"Resting BP\"]].corr()\n\n```\n\n</details>\n"
      ]
    },
    {
      "cell_type": "markdown",
      "id": "2233e448-894e-48bc-b746-1c3111c7bbf4",
      "metadata": {},
      "outputs": [],
      "source": [
        "<div class=\"alert alert-danger alertdanger\" style=\"margin-top: 20px\">\n<h1>Question  3 b):</h1>\n\n<p>Given the correlation results between \"BP\" and \"Resting BP\", do you expect a linear relationship?</p>\n<p>Verify your results using the function \"regplot()\".</p>\n</div>\n"
      ]
    },
    {
      "cell_type": "code",
      "id": "421d17cc-19e3-47e8-b0c8-c061e76c0240",
      "metadata": {},
      "outputs": [],
      "source": [
        "# Write your code below and press Shift+Enter to execute\n"
      ]
    },
    {
      "cell_type": "markdown",
      "id": "4b09111c-5dfd-4aab-b275-9a60c086fc36",
      "metadata": {},
      "outputs": [],
      "source": [
        "<details><summary>Click here for the solution</summary>\n\n```python\n\n#There is a weak correlation between the variable 'BP' and 'Resting BP.' as such regression will not work well. We can see this using \"regplot\" to demonstrate this.\n\n#Code: \nsns.regplot(x=\"BP\", y=\"Resting BP\", data=df)\n\n```\n\n</details>\n"
      ]
    },
    {
      "cell_type": "markdown",
      "id": "7531adda-e6f5-42aa-9883-8dc4a9b5af92",
      "metadata": {},
      "outputs": [],
      "source": [
        "<h3>Categorical Variables</h3>\n\n<p>These are variables that describe a 'characteristic' of a data unit, and are selected from a small group of categories. The categorical variables can have the type \"object\" or \"int64\". A good way to visualize categorical variables is by using boxplots. As an example, to see different cases we will compare numerical variables not only with 'Mortality', because it doesn't have strong correlation with other columns.</p>\n"
      ]
    },
    {
      "cell_type": "markdown",
      "id": "05f77606-7d50-4b34-8c2b-91d5a57df706",
      "metadata": {},
      "outputs": [],
      "source": [
        "Let's look at the relationship between \"Mortality\" and \"Hemoglobin\".\n"
      ]
    },
    {
      "cell_type": "code",
      "id": "c90ae30c-bfec-403b-990d-071c7eb1c5c9",
      "metadata": {},
      "outputs": [],
      "source": [
        "sns.boxplot(x=\"Mortality\", y=\"Hemoglobin\", data=df)"
      ]
    },
    {
      "cell_type": "markdown",
      "id": "dbb6a654-8323-4d2b-a0f3-950e0d72eb51",
      "metadata": {},
      "outputs": [],
      "source": [
        "<p>We see that the distributions of hemoglobin between the different categories have a significant overlap, so hemoglobin would not be a good predictor of mortality. Let's examine \"SK React\" and \"RBC\":</p>\n"
      ]
    },
    {
      "cell_type": "code",
      "id": "d2701388-a1c6-412f-8f86-a8449478b532",
      "metadata": {},
      "outputs": [],
      "source": [
        "sns.boxplot(x=\"RBC\", y=\"SK React\", data=df, orient='h')"
      ]
    },
    {
      "cell_type": "markdown",
      "id": "db47ff26-c04c-48a8-9b3e-2c4da7bfa16a",
      "metadata": {},
      "outputs": [],
      "source": [
        "<p>Here we see that the distribution of RBC (eritrocite count) between people who have different reaction to streptokinaze are distinct enough to take RBC as a potential good predictor of SK reaction.</p>\n"
      ]
    },
    {
      "cell_type": "markdown",
      "id": "d9c6ec55-d8ec-414d-b684-20eae7403a96",
      "metadata": {},
      "outputs": [],
      "source": [
        "Let's examine \"Smoking\" and \"Hemoglobin\".\n"
      ]
    },
    {
      "cell_type": "code",
      "id": "f8b7b6db-9ddf-4318-8dcd-06d0b36a9b29",
      "metadata": {},
      "outputs": [],
      "source": [
        "sns.boxplot(x=\"Smoking\", y=\"Hemoglobin\", data=df)"
      ]
    },
    {
      "cell_type": "markdown",
      "id": "cce39599-aa3b-4a10-a180-37c73cb7f7d3",
      "metadata": {},
      "outputs": [],
      "source": [
        "<p>Here we see that the distribution of RBC (eritrocite count) between people who smoke and don't smoke slightly differs.\n"
      ]
    },
    {
      "cell_type": "markdown",
      "id": "91e37144-4ba9-4449-bfb8-cca87a7f618f",
      "metadata": {},
      "outputs": [],
      "source": [
        "<a id=\"discriptive_statistics\"></a><h2>3. Descriptive Statistical Analysis</h2>\n"
      ]
    },
    {
      "cell_type": "markdown",
      "id": "e7eae7b2-bfd4-4058-90ae-716d73e40371",
      "metadata": {},
      "outputs": [],
      "source": [
        "<p>Let's first take a look at the variables by utilizing a description method.</p>\n\n<p>The <b>describe</b> function automatically computes basic statistics for all continuous variables. Any NaN values are automatically skipped in these statistics.</p>\n\nThis will show:\n\n<ul>\n    <li>the count of that variable</li>\n    <li>the mean</li>\n    <li>the standard deviation (std)</li> \n    <li>the minimum value</li>\n    <li>the IQR (Interquartile Range: 25%, 50% and 75%)</li>\n    <li>the maximum value</li>\n<ul>\n"
      ]
    },
    {
      "cell_type": "markdown",
      "id": "4e4db95b-96fd-4645-9ab2-c2825cdc1729",
      "metadata": {},
      "outputs": [],
      "source": [
        "We can apply the method \"describe\" as follows:\n"
      ]
    },
    {
      "cell_type": "code",
      "id": "f51775d5-1604-49b6-8b79-427a7cd1095f",
      "metadata": {},
      "outputs": [],
      "source": [
        "df.describe()"
      ]
    },
    {
      "cell_type": "markdown",
      "id": "0b2d1b68-2c28-4a1c-a5a3-628ee16352d9",
      "metadata": {},
      "outputs": [],
      "source": [
        "The default setting of \"describe\" skips variables of type object. We can apply the method \"describe\" on the variables of type 'object' as follows:\n"
      ]
    },
    {
      "cell_type": "code",
      "id": "c71130fb-f992-417b-aae1-520625662b2d",
      "metadata": {},
      "outputs": [],
      "source": [
        "df.describe(include=['object'])"
      ]
    },
    {
      "cell_type": "markdown",
      "id": "09ab34db-0cdc-4e88-a1ff-83e97d0ae75a",
      "metadata": {},
      "outputs": [],
      "source": [
        "<h3>Value Counts</h3>\n"
      ]
    },
    {
      "cell_type": "markdown",
      "id": "2ffcfdc4-3462-4c96-a1ca-d95e57b8127d",
      "metadata": {},
      "outputs": [],
      "source": [
        "<p>Value counts is a good way of understanding how many units of each characteristic/variable we have. We can apply the \"value_counts\" method on the column \"Age Group\". Don’t forget the method \"value_counts\" only works on pandas series, not pandas dataframes. As a result, we only include one bracket <code>df['Age Group']</code>, not two brackets <code>df[['Age Group']]</code>.</p>\n"
      ]
    },
    {
      "cell_type": "code",
      "id": "ba79deb1-47a2-4dca-80ae-344707d92c70",
      "metadata": {},
      "outputs": [],
      "source": [
        "df['Age Group'].value_counts()"
      ]
    },
    {
      "cell_type": "markdown",
      "id": "606986ed-4825-414c-a773-53f820d72cbc",
      "metadata": {},
      "outputs": [],
      "source": [
        "We can convert the series to a dataframe as follows:\n"
      ]
    },
    {
      "cell_type": "code",
      "id": "b2200b39-be15-4348-b77e-50b3052b9482",
      "metadata": {},
      "outputs": [],
      "source": [
        "df['Age Group'].value_counts().to_frame()"
      ]
    },
    {
      "cell_type": "markdown",
      "id": "513a1d3a-2af0-498e-898a-ab3a7c498627",
      "metadata": {},
      "outputs": [],
      "source": [
        "Let's repeat the above steps but save the results to the dataframe \"age_group_counts\" and rename the column  'Age Group' to 'value_counts'.\n"
      ]
    },
    {
      "cell_type": "code",
      "id": "b105e615-3dfb-40d2-bbcd-ea474d419d06",
      "metadata": {},
      "outputs": [],
      "source": [
        "age_group_counts = df['Age Group'].value_counts().to_frame()\nage_group_counts.rename(columns={'Age Group': 'value_counts'}, inplace=True)\nage_group_counts"
      ]
    },
    {
      "cell_type": "markdown",
      "id": "832f706a-8d99-41be-ab9d-7a0ee1c4550d",
      "metadata": {},
      "outputs": [],
      "source": [
        "Now let's rename the index to 'Age Group':\n"
      ]
    },
    {
      "cell_type": "code",
      "id": "199df4bc-c555-4b90-bd0b-4a446230309b",
      "metadata": {},
      "outputs": [],
      "source": [
        "age_group_counts.index.name = 'Age Group'\nage_group_counts"
      ]
    },
    {
      "cell_type": "markdown",
      "id": "84e8c56e-0f64-434e-b684-16ef6a8ef77b",
      "metadata": {},
      "outputs": [],
      "source": [
        "We can repeat the above process for the variable 'SK React'.\n"
      ]
    },
    {
      "cell_type": "code",
      "id": "ba9a5a69-2a30-4cea-b49a-bed3e2b0df95",
      "metadata": {},
      "outputs": [],
      "source": [
        "sk_react_counts = df['SK React'].value_counts().to_frame()\nsk_react_counts.rename(columns={'SK React': 'value_counts'}, inplace=True)\nsk_react_counts.index.name = 'SK React'\nsk_react_counts.head(10)"
      ]
    },
    {
      "cell_type": "markdown",
      "id": "74d6f9c4-1b44-45ae-9be1-9e8b1c3d3578",
      "metadata": {},
      "outputs": [],
      "source": [
        "<p>After examining the value counts of the marital status, we see that it would not be a good predictor variable for the mortality. This is because we only have three single patients and 365 married so this result is skewed. Thus, we are not able to draw any conclusions about the marital status.</p>\n"
      ]
    },
    {
      "cell_type": "markdown",
      "id": "bb300f6a-38e9-4551-a72d-8b18c5fe9b79",
      "metadata": {},
      "outputs": [],
      "source": [
        "<a id=\"basic_grouping\"></a><h2>4. Basics of Grouping</h2>\n"
      ]
    },
    {
      "cell_type": "markdown",
      "id": "117b54c8-f261-4782-be64-a62ad8d15a35",
      "metadata": {},
      "outputs": [],
      "source": [
        "<p>The \"groupby\" method groups data by different categories. The data is grouped based on one or several variables, and analysis is performed on the individual groups.</p>\n\n<p>For example, let's group by the variable \"Age Group\". We see that there are 5 different categories of age.</p>\n"
      ]
    },
    {
      "cell_type": "code",
      "id": "2eeea52d-1a86-4f92-ae61-e70b60f51118",
      "metadata": {},
      "outputs": [],
      "source": [
        "df['Age Group'].unique()"
      ]
    },
    {
      "cell_type": "markdown",
      "id": "8d20c98b-c7c6-44b8-9ad7-4cb5d2bb858a",
      "metadata": {},
      "outputs": [],
      "source": [
        "<p>If we want to know, on average, which type of age groups is most valuable, we can group \"Age Group\" and then average them.</p>\n\n<p>We can select the columns 'Age Group', 'SK React' and 'Mortality', then assign it to the variable \"df_group_one\".</p>\n"
      ]
    },
    {
      "cell_type": "code",
      "id": "1813d47c-926c-4fde-b410-16dcea17764d",
      "metadata": {},
      "outputs": [],
      "source": [
        "df_group_one = df[['Age Group','SK React','Mortality']]"
      ]
    },
    {
      "cell_type": "markdown",
      "id": "6103cefa-1ae8-4335-a462-4de43133236a",
      "metadata": {},
      "outputs": [],
      "source": [
        "We can then calculate the average mortality rate for each of the different categories of data.\n"
      ]
    },
    {
      "cell_type": "code",
      "id": "ee42a0f4-963e-4ffb-b250-1fb1641628d9",
      "metadata": {},
      "outputs": [],
      "source": [
        "df_group_one = df_group_one.groupby(['Age Group'],as_index=False).mean()\ndf_group_one"
      ]
    },
    {
      "cell_type": "markdown",
      "id": "1d9fdeb6-2ed1-42a5-a055-417cdad9046e",
      "metadata": {},
      "outputs": [],
      "source": [
        "<p>From our data, it seems patients of age between 41-50 have, on average, the highest mortality rate.</p>\n\n<p>You can also group by multiple variables. For example, let's group by both 'Age Group' and 'SK React'. This groups the dataframe by the unique combination of 'Age Group' and 'SK React'. We can store the results in the variable 'grouped_test1'.</p>\n"
      ]
    },
    {
      "cell_type": "code",
      "id": "7de345c3-794d-4987-8733-6fd7a543cbad",
      "metadata": {},
      "outputs": [],
      "source": [
        "# grouping results\ndf_gptest = df[['Age Group','SK React','Mortality']]\ngrouped_test1 = df_gptest.groupby(['Age Group','SK React'],as_index=False).mean()\ngrouped_test1"
      ]
    },
    {
      "cell_type": "markdown",
      "id": "c19a98f9-fb9f-41f6-b450-bd6d7c17263e",
      "metadata": {},
      "outputs": [],
      "source": [
        "<p>This grouped data is much easier to visualize when it is made into a pivot table. A pivot table is like an Excel spreadsheet, with one variable along the column and another along the row. We can convert the dataframe to a pivot table using the method \"pivot\" to create a pivot table from the groups.</p>\n\n<p>In this case, we will leave the age group variable as the rows of the table, and pivot SK reaction to become the columns of the table:</p>\n"
      ]
    },
    {
      "cell_type": "code",
      "id": "30aa230b-eb29-48bf-8bbc-a3f96778b7ed",
      "metadata": {},
      "outputs": [],
      "source": [
        "grouped_pivot = grouped_test1.pivot(index='Age Group',columns='SK React')\ngrouped_pivot"
      ]
    },
    {
      "cell_type": "markdown",
      "id": "c4bbfb4e-a286-4e01-a0b2-abb709a09536",
      "metadata": {},
      "outputs": [],
      "source": [
        "<p>Often, we won't have data for some of the pivot cells. We can fill these missing cells with the value 0, but any other value could potentially be used as well. It should be mentioned that missing data is quite a complex subject and is an entire course on its own.</p>\n"
      ]
    },
    {
      "cell_type": "code",
      "id": "4bdb5e5f-334d-4fa9-a2da-3b96a34d6d5f",
      "metadata": {},
      "outputs": [],
      "source": [
        "grouped_pivot = grouped_pivot.fillna('') #fill missing values with empty value\ngrouped_pivot"
      ]
    },
    {
      "cell_type": "markdown",
      "id": "8c9921ff-c09f-4a6e-869c-7d01d1287d39",
      "metadata": {},
      "outputs": [],
      "source": [
        "We have a lot of 0 values because of lack of data, but we will use it as an example."
      ]
    },
    {
      "cell_type": "markdown",
      "id": "2ccdd351-82e0-466a-a929-3fcb5570689f",
      "metadata": {},
      "outputs": [],
      "source": [
        "<div class=\"alert alert-danger alertdanger\" style=\"margin-top: 20px\">\n<h1>Question 4:</h1>\n\n<p>Use the \"groupby\" function to find the average \"Mortality\" of each \"SK React\".</p>\n</div>\n"
      ]
    },
    {
      "cell_type": "code",
      "id": "3b96d2d8-bb14-41c4-8218-6856a5150377",
      "metadata": {},
      "outputs": [],
      "source": [
        "# Write your code below and press Shift+Enter to execute\n"
      ]
    },
    {
      "cell_type": "markdown",
      "id": "45236dbe-86e5-4541-a593-0b8abe4b09b1",
      "metadata": {},
      "outputs": [],
      "source": [
        "<details><summary>Click here for the solution</summary>\n\n```python\n# grouping results\ndf_gptest2 = df[['SK React','Mortality']]\ngrouped_test_sk_react = df_gptest2.groupby(['SK React'],as_index= False).mean()\ngrouped_test_sk_react\n\n```\n\n</details>\n"
      ]
    },
    {
      "cell_type": "markdown",
      "id": "9f44374c-5968-4fa5-8cb8-0921145223b7",
      "metadata": {},
      "outputs": [],
      "source": [
        "<h4>Variables: Age group and SK reaction vs. Mortality</h4>\n"
      ]
    },
    {
      "cell_type": "markdown",
      "id": "8cb1edf3-8b34-4abc-8feb-1c811185d453",
      "metadata": {},
      "outputs": [],
      "source": [
        "Let's use a heat map to visualize the relationship between Age group and SK reaction vs. Mortality.\n"
      ]
    },
    {
      "cell_type": "code",
      "id": "e07ae9c4-e6ed-44ef-85a9-6dd3a52edd8b",
      "metadata": {},
      "outputs": [],
      "source": [
        "#use the grouped results\ngrouped_pivot = grouped_test1.pivot(index='Age Group',columns='SK React').fillna(0)\nplt.pcolor(grouped_pivot, cmap='RdBu')\nplt.colorbar()\nplt.show()"
      ]
    },
    {
      "cell_type": "markdown",
      "id": "c44d3818-0310-43e6-8a6a-72b4855712c2",
      "metadata": {},
      "outputs": [],
      "source": [
        "<p>The heatmap plots the target variable (Mortality) proportional to colour with respect to the variables 'Age Group' and 'SK React' on the vertical and horizontal axis, respectively. This allows us to visualize how the mortality is related to 'Age Group' and 'SK React'.</p>\n\n<p>The default labels convey no useful information to us. Let's change that:</p>\n"
      ]
    },
    {
      "cell_type": "code",
      "id": "262a99ea-5d32-4682-b31d-7809a85c481d",
      "metadata": {},
      "outputs": [],
      "source": [
        "fig, ax = plt.subplots()\nim = ax.pcolor(grouped_pivot, cmap='RdBu')\n\n#label names\nrow_labels = grouped_pivot.columns.levels[1]\ncol_labels = grouped_pivot.index\n\n#move ticks and labels to the center\nax.set_xticks(np.arange(grouped_pivot.shape[1]) + 0.5, minor=False)\nax.set_yticks(np.arange(grouped_pivot.shape[0]) + 0.5, minor=False)\n\n#insert labels\nax.set_xticklabels(row_labels, minor=False)\nax.set_yticklabels(col_labels, minor=False)\n\n#rotate label if too long\nplt.xticks(rotation=90)\n\nfig.colorbar(im)\nplt.show()"
      ]
    },
    {
      "cell_type": "markdown",
      "id": "2e2c06e6-8640-400d-9ee1-051cd811fa2f",
      "metadata": {},
      "outputs": [],
      "source": [
        "<p>Visualization is very important in data science, and Python visualization packages provide great freedom. We will go more in-depth in a separate Python visualizations course.</p>\n\n<p>The main question we want to answer in this module is, \"What are the main characteristics which have the most impact on the mortality rate?\".</p>\n\n<p>To get a better measure of the important characteristics, we look at the assotiation of these variables with the mortality rate. In other words: how is the mortality rate dependent on this variable?</p>\n"
      ]
    },
    {
      "cell_type": "markdown",
      "id": "79d3c98f-82cf-4110-a600-4c24aaa3b4ad",
      "metadata": {},
      "outputs": [],
      "source": [
        "<a id=\"correlation_causation\"></a><h2>5. Correlation and Causation</h2>\n"
      ]
    },
    {
      "cell_type": "markdown",
      "id": "2617ed93-ad0d-4dd9-bf3d-4fd22e9f5e5a",
      "metadata": {},
      "outputs": [],
      "source": [
        "<p><b>Correlation</b>: a measure of the extent of interdependence between variables.</p>\n\n<p><b>Causation</b>: the relationship between cause and effect between two variables.</p>\n\n<p>It is important to know the difference between these two. Correlation does not imply causation. Determining correlation is much simpler  the determining causation as causation may require independent experimentation.</p>\n"
      ]
    },
    {
      "cell_type": "markdown",
      "id": "e2db9ba1-62c4-4512-bb96-aacd840ff215",
      "metadata": {},
      "outputs": [],
      "source": [
        "<p><b>Pearson Correlation</b></p>\n<p>The Pearson Correlation measures the linear dependence between two variables X and Y.</p>\n<p>The resulting coefficient is a value between -1 and 1 inclusive, where:</p>\n<ul>\n    <li><b>1</b>: Perfect positive linear correlation.</li>\n    <li><b>0</b>: No linear correlation, the two variables most likely do not affect each other.</li>\n    <li><b>-1</b>: Perfect negative linear correlation.</li>\n</ul>\n"
      ]
    },
    {
      "cell_type": "markdown",
      "id": "ca7d9a57-d65b-4185-9868-474336a5bb20",
      "metadata": {},
      "outputs": [],
      "source": [
        "<p>Pearson Correlation is the default method of the function \"corr\". Like before, we can calculate the Pearson Correlation of the of the 'int64' or 'float64'  variables.</p>\n"
      ]
    },
    {
      "cell_type": "code",
      "id": "5c9bdd9f-08ab-4701-a7bd-c4bd94202219",
      "metadata": {},
      "outputs": [],
      "source": [
        "df.corr()"
      ]
    },
    {
      "cell_type": "markdown",
      "id": "0b087f67-7cf6-4ed5-a557-e1aa9ef0d804",
      "metadata": {},
      "outputs": [],
      "source": [
        "Sometimes we would like to know the significant of the correlation estimate.\n"
      ]
    },
    {
      "cell_type": "markdown",
      "id": "a7948fa1-1c65-4120-b024-0e7d361e388d",
      "metadata": {},
      "outputs": [],
      "source": [
        "<b>P-value</b>\n\n<p>What is this P-value? The P-value is the probability value that the correlation between these two variables is statistically significant. Normally, we choose a significance level of 0.05, which means that we are 95% confident that the correlation between the variables is significant.</p>\n\nBy convention, when the\n\n<ul>\n    <li>p-value is $<$ 0.001: we say there is strong evidence that the correlation is significant.</li>\n    <li>the p-value is $<$ 0.05: there is moderate evidence that the correlation is significant.</li>\n    <li>the p-value is $<$ 0.1: there is weak evidence that the correlation is significant.</li>\n    <li>the p-value is $>$ 0.1: there is no evidence that the correlation is significant.</li>\n</ul>\n"
      ]
    },
    {
      "cell_type": "markdown",
      "id": "51c6a6c6-d90d-43e0-8497-9b01efb15635",
      "metadata": {},
      "outputs": [],
      "source": [
        "We can obtain this information using  \"stats\" module in the \"scipy\"  library.\n"
      ]
    },
    {
      "cell_type": "markdown",
      "id": "5b59742c-f05a-4708-8e25-e69186d16117",
      "metadata": {},
      "outputs": [],
      "source": [
        "<h3>Each column vs. Mortality</h3>"
      ]
    },
    {
      "cell_type": "markdown",
      "id": "63292a2e-d6b4-4724-ac69-19101dd9ef43",
      "metadata": {},
      "outputs": [],
      "source": [
        "Let's calculate the  Pearson Correlation Coefficient and P-value of different columns of float and int type and 'Mortality'.\n"
      ]
    },
    {
      "cell_type": "code",
      "id": "beb8ef91-7534-4237-a6e9-e378fb043104",
      "metadata": {},
      "outputs": [],
      "source": [
        "columns = df.select_dtypes(include=['int64', 'float'])\nfor c in columns:\n    pearson_coef, p_value = stats.pearsonr(df[c], df['Mortality'])\n    print(c, \":\\n  Pearson Correlation Coefficient is\", \"{:.2e}\".format(pearson_coef), \" with a P-value of P =\", \"{:.2e}\".format(p_value))"
      ]
    },
    {
      "cell_type": "markdown",
      "id": "11ace784-8cdc-429c-b774-923d2db0d703",
      "metadata": {},
      "outputs": [],
      "source": [
        "<h4>Conclusion:</h4>\n<p>Since the p-value is $<$ 0.001, the correlation between different columns and mortality is statistically significant, although the linear relationship isn't extremely strong. These columns are 'Diabetes', 'HTN', 'Serum cholesterol', 'Follow Up', 'Gender-male'</p>\n"
      ]
    },
    {
      "cell_type": "markdown",
      "id": "def52703-3ecb-4966-be05-b35e3e118358",
      "metadata": {},
      "outputs": [],
      "source": [
        "<a id=\"anova\"></a><h2>6. ANOVA</h2>\n"
      ]
    },
    {
      "cell_type": "markdown",
      "id": "ae142af2-f9e3-4cc9-968d-ce5786d7f07a",
      "metadata": {},
      "outputs": [],
      "source": [
        "<h3>ANOVA: Analysis of Variance</h3>\n<p>The Analysis of Variance (ANOVA) is a statistical technique employed to assess whether there are significant disparities among the means of two or more groups. ANOVA returns two parameters:</p>\n\n<p><b>F-test score</b>: ANOVA assumes the means of all groups are the same, calculates how much the actual means deviate from the assumption, and reports it as the F-test score. A larger score means there is a larger difference between the means.</p>\n\n<p><b>P-value</b>:  P-value tells how statistically significant our calculated score value is.</p>\n\n<p>If our price variable is strongly correlated with the variable we are analyzing, we expect ANOVA to return a sizeable F-test score and a small p-value.</p>\n"
      ]
    },
    {
      "cell_type": "markdown",
      "id": "b2eace47-3166-44d0-b447-5dd966e48671",
      "metadata": {},
      "outputs": [],
      "source": [
        "<h3>Age Group</h3>\n"
      ]
    },
    {
      "cell_type": "markdown",
      "id": "34faad99-5579-49d1-86cc-51571c2562f3",
      "metadata": {},
      "outputs": [],
      "source": [
        "<p>Since ANOVA analyzes the difference between different groups of the same variable, the groupby function will come in handy. Because the ANOVA algorithm averages the data automatically, we do not need to take the average before hand.</p>\n\n<p>To see if different types of 'AgeHroup' impact  'Mortality', we group the data.</p>\n"
      ]
    },
    {
      "cell_type": "code",
      "id": "05d97a4a-6548-43c1-aa94-cc39ca2e5f62",
      "metadata": {},
      "outputs": [],
      "source": [
        "grouped_test2=df_gptest[['Age Group', 'Mortality']].groupby(['Age Group'])\ngrouped_test2.head(2)"
      ]
    },
    {
      "cell_type": "code",
      "id": "40fd38cb-1a79-4dd8-8f11-cfd4c88ac0c0",
      "metadata": {},
      "outputs": [],
      "source": [
        "df_gptest"
      ]
    },
    {
      "cell_type": "markdown",
      "id": "5ccdd025-ab7d-4170-99ec-2cb964946f79",
      "metadata": {},
      "outputs": [],
      "source": [
        "We can obtain the values of the method group using the method \"get_group\".\n"
      ]
    },
    {
      "cell_type": "code",
      "id": "ba3c91ee-2b37-4603-8a0f-ea534fb3a1c3",
      "metadata": {},
      "outputs": [],
      "source": [
        "grouped_test2.get_group('21-30')['Mortality']"
      ]
    },
    {
      "cell_type": "markdown",
      "id": "97e7f40a-5914-4608-b1f4-acbd87a26b7d",
      "metadata": {},
      "outputs": [],
      "source": [
        "We can use the function 'f_oneway' in the module 'stats' to obtain the <b>F-test score</b> and <b>P-value</b>.\n"
      ]
    },
    {
      "cell_type": "code",
      "id": "555a3cf6-fbd1-4816-bd17-3edb6e2a5421",
      "metadata": {},
      "outputs": [],
      "source": [
        "f_val, p_val = stats.f_oneway(grouped_test2.get_group('21-30')['Mortality'], grouped_test2.get_group('31-40')['Mortality'], grouped_test2.get_group('41-50')['Mortality'], grouped_test2.get_group('51-60')['Mortality'], grouped_test2.get_group('61-70')['Mortality'])\n\nprint( \"ANOVA results: F=\", \"{:.2e}\".format(f_val), \", P =\", \"{:.2e}\".format(p_val))"
      ]
    },
    {
      "cell_type": "markdown",
      "id": "600e5a61-4e4f-459c-b95f-3be705ba789c",
      "metadata": {},
      "outputs": [],
      "source": [
        "This is a great result with a large F-test score showing a strong correlation and a P-value of almost 0 implying almost certain statistical significance. But does this mean all five tested groups are all this highly correlated?\n\nLet's examine them separately.\n"
      ]
    },
    {
      "cell_type": "markdown",
      "id": "314027b6-413a-42c2-a41e-41ede8f03ca4",
      "metadata": {},
      "outputs": [],
      "source": [
        "To compare pairs of groups we can use <code>itertools</code>"
      ]
    },
    {
      "cell_type": "code",
      "id": "7812ffa8-7b00-4d96-a75e-c0274be615eb",
      "metadata": {},
      "outputs": [],
      "source": [
        "values = ['21-30', '31-40', '41-50', '51-60', '61-70']\nfor a, b in itertools.combinations(values, 2):\n    f_val, p_val = stats.f_oneway(grouped_test2.get_group(a)['Mortality'], grouped_test2.get_group(b)['Mortality'])\n    print(a, \"and\", b, \"ANOVA results: F=\", \"{:.2e}\".format(f_val), \", P =\", \"{:.2e}\".format(p_val))"
      ]
    },
    {
      "cell_type": "markdown",
      "id": "7231dc34-ab21-4c26-a919-905753356dff",
      "metadata": {},
      "outputs": [],
      "source": [
        "Results represent that some of separately compared pairs of groups have different F and P value from other pairs. So only some of them are highly correlated."
      ]
    },
    {
      "cell_type": "markdown",
      "id": "81126a5d-539d-4a7a-b4b3-b729875599a3",
      "metadata": {},
      "outputs": [],
      "source": [
        "<h3>Conclusion: Important Variables</h3>\n"
      ]
    },
    {
      "cell_type": "markdown",
      "id": "f251ebaf-7452-4242-9ebc-70df0320dc5e",
      "metadata": {},
      "outputs": [],
      "source": [
        "<p>We now have a better idea of what our data looks like and which variables are important to take into account when predicting mortality from the heart failure. We have narrowed it down to the following variables:</p>\n\nContinuous numerical variables:\n\n<ul>\n    <li>Diabetes</li>\n    <li>HTN</li>\n    <li>Serum cholesterol</li>\n    <li>Follow Up</li>\n    <li>Gender-male</li>\n</ul>\n\nCategorical variables:\n\n<ul>\n    <li>Age Group</li>\n    <li>SK React</li>\n    <li>Diagnosis</li>\n    <li>Others</li>\n</ul>\n\n<p>As we now move into building machine learning models to automate our analysis, feeding the model with variables that meaningfully affect our target variable will improve our model's prediction performance.</p>\n"
      ]
    },
    {
      "cell_type": "markdown",
      "id": "4be38d5b-e7ca-498d-b6b4-868c75739e0a",
      "metadata": {},
      "outputs": [],
      "source": [
        "### Thank you for completing this lab!\n\n## Author\n\n<a href=\"https://author.skills.network/instructors/bohdan_kuno\">Bohdan Kuno</a>\n\n### Other Contributors\n\n<a href=\"https://author.skills.network/instructors/yaroslav_vyklyuk_2\">Prof. Yaroslav Vyklyuk, DrSc, PhD</a>\n\n<a href=\"https://author.skills.network/instructors/nataliya_boyko\">Ass. Prof. Nataliya Boyko, PhD</a>\n\n## Change Log\n\n| Date (YYYY-MM-DD) | Version | Changed By | Change Description                                         |\n| ----------------- | ------- | ---------- | ---------------------------------------------------------- |\n|2023-03-11|01|Bohdan Kuno|Lab created|\n\n\n<hr>\n\n## <h3 align=\"center\"> © IBM Corporation 2023. All rights reserved. <h3/>\n"
      ]
    }
  ],
  "metadata": {
    "language_info": {
      "name": ""
    },
    "kernelspec": {
      "name": "",
      "display_name": ""
    }
  },
  "nbformat": 4,
  "nbformat_minor": 4
}