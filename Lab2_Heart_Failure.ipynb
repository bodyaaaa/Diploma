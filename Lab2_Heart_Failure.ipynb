{
  "cells": [
    {
      "cell_type": "markdown",
      "id": "d13f8f27-67a2-405b-b36c-d0b3feaee232",
      "metadata": {},
      "outputs": [],
      "source": [
        "<center>\n    <img src=\"https://cf-courses-data.s3.us.cloud-object-storage.appdomain.cloud/assets/logos/SN_web_lightmode.png\" width=\"300\" alt=\"cognitiveclass.ai logo\">\n</center>\n\n# **Heart Failure Prediction**\n\n# Lab 2. Data Wrangling\n\n# Abstract\n\nIn this lab, taking patient data into account, you will learn how to perform some fundamental heart failure data aggregation tasks, which together form the preprocessing step of patient treatment data analysis. These tasks include handling missing values in medical data, formatting data for standardization and consistency, normalizing data, grouping data values into bins, and converting categorical variables to numerical quantitative variables.\n\nEstimated time needed: **30** minutes\n\n## Objectives\n\nAfter completing this lab you will be able to:\n\n*   Handle missing values\n*   Correct data format\n*   Standardize and normalize data\n"
      ]
    },
    {
      "cell_type": "markdown",
      "id": "5f178e3f-884b-4af3-a80d-b943ac2dd46d",
      "metadata": {},
      "outputs": [],
      "source": [
        "<h2>Table of Contents</h2>\n\n<div class=\"alert alert-block alert-info\" style=\"margin-top: 20px\">\n<ol>\n    <li><a href=\"#identify_handle_missing_values\">Identify and handle missing values</a>\n        <ul>\n            <li><a href=\"#identify_missing_values\">Identify missing values</a></li>\n            <li><a href=\"#deal_missing_values\">Deal with missing values</a></li>\n            <li><a href=\"#correct_data_format\">Correct data format</a></li>\n        </ul>\n    </li>\n    <li><a href=\"#data_standardization\">Data standardization</a></li>\n    <li><a href=\"#data_normalization\">Data normalization (centering/scaling)</a></li>\n    <li><a href=\"#binning\">Binning</a></li>\n    <li><a href=\"#indicator\">Indicator variable</a></li>\n</ol>\n\n</div>\n\n<hr>\n"
      ]
    },
    {
      "cell_type": "markdown",
      "id": "854052cf-2440-474d-8f7d-c0d7a95b5537",
      "metadata": {},
      "outputs": [],
      "source": [
        "<h2>What is the purpose of data wrangling?</h2>\n"
      ]
    },
    {
      "cell_type": "markdown",
      "id": "edcf028a-8b76-4999-b04b-6d8b53e3a79d",
      "metadata": {},
      "outputs": [],
      "source": [
        "Data wrangling is the process of converting data from the initial format to a format that may be better for analysis.\n"
      ]
    },
    {
      "cell_type": "markdown",
      "id": "8fa63287-5bcc-487b-bb75-b283da4e48af",
      "metadata": {},
      "outputs": [],
      "source": [
        "<h3>Import data</h3>\n<p>\nYou can find the \"The Heart Failure Prediction Dataset\" from the following link: <br><a href=\"https://www.kaggle.com/datasets/asgharalikhan/mortality-rate-heart-patient-pakistan-hospital\" target=\"_blank\">https://www.kaggle.com/datasets/asgharalikhan/mortality-rate-heart-patient-pakistan-hospital</a>. <br><br>\nThe statistical data obtained from <a href=\\\"https://www.kaggle.com/datasets/asgharalikhan/mortality-rate-heart-patient-pakistan-hospital\\\" target=\\\"_blank\\\">https://www.kaggle.com/datasets/asgharalikhan/mortality-rate-heart-patient-pakistan-hospital</a> under <a href=\\\"https://creativecommons.org/publicdomain/zero/1.0/\\\" target=\\\"_black\\\">CC0: Public Domain</a> license.\nWe will be using this dataset throughout this course.\n</p>\n"
      ]
    },
    {
      "cell_type": "markdown",
      "id": "f0007e10-0023-40f4-b487-6988a0a21ed3",
      "metadata": {},
      "outputs": [],
      "source": [
        "<h4>Import pandas</h4> \n"
      ]
    },
    {
      "cell_type": "code",
      "id": "cb1194f9-d7d5-4b4d-82b6-932be70b080b",
      "metadata": {},
      "outputs": [],
      "source": [
        "#install specific version of libraries used in lab\n#! mamba install pandas==1.3.3\n#! mamba install numpy=1.21.2\n"
      ]
    },
    {
      "cell_type": "code",
      "id": "06938435-4c2d-4920-8f4a-42f5bb1e5c57",
      "metadata": {},
      "outputs": [],
      "source": [
        "conda install -c anaconda scikit-learn"
      ]
    },
    {
      "cell_type": "code",
      "id": "0ff4003c-9131-4459-af9d-55490449820e",
      "metadata": {},
      "outputs": [],
      "source": [
        "import pandas as pd\nimport numpy as np\nimport matplotlib as plt\nfrom matplotlib import pyplot\nfrom sklearn.metrics import mean_absolute_percentage_error\nfrom sklearn.metrics import confusion_matrix, recall_score\nfrom sklearn import preprocessing\nimport scipy.stats as stats"
      ]
    },
    {
      "cell_type": "markdown",
      "id": "fc492640-58ed-4497-822e-037b12f52231",
      "metadata": {},
      "outputs": [],
      "source": [
        "<h2>Reading the dataset from the URL and adding the related headers</h2>\n"
      ]
    },
    {
      "cell_type": "markdown",
      "id": "d2386856-7515-4ca8-9798-b728f645e2df",
      "metadata": {},
      "outputs": [],
      "source": [
        "First, we assign the URL of the dataset to \"filename\".\n"
      ]
    },
    {
      "cell_type": "code",
      "id": "8186e9cf-0294-49d9-8bb3-12a398f2cec0",
      "metadata": {},
      "outputs": [],
      "source": [
        "filename = \"https://cf-courses-data.s3.us.cloud-object-storage.appdomain.cloud/IBMSkillsNetwork-GPXX0ONPEN/heart_failure_new.csv\""
      ]
    },
    {
      "cell_type": "markdown",
      "id": "20346811-c84a-453a-ad58-507bc112ea10",
      "metadata": {},
      "outputs": [],
      "source": [
        "Use the Pandas method <b>read_csv()</b> to load the data from the web address.\n"
      ]
    },
    {
      "cell_type": "code",
      "id": "2f7c9064-b35b-42ec-a3ce-cef3df06c28d",
      "metadata": {},
      "outputs": [],
      "source": [
        "df = pd.read_csv(filename)"
      ]
    },
    {
      "cell_type": "markdown",
      "id": "c68706da-52e3-445e-bbe1-ad2fcc46ec39",
      "metadata": {},
      "outputs": [],
      "source": [
        "Let's set number of digits in float type."
      ]
    },
    {
      "cell_type": "code",
      "id": "f7e70274-b46d-4362-abaa-0939ee623cce",
      "metadata": {},
      "outputs": [],
      "source": [
        "pd.options.display.float_format = '{:.2f}'.format"
      ]
    },
    {
      "cell_type": "markdown",
      "id": "09c22b78-bcf6-4472-8c9e-eb5e17f7e7f4",
      "metadata": {},
      "outputs": [],
      "source": [
        "Use the method <b>head()</b> to display the first five rows of the dataframe.\n"
      ]
    },
    {
      "cell_type": "code",
      "id": "bd176792-675a-4694-aad3-4eb1c1d5027d",
      "metadata": {},
      "outputs": [],
      "source": [
        "# To see what the data set looks like, we'll use the head() method.\ndf.head()"
      ]
    },
    {
      "cell_type": "markdown",
      "id": "5aba6044-b901-4010-a097-9f501ab73b2b",
      "metadata": {},
      "outputs": [],
      "source": [
        "<h4>Generate missing values</h4>\n\nIn order to show how to deal with missing values of dataframe in practice, we need to create NaN values in some columns. We will change \"RBC\", \"Hemoglobin\", \"PCV\", \"Category\", \"Mortality\" columns.\n\nBut before that we need to create new dataframe, so that we can compare it with original one and determine errors."
      ]
    },
    {
      "cell_type": "code",
      "id": "c000ec65-61e8-4a2f-a38b-f5f1ce949b36",
      "metadata": {},
      "outputs": [],
      "source": [
        "df2 = df.copy()"
      ]
    },
    {
      "cell_type": "markdown",
      "id": "de824934-c1bc-4b39-8598-a3da1d8e27d3",
      "metadata": {},
      "outputs": [],
      "source": [
        "Now let's generate NaN values. We will do it randomly with <code>numpy.random</code> and replace values with <code>pandas.DataFrame.loc</code>"
      ]
    },
    {
      "cell_type": "code",
      "id": "e7c4b2f3-7920-453f-8b1a-c92d05c16116",
      "metadata": {},
      "outputs": [],
      "source": [
        "#Set percentage of NaN values in each column\ncol = {'RBC': 0.15, 'Hemoglobin': 0.1, 'PCV': 0.12, 'Category': 0.1, 'Mortality': 0.01}\n#Create masks dictionary with positions of NaN values\nmasks = {}\n#Replace values by NaN randomly\nfor c in col:\n    m = np.random.rand(len(df2)) #creates arr of values from 0 to 1\n    mask = m < col[c]\n    masks.update({c:mask})\n    df2.loc[mask, c] = np.NaN\ndf2"
      ]
    },
    {
      "cell_type": "markdown",
      "id": "956fca4f-6891-412a-8501-6edaa0b1830b",
      "metadata": {},
      "outputs": [],
      "source": [
        "As we can see, several NaN values appeared in the dataframe; those are missing values which may hinder our further analysis.\n\n<div>So, how do we identify all those missing values and deal with them?</div>\n\n<b>How to work with missing data?</b>\n\nSteps for working with missing data:\n\n<ol>\n    <li>Identify missing data</li>\n    <li>Deal with missing data</li>\n    <li>Correct data format</li>\n</ol>"
      ]
    },
    {
      "cell_type": "markdown",
      "id": "b0d21d41-ca98-4b90-a9fa-4300b9eb8702",
      "metadata": {},
      "outputs": [],
      "source": [
        "<a id=\"identify_handle_missing_values\"></a><h2>1. Identify and handle missing values</h2> \n<a  id=\"identify_missing_values\"></a><h3>Identify missing values</h3>\n<h4>Evaluating for Missing Data</h4>\n\nThe missing values are converted by default. We use the following functions to identify these missing values. There are two methods to detect missing data:\n\n<ol>\n    <li><b>.isnull()</b></li>\n    <li><b>.notnull()</b></li>\n</ol>\nThe output is a boolean value indicating whether the value that is passed into the argument is in fact missing data.\n"
      ]
    },
    {
      "cell_type": "code",
      "id": "122f6261-396a-433e-9c00-5500646de0ae",
      "metadata": {},
      "outputs": [],
      "source": [
        "missing_data = df2[['Category', 'RBC', 'Hemoglobin', 'PCV', 'Mortality']].isnull()\nmissing_data.head(10)"
      ]
    },
    {
      "cell_type": "markdown",
      "id": "428c1b82-3919-4b03-a85c-3893a7684bf8",
      "metadata": {},
      "outputs": [],
      "source": [
        "\"True\" means the value is a missing value while \"False\" means the value is not a missing value.\n"
      ]
    },
    {
      "cell_type": "markdown",
      "id": "f0e364f8-8bab-49be-923c-d465817a04cf",
      "metadata": {},
      "outputs": [],
      "source": [
        "<h4>Count missing values in each column</h4>\n<p>\nUsing a for loop in Python, we can quickly figure out the number of missing values in each column. As mentioned above, \"True\" represents a missing value and \"False\" means the value is present in the dataset.  In the body of the for loop the method \".value_counts()\" counts the number of \"True\" values. \n</p>\n"
      ]
    },
    {
      "cell_type": "code",
      "id": "c6b7b8ad-1c17-4bda-99c6-c5f02e3b1c0e",
      "metadata": {},
      "outputs": [],
      "source": [
        "for column in missing_data.columns.values.tolist():\n    print(column)\n    print (missing_data[column].value_counts())\n    print(\"\")"
      ]
    },
    {
      "cell_type": "markdown",
      "id": "9c686c8d-a28a-4862-a6b0-96179372c850",
      "metadata": {},
      "outputs": [],
      "source": [
        "Based on the summary above, each column has 368 rows of data and containing missing data:\n\n<ol>\n    <li>\"Category\": ~10% missing data</li>\n    <li>\"RBC\": ~15% missing data</li>\n    <li>\"Hemoglobin\": ~10% missing data</li>\n    <li>\"PCV\": ~12% missing data</li>\n    <li>\"Mortality\": ~1% missing data</li>\n</ol>\n"
      ]
    },
    {
      "cell_type": "markdown",
      "id": "e779af40-bbf3-42d3-a931-81cb0afd416f",
      "metadata": {},
      "outputs": [],
      "source": [
        "<a id=\"deal_missing_values\"></a><h3>Deal with missing data</h3>\n<b>How to deal with missing data?</b>\n\n<ol>\n    <li>Drop data<br>\n        a. Drop the whole row<br>\n        b. Drop the whole column\n    </li>\n    <li>Replace data<br>\n        a. Replace it by mean<br>\n        b. Replace it by frequency<br>\n        c. Replace it based on other functions\n    </li>\n</ol>\n"
      ]
    },
    {
      "cell_type": "markdown",
      "id": "d9292125-e9fa-44dc-ba0a-6ae7af26cd1e",
      "metadata": {},
      "outputs": [],
      "source": [
        "Whole columns should be dropped only if most entries in the column are empty. In our dataset, none of the columns are empty enough to drop entirely.\nWe have some freedom in choosing which method to replace data; however, some methods may seem more reasonable than others. We will apply each method to many different columns:\n\n<b>Replace by mean:</b>\n\n<ul>\n    <li>\"RBC\": replace them with mean</li>\n    <li>\"Hemoglobin\": replace them with mean</li>\n    <li>\"PCV\": replace them with mean</li>\n</ul>\n\n<b>Replace by frequency:</b>\n\n<ul>\n    <li>\"Category\": replace them with \"FREE\".\n        <ul>\n            <li>Reason: 90% are \"FREE\". Since this value is most frequent, it is most likely to occur</li>\n        </ul>\n    </li>\n</ul>\n\n<b>Drop the whole row:</b>\n\n<ul>\n    <li>\"Mortality\": simply delete the whole row\n        <ul>\n            <li>Reason: mortality is what we want to predict. Any data entry without mortality data cannot be used for prediction; therefore any row now without price data is not useful to us</li>\n        </ul>\n    </li>\n</ul>\n"
      ]
    },
    {
      "cell_type": "markdown",
      "id": "c9e54d72-a50c-4c0a-8fe2-bb6796287e78",
      "metadata": {},
      "outputs": [],
      "source": [
        "<h4>Calculate the mean value for the \"RBC\" column </h4>\n"
      ]
    },
    {
      "cell_type": "code",
      "id": "5a4344ef-e246-41b9-ae00-a3adc109c216",
      "metadata": {},
      "outputs": [],
      "source": [
        "avg_rbc = df2[\"RBC\"].mean(axis=0)\nprint(\"Average of RBC:\", round(avg_rbc, 2))"
      ]
    },
    {
      "cell_type": "markdown",
      "id": "7b057ec2-3286-4b10-8138-2e89cb526128",
      "metadata": {},
      "outputs": [],
      "source": [
        "<h4>Replace \"NaN\" with mean value in \"RBC\" column</h4>\n"
      ]
    },
    {
      "cell_type": "code",
      "id": "bb3ff458-3342-4abc-b438-def5a71c4461",
      "metadata": {},
      "outputs": [],
      "source": [
        "df2[\"RBC\"].replace(np.nan, avg_rbc, inplace=True)"
      ]
    },
    {
      "cell_type": "markdown",
      "id": "d39570f9-df85-4693-85d3-6368fb501d15",
      "metadata": {},
      "outputs": [],
      "source": [
        "<h4>Calculate error between old and new values in \"RBC\" column</h4>\nTo calculate it we will use <code>sklearn.metrics.mean_absolute_percentage_error</code>. Mean absolute percentage error will show accuracy of recovery of missing values."
      ]
    },
    {
      "cell_type": "code",
      "id": "901f5138-47ea-487d-8876-8788a2fede2f",
      "metadata": {},
      "outputs": [],
      "source": [
        "mape_rbc = mean_absolute_percentage_error(df.loc[masks['RBC'], 'RBC'], df2.loc[masks['RBC'], 'RBC'])\nprint('Error of RBC: ', round(mape_rbc, 2)*100, '%')"
      ]
    },
    {
      "cell_type": "markdown",
      "id": "1c001b5a-03cb-4028-93e3-55f568e53fca",
      "metadata": {},
      "outputs": [],
      "source": [
        "<h4>Calculate the mean value for the \"Hemoglobin\" column</h4>\n"
      ]
    },
    {
      "cell_type": "code",
      "id": "d7931c7f-6b0e-4d95-b4b1-3dac3e5be5bb",
      "metadata": {},
      "outputs": [],
      "source": [
        "avg_hemoglobin = df2['Hemoglobin'].mean(axis=0)\nprint(\"Average of Hemoglobin:\", round(avg_hemoglobin, 2))"
      ]
    },
    {
      "cell_type": "markdown",
      "id": "020fd9a8-3a94-4949-bbaf-33603125a338",
      "metadata": {},
      "outputs": [],
      "source": [
        "<h4>Replace \"NaN\" with the mean value in the \"Hemoglobin\" column</h4>\n"
      ]
    },
    {
      "cell_type": "code",
      "id": "b14e4cd4-e244-4bc6-810a-80bd786914a9",
      "metadata": {},
      "outputs": [],
      "source": [
        "df2[\"Hemoglobin\"].replace(np.nan, int(avg_hemoglobin), inplace=True)"
      ]
    },
    {
      "cell_type": "code",
      "id": "91cabff2-f581-466b-aa99-8feeefe15e91",
      "metadata": {},
      "outputs": [],
      "source": [
        "mape_hemoglobin = mean_absolute_percentage_error(df.loc[masks['Hemoglobin'], 'Hemoglobin'],\n                                                 df2.loc[masks['Hemoglobin'], 'Hemoglobin'])\nprint(\"Error of Hemoglobin\", round(mape_hemoglobin, 2)*100, '%')"
      ]
    },
    {
      "cell_type": "markdown",
      "id": "672a7d3c-a830-435d-b770-cba8383b97c4",
      "metadata": {},
      "outputs": [],
      "source": [
        "<div class=\"alert alert-danger alertdanger\" style=\"margin-top: 20px\">\n<h1> Question  #1: </h1>\n\n<b>Based on the example above, replace NaN in \"PCV\" column with the mean value and calculate the error.</b>\n\n</div>\n"
      ]
    },
    {
      "cell_type": "code",
      "id": "cab64d81-d682-4d18-8b26-4a1ea0f05aae",
      "metadata": {},
      "outputs": [],
      "source": [
        "# Write your code below and press Shift+Enter to execute\n"
      ]
    },
    {
      "cell_type": "markdown",
      "id": "56694012-db13-4fd6-ab18-b7691401f97d",
      "metadata": {},
      "outputs": [],
      "source": [
        "<details><summary>Click here for the solution</summary>\n\n```python\n#Calculate the mean value for \"PCV\" column\navg_pcv = df2[\"PCV\"].mean(axis = 0)\nprint(\"Average of PCV:\", round(avg_pcv, 2))\n\n# replace NaN by mean value in \"PCV\" column\ndf2[\"PCV\"].replace(np.nan, avg_pcv, inplace = True)\n\n# calculate the error\nmape_pcv = mean_absolute_percentage_error(df.loc[masks['PCV'], 'PCV'],\n                                                 df2.loc[masks['PCV'], 'PCV'])\nprint(\"Error of PCV\", round(mape_pcv, 2)*100, '%')\n```\n\n</details>\n"
      ]
    },
    {
      "cell_type": "markdown",
      "id": "840806c9-9af7-4fe5-ab31-1f6ebf85cdc0",
      "metadata": {},
      "outputs": [],
      "source": [
        "To see which values are present in a particular column, we can use the \".value_counts()\" method:\n"
      ]
    },
    {
      "cell_type": "code",
      "id": "5bf90da6-279a-4fa2-a932-cb3821e1483f",
      "metadata": {},
      "outputs": [],
      "source": [
        "df2['Category'].value_counts()"
      ]
    },
    {
      "cell_type": "markdown",
      "id": "937c1381-de74-414d-8f29-dc005136156c",
      "metadata": {},
      "outputs": [],
      "source": [
        "We can see that \"FREE\" is the most common value. We can also use the \".idxmax()\" method to calculate the most common type automatically:\n"
      ]
    },
    {
      "cell_type": "code",
      "id": "c471c8f1-aec7-45b9-9016-1e66a3792921",
      "metadata": {},
      "outputs": [],
      "source": [
        "df2['Category'].value_counts().idxmax()"
      ]
    },
    {
      "cell_type": "markdown",
      "id": "1fe7f30a-1611-48b2-827b-ccc830c1dd31",
      "metadata": {},
      "outputs": [],
      "source": [
        "The replacement procedure is very similar to what we have seen previously:\n"
      ]
    },
    {
      "cell_type": "code",
      "id": "74085d15-7358-4056-a12a-ec1910070320",
      "metadata": {},
      "outputs": [],
      "source": [
        "df2[\"Category\"].replace(np.nan, \"FREE\", inplace=True)"
      ]
    },
    {
      "cell_type": "markdown",
      "id": "43f52595-da0a-41ff-b402-f870330e93a1",
      "metadata": {},
      "outputs": [],
      "source": [
        "We can calculate error here as well, using <code>sklearn.metrics.confusion_matrix</code>. It will show how many values are recovered correctly. If there are numbers only in main diagonal of the matrix, all data has been recovered properly. And we can use <code>sklearn.metrics.recall_score</code> to see how many % of values are restored correctly."
      ]
    },
    {
      "cell_type": "code",
      "id": "1af0998f-2b32-4f94-9f89-429a28ea12ea",
      "metadata": {},
      "outputs": [],
      "source": [
        "print(confusion_matrix(df.loc[masks['Category'], 'Category'], df2.loc[masks['Category'], 'Category']))\n\nerror = 1 - recall_score(df.loc[masks['Category'], 'Category'], df2.loc[masks['Category'], 'Category'], average='micro')\nprint(\"Error of MaritalStatus\", round(error, 2)*100, '%')"
      ]
    },
    {
      "cell_type": "markdown",
      "id": "5cd3c602-8c8e-4e76-b020-aeb532afbb13",
      "metadata": {},
      "outputs": [],
      "source": [
        "Finally, let's drop all rows that do not have mortality data:\n"
      ]
    },
    {
      "cell_type": "code",
      "id": "6fe7a4d9-e791-4dab-8003-3506c218c9f7",
      "metadata": {},
      "outputs": [],
      "source": [
        "# simply drop whole row with NaN in \"Mortality\" column\ndf2.dropna(subset=[\"Mortality\"], axis=0, inplace=True)\n\n# reset index, because we dropped rows\ndf2.reset_index(drop=True, inplace=True)\ndf2"
      ]
    },
    {
      "cell_type": "markdown",
      "id": "53f15af0-a04a-4d19-a04a-bfbc2fc8a34d",
      "metadata": {},
      "outputs": [],
      "source": [
        "<b>Good!</b> Now, we have a dataset with no missing values. So we can move back to initial dataset <code>df</code>, because it was only an example of how to fix missing values.\n"
      ]
    },
    {
      "cell_type": "markdown",
      "id": "961a1cfa-e819-4ca8-b9ca-8d76eb977172",
      "metadata": {},
      "outputs": [],
      "source": [
        "<a id=\"correct_data_format\"></a><h3>Correct data format</h3>\n<b>We are almost there!</b>\n<p>The last step in data cleaning is checking and making sure that all data is in the correct format (int, float, text or other).</p>\n\nIn Pandas, we use:\n\n<p><b>.dtype()</b> to check the data type</p>\n<p><b>.astype()</b> to change the data type</p>\n"
      ]
    },
    {
      "cell_type": "markdown",
      "id": "9a88f370-c5b0-4c66-8f7b-e3ad92ba40ed",
      "metadata": {},
      "outputs": [],
      "source": [
        "<h4>Let's list the data types for each column</h4>\n"
      ]
    },
    {
      "cell_type": "code",
      "id": "9055ae22-d1cb-47a7-a88b-e3a2e76a563b",
      "metadata": {},
      "outputs": [],
      "source": [
        "df.dtypes"
      ]
    },
    {
      "cell_type": "markdown",
      "id": "f00c371f-c848-4c55-8f4c-1ac69906a5ce",
      "metadata": {},
      "outputs": [],
      "source": [
        "<p>As we can see above, some columns are not of the correct data type. For example, there are columns such as \"Lifestyle\", \"Sleep\", \"Depression\", which have 'YES' and 'NO' values. We need to convert them into boolean type. Columns with string data, that can be divided into categories should have categorical type. We have to convert data types into a proper format for each column using the \"astype()\" method.</p>\n"
      ]
    },
    {
      "cell_type": "markdown",
      "id": "2500739d-add3-428c-a265-2fc624b86d8e",
      "metadata": {},
      "outputs": [],
      "source": [
        "<h4>Convert data types to proper format</h4>\n"
      ]
    },
    {
      "cell_type": "markdown",
      "id": "942f0510-6e08-43e8-b80b-90699b2f836f",
      "metadata": {},
      "outputs": [],
      "source": [
        "Convert 'YES' and 'NO' values to boolean type using <code>pandas.Series.map</code>"
      ]
    },
    {
      "cell_type": "code",
      "id": "90583e81-eea7-4143-b1cc-887d8ea8ea75",
      "metadata": {},
      "outputs": [],
      "source": [
        "col = ['Lifestyle', 'Sleep', 'Depression', 'Hyperlipidemia', 'Smoking', 'HTN', 'Allergies', 'Hypersensitivity']\nfor c in col:\n    df[c] = df[c].map({'YES': True, 'NO': False})"
      ]
    },
    {
      "cell_type": "markdown",
      "id": "301e0d62-426d-41a6-b0b5-fe2e9c2153be",
      "metadata": {},
      "outputs": [],
      "source": [
        "Convert some object columns to category"
      ]
    },
    {
      "cell_type": "code",
      "id": "312b9402-de5f-4200-b141-149145e3379e",
      "metadata": {},
      "outputs": [],
      "source": [
        "col = ['Age Group', 'Gender', 'Locality', 'Marital Status', 'Category', 'SK React', 'Chest pain type',\n       'Resting electrocardiographic', 'Slope', 'Vessels num', 'Thal', 'Num']\ndf[col] = df[col].astype(\"category\")"
      ]
    },
    {
      "cell_type": "markdown",
      "id": "ab3142af-4973-4184-a45d-783e5646cf72",
      "metadata": {},
      "outputs": [],
      "source": [
        "<h4>Let us list the columns after the conversion</h4>\n"
      ]
    },
    {
      "cell_type": "code",
      "id": "8df9e413-0fff-4868-94ce-87432a0ff7b4",
      "metadata": {},
      "outputs": [],
      "source": [
        "df.dtypes"
      ]
    },
    {
      "cell_type": "markdown",
      "id": "3911ce46-9b1d-4a6d-8b3a-bcdf19e45657",
      "metadata": {},
      "outputs": [],
      "source": [
        "<b>Wonderful!</b>\n\nNow we have finally obtained the cleaned dataset with no missing values with all data in its proper format.\n"
      ]
    },
    {
      "cell_type": "markdown",
      "id": "f613f1b5-21f6-4a78-a9d5-e07e6b125584",
      "metadata": {},
      "outputs": [],
      "source": [
        "<a id=\"data_standardization\"></a><h2>2. Data Standardization</h2>\n<p>\nData is usually collected from different agencies in different formats.\n(Data standardization is also a term for a particular type of data normalization where we subtract the mean and divide by the standard deviation.)\n</p>\n\n<b>What is standardization?</b>\n\n<p>Standardization is the process of transforming data into a common format, allowing the researcher to make the meaningful comparison.\n</p>\n\n<b>Example</b>\n\n<p>Transform mg/dL to mmol/L:</p>\n<p>In our dataset, the columns \"Hemoglobin\" and \"Chol\" (Cholesterol) are represented by g/dL and mg/dL units.</p>\n<p>We will need to apply <b>data transformation</b> to transform g/dL and mg/dL into mmol/L.</p>\n"
      ]
    },
    {
      "cell_type": "markdown",
      "id": "3e4600f5-a462-4f8c-b50f-ce70d98f1950",
      "metadata": {},
      "outputs": [],
      "source": [
        "<p>The formula for unit conversion of Hemoglobin is:<p>\nmmol/L = g/dL * 0.6206\n<p>We can do many mathematical operations directly in Pandas.</p>\n"
      ]
    },
    {
      "cell_type": "code",
      "id": "efced358-d0e6-40fb-bc62-bfc8432d3267",
      "metadata": {},
      "outputs": [],
      "source": [
        "df.head()"
      ]
    },
    {
      "cell_type": "code",
      "id": "f811d774-60a6-4151-b9d1-db178146886d",
      "metadata": {},
      "outputs": [],
      "source": [
        "# Set Hemoglobin as mmol/L\ndf['Hemoglobin'] = df['Hemoglobin'] * 0.6206\n\n# check your transformed data\ndf"
      ]
    },
    {
      "cell_type": "markdown",
      "id": "a7a73d6e-ed0b-4fdb-8393-f2305b703d9c",
      "metadata": {},
      "outputs": [],
      "source": [
        "<div class=\"alert alert-danger alertdanger\" style=\"margin-top: 20px\">\n<h1> Question  #2: </h1>\n\n<b>According to the example above, transform mg/dL to mmol/L in the column of \"Serum cholesterol\".</b>\nFormula:\nmmol/L = mg/dL * 0.02586\n\n</div>\n"
      ]
    },
    {
      "cell_type": "code",
      "id": "d122d5a5-18e3-4932-9d42-6d4af1943ec2",
      "metadata": {},
      "outputs": [],
      "source": [
        "# Write your code below and press Shift+Enter to execute \n"
      ]
    },
    {
      "cell_type": "markdown",
      "id": "e6e8cf56-8f5a-4f45-9d55-7aeca4da0464",
      "metadata": {},
      "outputs": [],
      "source": [
        "<details><summary>Click here for the solution</summary>\n\n```python\n# transform mpg to L/100km by mathematical operation (235 divided by mpg)\ndf['Serum cholesterol'] = df['Serum cholesterol'] * 0.02586\ndf\n\n```\n\n</details>\n"
      ]
    },
    {
      "cell_type": "markdown",
      "id": "f04a59d8-f986-435a-a7c1-71ac51007bce",
      "metadata": {},
      "outputs": [],
      "source": [
        "Let's have a look at \"Neutrophil\" column. There is data distributed in range from 0 to 1, so that we can see percentage of neutrophil cells, but there are some fields with 83 value. We need to visualise it."
      ]
    },
    {
      "cell_type": "code",
      "id": "3e097c78-9f75-43e3-a54c-de934d8daac0",
      "metadata": {},
      "outputs": [],
      "source": [
        "df[['Neutrophil']].plot()"
      ]
    },
    {
      "cell_type": "markdown",
      "id": "1a0c1d8b-3770-4e3a-922f-3ac547eb5638",
      "metadata": {},
      "outputs": [],
      "source": [
        "Now we can see, that 10 incorrectly entered values must be fixed by dividing data higher than 1 by 100 and getting percentage in the correct form."
      ]
    },
    {
      "cell_type": "code",
      "id": "df45083a-cfcb-4abc-9306-3e92bb6bf01a",
      "metadata": {},
      "outputs": [],
      "source": [
        "mask = df.Neutrophil > 1\ndf.loc[mask, 'Neutrophil'] = df['Neutrophil'] / 100\ndf[['Neutrophil']].plot()"
      ]
    },
    {
      "cell_type": "markdown",
      "id": "7c74cbe4-fa1c-4a2f-90ce-2b0e5af61a89",
      "metadata": {},
      "outputs": [],
      "source": [
        "Now we can see that it's correct, all data is in range from 0 to 1."
      ]
    },
    {
      "cell_type": "markdown",
      "id": "3696fbec-0c19-4bfb-9ba9-6ebe2263422d",
      "metadata": {},
      "outputs": [],
      "source": [
        "<a id=\"data_normalization\"></a><h2>3. Data Normalization</h2>\n\n<b>Why normalization?</b>\n\n<p>Normalization is the process of transforming values of several variables into a similar range. Typical normalizations include scaling the variable so the variable average is 0, scaling the variable so the variance is 1, or scaling the variable so the variable values range from 0 to 1.\n</p>\n\n<b>Example</b>\n\n<p>To demonstrate normalization, let's say we want to scale the columns \"BP\" and \"Resting BP\".</p>\n<p><b>Target:</b> would like to normalize those variables so their value ranges from 0 to 1</p>\n<p><b>Approach:</b> replace original value with value of <code>MinMaxScaler</code></p>\n"
      ]
    },
    {
      "cell_type": "code",
      "id": "2928442c-947d-45dc-a277-67dfcfc0665b",
      "metadata": {},
      "outputs": [],
      "source": [
        "scaler = preprocessing.MinMaxScaler()\ndf['BP']  = scaler.fit_transform(df[['BP']])\n\ndf"
      ]
    },
    {
      "cell_type": "markdown",
      "id": "ddc888e1-e973-4c65-90d4-0c3b8b786465",
      "metadata": {},
      "outputs": [],
      "source": [
        "<div class=\"alert alert-danger alertdanger\" style=\"margin-top: 20px\">\n<h1> Question #3: </h1>\n\n<b>According to the example above, normalize the column \"Resting BP\".</b>\n\n</div>\n"
      ]
    },
    {
      "cell_type": "code",
      "id": "22336fe4-6a90-43c3-96bd-06b9d64e64e2",
      "metadata": {},
      "outputs": [],
      "source": [
        "# Write your code below and press Shift+Enter to execute \n"
      ]
    },
    {
      "cell_type": "markdown",
      "id": "da93935a-e527-47f8-95a1-de1bf9834870",
      "metadata": {},
      "outputs": [],
      "source": [
        "<details><summary>Click here for the solution</summary>\n\n```python\nscaler = preprocessing.MinMaxScaler()\ndf['Resting BP']  = scaler.fit_transform(df[['Resting BP']])\n\ndf\n\n```\n\n</details>\n"
      ]
    },
    {
      "cell_type": "markdown",
      "id": "e97351d5-5693-4d51-bf3e-fecca466373e",
      "metadata": {},
      "outputs": [],
      "source": [
        "Here we can see we've normalized \"BP\" and \"Resting BP\" in the range of \\[0,1].\n"
      ]
    },
    {
      "cell_type": "markdown",
      "id": "72318a26-7f6a-4eca-b461-b3dabeea0ae5",
      "metadata": {},
      "outputs": [],
      "source": [
        "<a id=\"binning\"></a><h2>4. Binning</h2>\n<b>Why binning?</b>\n<p>\n    Binning is a process of transforming continuous numerical variables into discrete categorical 'bins' for grouped analysis.\n</p>\n\n<b>Example: </b>\n\n<p>In our dataset, \"Max heart rate\" (maximum heart rate achieved) is a real valued variable ranging from 71 to 195 and it has 71 unique values. What if we only care about the difference between patients with high heart rate, medium heart rate and little heart rate (3 types)? Can we rearrange them into three ‘bins' to simplify analysis? </p>\n\n<p>We will use the pandas method 'cut' to segment the 'Max heart rate' column into 3 bins.</p>\n"
      ]
    },
    {
      "cell_type": "markdown",
      "id": "95df3419-73d1-4001-959c-f50eb9f201ed",
      "metadata": {},
      "outputs": [],
      "source": [
        "<h3>Example of Binning Data In Pandas</h3>\n"
      ]
    },
    {
      "cell_type": "markdown",
      "id": "598ded03-af4c-42cf-8224-304aeb33ecb5",
      "metadata": {},
      "outputs": [],
      "source": [
        "Let's plot the histogram of max heart rate to see what the distribution looks like.\n"
      ]
    },
    {
      "cell_type": "code",
      "id": "63c66ed6-7d31-483c-8b8a-b17483e1f274",
      "metadata": {},
      "outputs": [],
      "source": [
        "%matplotlib inline\n\nplt.pyplot.hist(df[\"Max heart rate\"])\n\n# set x/y labels and plot title\nplt.pyplot.xlabel(\"Max heart rate achieved\")\nplt.pyplot.ylabel(\"count\")\nplt.pyplot.title(\"Max heart rate bins\")"
      ]
    },
    {
      "cell_type": "markdown",
      "id": "54731055-ecfb-4f01-900b-4c285597aaee",
      "metadata": {},
      "outputs": [],
      "source": [
        "<p>We would like 3 bins of equal size bandwidth so we use numpy's <code>linspace(start_value, end_value, numbers_generated</code> function.</p>\n<p>Since we want to include the minimum value of heart rate, we want to set start_value = min(df[\"Max heart rate\"]).</p>\n<p>Since we want to include the maximum value of heart rate, we want to set end_value = max(df[\"Max heart rate\"]).</p>\n<p>Since we are building 3 bins of equal length, there should be 4 dividers, so numbers_generated = 4.</p>\n"
      ]
    },
    {
      "cell_type": "markdown",
      "id": "4b218053-c462-4300-bf3c-50dbe890bf03",
      "metadata": {},
      "outputs": [],
      "source": [
        "We build a bin array with a minimum value to a maximum value by using the bandwidth calculated above. The values will determine when one bin ends and another begins.\n"
      ]
    },
    {
      "cell_type": "code",
      "id": "0a74cb6e-c73a-4508-99a7-7e63698b37ce",
      "metadata": {},
      "outputs": [],
      "source": [
        "bins = np.linspace(min(df[\"Max heart rate\"]), max(df[\"Max heart rate\"]), 4)\nbins"
      ]
    },
    {
      "cell_type": "markdown",
      "id": "5e1fee09-cdec-4641-bca4-64d86f818d49",
      "metadata": {},
      "outputs": [],
      "source": [
        "We set group  names:\n"
      ]
    },
    {
      "cell_type": "code",
      "id": "0d95119b-0d7f-4352-ac78-62dbf88ecd51",
      "metadata": {},
      "outputs": [],
      "source": [
        "group_names = ['Low', 'Medium', 'High']"
      ]
    },
    {
      "cell_type": "markdown",
      "id": "6341f0d5-b7f7-4921-be3b-3f3863b97e69",
      "metadata": {},
      "outputs": [],
      "source": [
        "We apply the function \"cut\" to determine what each value of `df['Max heart rate']` belongs to.\n"
      ]
    },
    {
      "cell_type": "code",
      "id": "7b6c1550-401e-4ab0-abe6-66cf35fb5ff2",
      "metadata": {},
      "outputs": [],
      "source": [
        "df['Max heart rate-binned'] = pd.cut(df['Max heart rate'], bins, labels=group_names, include_lowest=True )\ndf[['Max heart rate','Max heart rate-binned']].head(20)"
      ]
    },
    {
      "cell_type": "markdown",
      "id": "555a1c1b-31ab-41e6-a145-e79d2655e659",
      "metadata": {},
      "outputs": [],
      "source": [
        "Let's see the number of patients in each bin:\n"
      ]
    },
    {
      "cell_type": "code",
      "id": "41258cd9-a695-4cf9-956c-4f6e965eaee3",
      "metadata": {},
      "outputs": [],
      "source": [
        "df['Max heart rate-binned'].value_counts()"
      ]
    },
    {
      "cell_type": "markdown",
      "id": "44deea08-3bba-4e9c-950e-2590c3de2749",
      "metadata": {},
      "outputs": [],
      "source": [
        "Let's plot the distribution of each bin:\n"
      ]
    },
    {
      "cell_type": "code",
      "id": "2c0fded1-ef6c-4c52-a356-cba27e0974c2",
      "metadata": {},
      "outputs": [],
      "source": [
        "pyplot.bar(['Medium', 'High', 'Low'], df[\"Max heart rate-binned\"].value_counts())\n\n# set x/y labels and plot title\nplt.pyplot.xlabel(\"Max heart rate achieved\")\nplt.pyplot.ylabel(\"count\")\nplt.pyplot.title(\"Max heart rate bins\")"
      ]
    },
    {
      "cell_type": "markdown",
      "id": "330cfce9-b4ca-4975-834c-3da7b8fab9cf",
      "metadata": {},
      "outputs": [],
      "source": [
        "<p>\n    Look at the dataframe above carefully. You will find that the last column provides the bins for \"Max heart rate\" based on 3 categories (\"Low\", \"Medium\" and \"High\").\n</p>\n<p>\n    We successfully narrowed down the intervals from 71 to 3!\n</p>\n"
      ]
    },
    {
      "cell_type": "markdown",
      "id": "d3169110-5eaf-4678-ab00-17b91faf0b50",
      "metadata": {},
      "outputs": [],
      "source": [
        "<h3>Bins Visualization</h3>\nNormally, a histogram is used to visualize the distribution of bins we created above. \n"
      ]
    },
    {
      "cell_type": "code",
      "id": "499e3288-c200-451d-87ee-8f6bacc444ab",
      "metadata": {},
      "outputs": [],
      "source": [
        "# draw historgram of attribute \"Max heart rate\" with bins = 3\nplt.pyplot.hist(df[\"Max heart rate\"], bins = 3)\n\n# set x/y labels and plot title\nplt.pyplot.xlabel(\"Max heart rate achieved\")\nplt.pyplot.ylabel(\"count\")\nplt.pyplot.title(\"Max heart rate bins\")"
      ]
    },
    {
      "cell_type": "markdown",
      "id": "6f2d75c5-6e3b-48ea-a935-ad3f0d8f8544",
      "metadata": {},
      "outputs": [],
      "source": [
        "The plot above shows the binning result for the attribute \"Max heart rate\".\n"
      ]
    },
    {
      "cell_type": "markdown",
      "id": "c2fbfc04-50e4-48a4-9fb5-77de2aa7b069",
      "metadata": {},
      "outputs": [],
      "source": [
        "<a id=\"indicator\"></a><h2>5. Indicator Variable (or Dummy Variable)</h2>\n<b>What is an indicator variable?</b>\n<p>\n    An indicator variable (or dummy variable) is a numerical variable used to label categories. They are called 'dummies' because the numbers themselves don't have inherent meaning. \n</p>\n\n<b>Why we use indicator variables?</b>\n\n<p>\n    We use indicator variables so we can use categorical variables for regression analysis in the later modules.\n</p>\n<b>Example</b>\n<p>\n    We see the column \"Gender\" has two unique values: \"Male\" or \"Female\". Regression doesn't understand words, only numbers. To use this attribute in regression analysis, we convert \"Gender\" to indicator variables.\n</p>\n\n<p>\n    We will use pandas' method 'get_dummies' to assign numerical values to different categories of fuel type. \n</p>\n"
      ]
    },
    {
      "cell_type": "code",
      "id": "dc79d5ce-64ca-4f74-bdd7-7bab6ddbe57e",
      "metadata": {},
      "outputs": [],
      "source": [
        "df.columns"
      ]
    },
    {
      "cell_type": "markdown",
      "id": "d0d6f160-28a2-44e3-810e-e4a25095b1f8",
      "metadata": {},
      "outputs": [],
      "source": [
        "Get the indicator variables and assign it to data frame \"dummy_variable\\_1\":\n"
      ]
    },
    {
      "cell_type": "code",
      "id": "6bd4c0b8-930e-479c-a0a7-dd00771e4480",
      "metadata": {},
      "outputs": [],
      "source": [
        "dummy_variable_1 = pd.get_dummies(df[\"Gender\"])\ndummy_variable_1.head()"
      ]
    },
    {
      "cell_type": "markdown",
      "id": "05dae810-aec9-4003-bcac-8abf23c46147",
      "metadata": {},
      "outputs": [],
      "source": [
        "Change the column names for clarity:\n"
      ]
    },
    {
      "cell_type": "code",
      "id": "a311678a-daab-42f3-8c23-4466b2e7705e",
      "metadata": {},
      "outputs": [],
      "source": [
        "dummy_variable_1.rename(columns={'Male':'Gender-male', 'Female':'Gender-female'}, inplace=True)\ndummy_variable_1.head()"
      ]
    },
    {
      "cell_type": "markdown",
      "id": "b83ee540-ccc1-40e7-b1a8-2c9f1a5bebcf",
      "metadata": {},
      "outputs": [],
      "source": [
        "In the dataframe, column 'Gender' has values for 'Male' and 'Female' as 0s and 1s now.\n"
      ]
    },
    {
      "cell_type": "code",
      "id": "afa986cb-696e-49e1-9996-40e369bacd16",
      "metadata": {},
      "outputs": [],
      "source": [
        "# merge data frame \"df\" and \"dummy_variable_1\"\ndf = pd.concat([df, dummy_variable_1], axis=1)\n\n# drop original column \"Gender\" from \"df\"\ndf.drop(\"Gender\", axis = 1, inplace=True)\ndf.head()"
      ]
    },
    {
      "cell_type": "markdown",
      "id": "affdfd1c-9154-44c7-a83f-d401e240fe55",
      "metadata": {},
      "outputs": [],
      "source": [
        "The last two columns are now the indicator variable representation of the gender variable. They're all 0s and 1s now.\n"
      ]
    },
    {
      "cell_type": "markdown",
      "id": "539e7224-6361-4cc1-ab91-21da749dc35e",
      "metadata": {},
      "outputs": [],
      "source": [
        "<div class=\"alert alert-danger alertdanger\" style=\"margin-top: 20px\">\n<h1> Question  #4: </h1>\n\n<b>Similar to before, create an indicator variable for the column \"Locality\"</b>\n\n</div>\n"
      ]
    },
    {
      "cell_type": "code",
      "id": "0aca57c9-75d6-4c2e-9dfb-68a5c9fa9796",
      "metadata": {},
      "outputs": [],
      "source": [
        "# Write your code below and press Shift+Enter to execute\n"
      ]
    },
    {
      "cell_type": "markdown",
      "id": "d404002d-d784-4b72-b487-ce58bf434ca6",
      "metadata": {},
      "outputs": [],
      "source": [
        "<details><summary>Click here for the solution</summary>\n\n```python\n\n# get indicator variables of aspiration and assign it to data frame \"dummy_variable_2\"\ndummy_variable_2 = pd.get_dummies(df['Locality'])\n\n# change column names for clarity\ndummy_variable_2.rename(columns={'URBAN':'Locality-urban', 'RURAL': 'Locality-rural'}, inplace=True)\n\n# show first 5 instances of data frame \"dummy_variable_1\"\ndummy_variable_2.head()\n\n\n```\n\n</details>\n"
      ]
    },
    {
      "cell_type": "markdown",
      "id": "5b0d2096-ccda-4d5a-a1e4-a9eb5f6864ab",
      "metadata": {},
      "outputs": [],
      "source": [
        " <div class=\"alert alert-danger alertdanger\" style=\"margin-top: 20px\">\n<h1> Question  #5: </h1>\n\n<b>Merge the new dataframe to the original dataframe, then drop the column 'Locality'.</b>\n\n</div>\n"
      ]
    },
    {
      "cell_type": "code",
      "id": "fa29ef75-74e6-4c9d-90dd-58f554c83e2b",
      "metadata": {},
      "outputs": [],
      "source": [
        "# Write your code below and press Shift+Enter to execute \n"
      ]
    },
    {
      "cell_type": "markdown",
      "id": "9e59ce67-48a8-44c1-aadd-08c07e3a2a2c",
      "metadata": {},
      "outputs": [],
      "source": [
        "<details><summary>Click here for the solution</summary>\n\n```python\n# merge the new dataframe to the original datafram\ndf = pd.concat([df, dummy_variable_2], axis=1)\n\n# drop original column \"aspiration\" from \"df\"\ndf.drop('Locality', axis = 1, inplace=True)\ndf.dtypes\n\n```\n\n</details>\n"
      ]
    },
    {
      "cell_type": "code",
      "id": "0c57a48d-d091-48da-bfa4-dd5a0349617d",
      "metadata": {},
      "outputs": [],
      "source": [
        "df.to_csv('clean_df.csv', index=False)"
      ]
    },
    {
      "cell_type": "markdown",
      "id": "64d671b8-3387-4ac3-9e3a-a7be61770fca",
      "metadata": {},
      "outputs": [],
      "source": [
        "Save the new csv:\n\n> Note : The  csv file cannot be viewed in the jupyterlite based SN labs environment.\n"
      ]
    },
    {
      "cell_type": "markdown",
      "id": "2e577aee-9b98-4ac2-ad26-38c771c572d0",
      "metadata": {},
      "outputs": [],
      "source": [
        "### Thank you for completing this lab!\n\n## Author\n\n<a href=\"https://author.skills.network/instructors/bohdan_kuno\">Bohdan Kuno</a>\n\n### Other Contributors\n\n<a href=\"https://author.skills.network/instructors/yaroslav_vyklyuk_2\">Prof. Yaroslav Vyklyuk, DrSc, PhD</a>\n\n<a href=\"https://author.skills.network/instructors/nataliya_boyko\">Ass. Prof. Nataliya Boyko, PhD</a>\n\n## Change Log\n\n| Date (YYYY-MM-DD) | Version | Changed By | Change Description                                         |\n| ----------------- | ------- | ---------- | ---------------------------------------------------------- |\n|2023-03-04|01|Bohdan Kuno|Lab created|\n\n\n<hr>\n\n## <h3 align=\"center\"> © IBM Corporation 2023. All rights reserved. <h3/>\n"
      ]
    }
  ],
  "metadata": {
    "language_info": {
      "name": ""
    },
    "kernelspec": {
      "name": "",
      "display_name": ""
    }
  },
  "nbformat": 4,
  "nbformat_minor": 4
}